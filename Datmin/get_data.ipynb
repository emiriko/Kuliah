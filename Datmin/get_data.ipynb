{
 "cells": [
  {
   "cell_type": "code",
   "execution_count": 8,
   "metadata": {},
   "outputs": [],
   "source": [
    "f = open(\"wikidata5m_all_triplet.txt\", \"r\")"
   ]
  },
  {
   "cell_type": "code",
   "execution_count": 9,
   "metadata": {},
   "outputs": [
    {
     "name": "stdout",
     "output_type": "stream",
     "text": [
      "Q7339549 P57 Q1365729\n",
      "Q7339549 P161 Q2745500\n",
      "Q7339549 P462 Q838368\n",
      "Q7339549 P161 Q253384\n",
      "Q7339549 P58 Q676186\n",
      "Q7339549 P161 Q370280\n",
      "Q7339549 P2554 Q1700525\n",
      "Q7339549 P364 Q1860\n",
      "Q7339549 P495 Q30\n",
      "Q7339549 P136 Q130232\n",
      "Q7339549 P344 Q724695\n",
      "Q7339549 P86 Q1818548\n",
      "Q7339549 P31 Q11424\n",
      "Q7339549 P162 Q1188369\n",
      "Q7339549 P272 Q126399\n",
      "Q7339549 P135 Q3408764\n"
     ]
    }
   ],
   "source": [
    "import re\n",
    "import requests\n",
    "\n",
    "entity = \"Q7339549\"\n",
    "\n",
    "while True:\n",
    "    line = f.readline()\n",
    "    if not line:\n",
    "        break\n",
    "    line = line.strip()\n",
    "    data = re.split(r'\\t+', line)\n",
    "    first_entity, relation, second_entity = data\n",
    "    \n",
    "    if(first_entity != entity and second_entity != entity):\n",
    "        continue\n",
    "    \n",
    "    print(f\"{first_entity} {relation} {second_entity}\")\n",
    "    # first_entity_url = \"https://www.wikidata.org/wiki/Special:EntityData/{}.json\".format(first_entity)\n",
    "    # second_entity_url = \"https://www.wikidata.org/wiki/Special:EntityData/{}.json\".format(second_entity)\n",
    "    \n",
    "    # first_entity_response = requests.get(first_entity_url)\n",
    "    # second_entity_response = requests.get(second_entity_url)\n",
    "    \n",
    "    # first_entity_data = first_entity_response.json()\n",
    "    # second_entity_data = second_entity_response.json()\n",
    "    \n",
    "    # first_entity_label = first_entity_data[\"entities\"][first_entity][\"labels\"][\"en\"][\"value\"]\n",
    "    # second_entity_label = second_entity_data[\"entities\"][second_entity][\"labels\"][\"en\"][\"value\"]\n",
    "    \n",
    "    # property_url = \"https://www.wikidata.org/w/api.php?action=wbgetentities&ids={}&props=labels&format=json\".format(relation)\n",
    "    \n",
    "    # property_response = requests.get(property_url)\n",
    "    \n",
    "    # property_data = property_response.json()\n",
    "    \n",
    "    # property_label = property_data[\"entities\"][relation][\"labels\"][\"en\"][\"value\"]\n",
    "    \n",
    "    # print(f\"{first_entity_label} {property_label} {second_entity_label}\")\n",
    "    "
   ]
  }
 ],
 "metadata": {
  "kernelspec": {
   "display_name": "Python 3",
   "language": "python",
   "name": "python3"
  },
  "language_info": {
   "codemirror_mode": {
    "name": "ipython",
    "version": 3
   },
   "file_extension": ".py",
   "mimetype": "text/x-python",
   "name": "python",
   "nbconvert_exporter": "python",
   "pygments_lexer": "ipython3",
   "version": "3.10.6"
  }
 },
 "nbformat": 4,
 "nbformat_minor": 2
}
