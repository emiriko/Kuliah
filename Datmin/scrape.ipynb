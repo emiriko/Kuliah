{
 "cells": [
  {
   "cell_type": "code",
   "execution_count": 5,
   "metadata": {},
   "outputs": [],
   "source": [
    "f = open(\"subset_wikidata.txt\", \"r\")"
   ]
  },
  {
   "cell_type": "code",
   "execution_count": 6,
   "metadata": {},
   "outputs": [
    {
     "name": "stderr",
     "output_type": "stream",
     "text": [
      "C:\\Users\\notal\\AppData\\Local\\Temp\\ipykernel_3024\\1517664599.py:49: FutureWarning: The frame.append method is deprecated and will be removed from pandas in a future version. Use pandas.concat instead.\n",
      "  dataframe = dataframe.append(data_append, ignore_index=True)\n"
     ]
    },
    {
     "name": "stdout",
     "output_type": "stream",
     "text": [
      "1\n"
     ]
    },
    {
     "name": "stderr",
     "output_type": "stream",
     "text": [
      "C:\\Users\\notal\\AppData\\Local\\Temp\\ipykernel_3024\\1517664599.py:49: FutureWarning: The frame.append method is deprecated and will be removed from pandas in a future version. Use pandas.concat instead.\n",
      "  dataframe = dataframe.append(data_append, ignore_index=True)\n"
     ]
    },
    {
     "name": "stdout",
     "output_type": "stream",
     "text": [
      "2\n"
     ]
    },
    {
     "name": "stderr",
     "output_type": "stream",
     "text": [
      "C:\\Users\\notal\\AppData\\Local\\Temp\\ipykernel_3024\\1517664599.py:49: FutureWarning: The frame.append method is deprecated and will be removed from pandas in a future version. Use pandas.concat instead.\n",
      "  dataframe = dataframe.append(data_append, ignore_index=True)\n"
     ]
    },
    {
     "name": "stdout",
     "output_type": "stream",
     "text": [
      "3\n"
     ]
    },
    {
     "name": "stderr",
     "output_type": "stream",
     "text": [
      "C:\\Users\\notal\\AppData\\Local\\Temp\\ipykernel_3024\\1517664599.py:49: FutureWarning: The frame.append method is deprecated and will be removed from pandas in a future version. Use pandas.concat instead.\n",
      "  dataframe = dataframe.append(data_append, ignore_index=True)\n"
     ]
    },
    {
     "name": "stdout",
     "output_type": "stream",
     "text": [
      "4\n"
     ]
    },
    {
     "name": "stderr",
     "output_type": "stream",
     "text": [
      "C:\\Users\\notal\\AppData\\Local\\Temp\\ipykernel_3024\\1517664599.py:49: FutureWarning: The frame.append method is deprecated and will be removed from pandas in a future version. Use pandas.concat instead.\n",
      "  dataframe = dataframe.append(data_append, ignore_index=True)\n"
     ]
    },
    {
     "name": "stdout",
     "output_type": "stream",
     "text": [
      "5\n"
     ]
    },
    {
     "name": "stderr",
     "output_type": "stream",
     "text": [
      "C:\\Users\\notal\\AppData\\Local\\Temp\\ipykernel_3024\\1517664599.py:49: FutureWarning: The frame.append method is deprecated and will be removed from pandas in a future version. Use pandas.concat instead.\n",
      "  dataframe = dataframe.append(data_append, ignore_index=True)\n"
     ]
    },
    {
     "name": "stdout",
     "output_type": "stream",
     "text": [
      "6\n",
      "7\n"
     ]
    },
    {
     "name": "stderr",
     "output_type": "stream",
     "text": [
      "C:\\Users\\notal\\AppData\\Local\\Temp\\ipykernel_3024\\1517664599.py:49: FutureWarning: The frame.append method is deprecated and will be removed from pandas in a future version. Use pandas.concat instead.\n",
      "  dataframe = dataframe.append(data_append, ignore_index=True)\n"
     ]
    }
   ],
   "source": [
    "import re\n",
    "import pandas as pd \n",
    "import requests\n",
    "\n",
    "dataframe = pd.DataFrame()\n",
    "\n",
    "counter = 0\n",
    "\n",
    "while True:\n",
    "    counter += 1\n",
    "    line = f.readline()\n",
    "    if not line:\n",
    "        break\n",
    "    line = line.strip()\n",
    "    data = re.split(r'\\t+', line)\n",
    "    first_entity, relation, second_entity = data\n",
    "    \n",
    "    # Get first Entity information\n",
    "    first_entity_url = \"https://www.wikidata.org/wiki/Special:EntityData/{}.json\".format(first_entity)\n",
    "    second_entity_url = \"https://www.wikidata.org/wiki/Special:EntityData/{}.json\".format(second_entity)\n",
    "    \n",
    "    first_entity_response = requests.get(first_entity_url)\n",
    "    second_entity_response = requests.get(second_entity_url)\n",
    "    \n",
    "    first_entity_data = first_entity_response.json()\n",
    "    second_entity_data = second_entity_response.json()\n",
    "    \n",
    "    first_entity_label = first_entity_data[\"entities\"][first_entity][\"labels\"][\"en\"][\"value\"]\n",
    "    second_entity_label = second_entity_data[\"entities\"][second_entity][\"labels\"][\"en\"][\"value\"]\n",
    "    \n",
    "    property_url = \"https://www.wikidata.org/w/api.php?action=wbgetentities&ids={}&props=labels&format=json\".format(relation)\n",
    "    \n",
    "    property_response = requests.get(property_url)\n",
    "    \n",
    "    property_data = property_response.json()\n",
    "    \n",
    "    property_label = property_data[\"entities\"][relation][\"labels\"][\"en\"][\"value\"]\n",
    "    \n",
    "    data_append = {\n",
    "        \"first_entity\": first_entity,\n",
    "        \"first_entity_label\": first_entity_label,\n",
    "        \"relation\": relation,\n",
    "        \"relation_label\": property_label,\n",
    "        \"second_entity\": second_entity,\n",
    "        \"second_entity_label\": second_entity_label,\n",
    "        \"whole_text\": f\"{first_entity_label} {property_label} {second_entity_label}\"\n",
    "    }\n",
    "\n",
    "    dataframe = dataframe.append(data_append, ignore_index=True)\n",
    "    \n",
    "    print(counter)"
   ]
  },
  {
   "cell_type": "code",
   "execution_count": 10,
   "metadata": {},
   "outputs": [
    {
     "data": {
      "text/html": [
       "<div>\n",
       "<style scoped>\n",
       "    .dataframe tbody tr th:only-of-type {\n",
       "        vertical-align: middle;\n",
       "    }\n",
       "\n",
       "    .dataframe tbody tr th {\n",
       "        vertical-align: top;\n",
       "    }\n",
       "\n",
       "    .dataframe thead th {\n",
       "        text-align: right;\n",
       "    }\n",
       "</style>\n",
       "<table border=\"1\" class=\"dataframe\">\n",
       "  <thead>\n",
       "    <tr style=\"text-align: right;\">\n",
       "      <th></th>\n",
       "      <th>first_entity</th>\n",
       "      <th>first_entity_label</th>\n",
       "      <th>relation</th>\n",
       "      <th>relation_label</th>\n",
       "      <th>second_entity</th>\n",
       "      <th>second_entity_label</th>\n",
       "      <th>whole_text</th>\n",
       "    </tr>\n",
       "  </thead>\n",
       "  <tbody>\n",
       "    <tr>\n",
       "      <th>0</th>\n",
       "      <td>Q14946683</td>\n",
       "      <td>H. O. Davies</td>\n",
       "      <td>P31</td>\n",
       "      <td>instance of</td>\n",
       "      <td>Q5</td>\n",
       "      <td>human</td>\n",
       "      <td>H. O. Davies instance of human</td>\n",
       "    </tr>\n",
       "    <tr>\n",
       "      <th>1</th>\n",
       "      <td>Q14946683</td>\n",
       "      <td>H. O. Davies</td>\n",
       "      <td>P27</td>\n",
       "      <td>country of citizenship</td>\n",
       "      <td>Q1033</td>\n",
       "      <td>Nigeria</td>\n",
       "      <td>H. O. Davies country of citizenship Nigeria</td>\n",
       "    </tr>\n",
       "    <tr>\n",
       "      <th>2</th>\n",
       "      <td>Q14946683</td>\n",
       "      <td>H. O. Davies</td>\n",
       "      <td>P106</td>\n",
       "      <td>occupation</td>\n",
       "      <td>Q40348</td>\n",
       "      <td>lawyer</td>\n",
       "      <td>H. O. Davies occupation lawyer</td>\n",
       "    </tr>\n",
       "    <tr>\n",
       "      <th>3</th>\n",
       "      <td>Q14946683</td>\n",
       "      <td>H. O. Davies</td>\n",
       "      <td>P69</td>\n",
       "      <td>educated at</td>\n",
       "      <td>Q6410881</td>\n",
       "      <td>King's College, Lagos</td>\n",
       "      <td>H. O. Davies educated at King's College, Lagos</td>\n",
       "    </tr>\n",
       "    <tr>\n",
       "      <th>4</th>\n",
       "      <td>Q14946683</td>\n",
       "      <td>H. O. Davies</td>\n",
       "      <td>P734</td>\n",
       "      <td>family name</td>\n",
       "      <td>Q1177810</td>\n",
       "      <td>Davies</td>\n",
       "      <td>H. O. Davies family name Davies</td>\n",
       "    </tr>\n",
       "    <tr>\n",
       "      <th>5</th>\n",
       "      <td>Q14946683</td>\n",
       "      <td>H. O. Davies</td>\n",
       "      <td>P172</td>\n",
       "      <td>ethnic group</td>\n",
       "      <td>Q190168</td>\n",
       "      <td>Yoruba people</td>\n",
       "      <td>H. O. Davies ethnic group Yoruba people</td>\n",
       "    </tr>\n",
       "    <tr>\n",
       "      <th>6</th>\n",
       "      <td>Q14946683</td>\n",
       "      <td>H. O. Davies</td>\n",
       "      <td>P69</td>\n",
       "      <td>educated at</td>\n",
       "      <td>Q174570</td>\n",
       "      <td>London School of Economics and Political Science</td>\n",
       "      <td>H. O. Davies educated at London School of Econ...</td>\n",
       "    </tr>\n",
       "  </tbody>\n",
       "</table>\n",
       "</div>"
      ],
      "text/plain": [
       "  first_entity first_entity_label relation          relation_label  \\\n",
       "0    Q14946683       H. O. Davies      P31             instance of   \n",
       "1    Q14946683       H. O. Davies      P27  country of citizenship   \n",
       "2    Q14946683       H. O. Davies     P106              occupation   \n",
       "3    Q14946683       H. O. Davies      P69             educated at   \n",
       "4    Q14946683       H. O. Davies     P734             family name   \n",
       "5    Q14946683       H. O. Davies     P172            ethnic group   \n",
       "6    Q14946683       H. O. Davies      P69             educated at   \n",
       "\n",
       "  second_entity                               second_entity_label  \\\n",
       "0            Q5                                             human   \n",
       "1         Q1033                                           Nigeria   \n",
       "2        Q40348                                            lawyer   \n",
       "3      Q6410881                             King's College, Lagos   \n",
       "4      Q1177810                                            Davies   \n",
       "5       Q190168                                     Yoruba people   \n",
       "6       Q174570  London School of Economics and Political Science   \n",
       "\n",
       "                                          whole_text  \n",
       "0                     H. O. Davies instance of human  \n",
       "1        H. O. Davies country of citizenship Nigeria  \n",
       "2                     H. O. Davies occupation lawyer  \n",
       "3     H. O. Davies educated at King's College, Lagos  \n",
       "4                    H. O. Davies family name Davies  \n",
       "5            H. O. Davies ethnic group Yoruba people  \n",
       "6  H. O. Davies educated at London School of Econ...  "
      ]
     },
     "execution_count": 10,
     "metadata": {},
     "output_type": "execute_result"
    }
   ],
   "source": [
    "dataframe"
   ]
  },
  {
   "cell_type": "code",
   "execution_count": null,
   "metadata": {},
   "outputs": [],
   "source": []
  }
 ],
 "metadata": {
  "kernelspec": {
   "display_name": "Python 3",
   "language": "python",
   "name": "python3"
  },
  "language_info": {
   "codemirror_mode": {
    "name": "ipython",
    "version": 3
   },
   "file_extension": ".py",
   "mimetype": "text/x-python",
   "name": "python",
   "nbconvert_exporter": "python",
   "pygments_lexer": "ipython3",
   "version": "3.10.6"
  }
 },
 "nbformat": 4,
 "nbformat_minor": 2
}
