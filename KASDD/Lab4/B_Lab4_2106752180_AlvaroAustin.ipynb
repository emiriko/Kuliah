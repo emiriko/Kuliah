{
  "cells": [
    {
      "cell_type": "markdown",
      "metadata": {
        "id": "LO4T_SbqKxwP"
      },
      "source": [
        "<center>\n",
        "<img src=\"https://drive.google.com/uc?id=1f1gGVI-rxcHjA90WEGNvvtSXF1pAxQwg\" alt=\"Fasilkom UI\" width=\"300\"/>\n",
        "\n",
        "CSGE603130 • Kecerdasan Artifisial dan Sains Data Dasar\n",
        "\n",
        "Semester Ganjil 2022/2023\n",
        "\n",
        "Fakultas Ilmu Komputer, Universitas Indonesia\n",
        "\n",
        "##*Lab 4*: CART\n",
        "\n",
        "###**Tenggat Waktu: 8 Oktober 2023, 23.55 WIB**\n",
        "</center>\n",
        "\n",
        "####**Ketentuan:**\n",
        "\n",
        "1. Dokumen *template* lab dengan format .ipynb dan dataset (jika dibutuhkan) telah disediakan di SCeLe\n",
        "2. Jalankan kode pada dokumen .ipynb dan perhatikan dengan saksama apa yang potongan kode tersebut lakukan beserta dengan keluarannya. Jawablah **pertanyaan yang disisipkan** pada potongan program yang diberikan.\n",
        "3. Dokumen Jupyter Notebook yang telah dilengkapi dengan jawaban dikumpulkan dengan format penamaan **Kelas_LabX_NPM_Nama.ipynb**. Contoh: A_Lab4_2006123456_Budi.ipynb\n",
        "4. Kumpulkan dokumen tersebut pada submisi yang telah disediakan di SCeLe sesuai dengan kelas masing-masing sebelum **8 Oktober 2023, 23.55 WIB**. Keterlambatan pengumpulan akan dikenakan pinalti.\n",
        "5. Lab ini dirancang sebagai **tugas mandiri**. Plagiarisme tidak diperkenankan dalam bentuk apapun. Adapun kolaborasi berupa diskusi (tanpa menyalin maupun mengambil jawaban orang lain) dan literasi masih diperbolehkan dengan mencantumkan kolaborator dan sumber.\n"
      ]
    },
    {
      "cell_type": "markdown",
      "metadata": {
        "id": "p9cZkSNOLL2C"
      },
      "source": [
        "## **Pernyataan Integritas**\n",
        "\n",
        "Wajib diisi. Tanpa pernyataan integritas submisi akan dikenakan pinalti."
      ]
    },
    {
      "cell_type": "code",
      "execution_count": 253,
      "metadata": {
        "id": "cLRtSkLqLAhE"
      },
      "outputs": [],
      "source": [
        "# Isi dengan data diri Anda\n",
        "NAMA = \"Alvaro Austin\"\n",
        "NAMA_TEAM_KAGGLE = \"AlvaroAustin\"\n",
        "KELAS = \"B\"\n",
        "NPM = \"2106752180\"\n",
        "\n",
        "# Isi dengan NPM teman yang berdiskusi dengan Anda\n",
        "KOLABORATOR = []\n",
        "\n",
        "# Isi dengan sumber referensi yang Anda gunakan dalam mengerjakan\n",
        "REFERENSI = []"
      ]
    },
    {
      "cell_type": "code",
      "execution_count": 208,
      "metadata": {
        "id": "oLXYmDNaLjqM",
        "colab": {
          "base_uri": "https://localhost:8080/"
        },
        "outputId": "e9f50fb2-8613-4092-c329-479c5bcfc9fc"
      },
      "outputs": [
        {
          "output_type": "stream",
          "name": "stdout",
          "text": [
            "Saya, Alvaro Austin dari kelas B dengan NPM 2106752180, menyatakan bahwa seluruh jawaban pada pekerjaan ini murni saya kerjakan sendiri.\n",
            "Saya tidak mencontek jawaban, memberikan jawaban, maupun menyalin dari sumber manapun.\n",
            " \n",
            "Jika saya melanggar pernyataan tersebut, saya siap menerima konsekuensi apapun yang diberikan.\n",
            "   (Alvaro Austin)\n"
          ]
        }
      ],
      "source": [
        "PERNYATAAN_INTEGRITAS = \"Saya, %s dari kelas %s dengan NPM %s, menyatakan bahwa seluruh jawaban pada pekerjaan ini murni saya kerjakan sendiri.\\n\\\n",
        "Saya tidak mencontek jawaban, memberikan jawaban, maupun menyalin dari sumber manapun.\\n \\\n",
        "\\n\\\n",
        "Jika saya melanggar pernyataan tersebut, saya siap menerima konsekuensi apapun yang diberikan.\\n   \\\n",
        "(%s)\" % (NAMA, KELAS, NPM, NAMA)\n",
        "\n",
        "print(PERNYATAAN_INTEGRITAS)"
      ]
    },
    {
      "cell_type": "markdown",
      "metadata": {
        "id": "y3wTrRJxZ_LI"
      },
      "source": [
        "## Deskripsi Dataset"
      ]
    },
    {
      "cell_type": "markdown",
      "metadata": {
        "id": "fBKCryIZaB_X"
      },
      "source": [
        "Lab ini akan menggunakan 2 dataset, yakni dataset untuk klasifikasi dan dataset untuk regresi.\n",
        "\n",
        "Dataset yang digunakan untuk klasifikasi adalah dataset **Red Wine Quality** (https://www.kaggle.com/datasets/uciml/red-wine-quality-cortez-et-al-2009) dengan modifikasi.\n",
        "\n",
        "Dataset yang akan digunakan untuk regresi adalah dataset **Graduate Admission 2** (https://www.kaggle.com/datasets/mohansacharya/graduate-admissions) dengan modifikasi."
      ]
    },
    {
      "cell_type": "markdown",
      "metadata": {
        "id": "uMzukLM_k5AI"
      },
      "source": [
        "### Deskripsi Dataset Klasifikasi"
      ]
    },
    {
      "cell_type": "markdown",
      "metadata": {
        "id": "DgA_G-p1lADc"
      },
      "source": [
        "Dataset ini berisi informasi mengenai atribut-atribut yang dirasa berpengaruh terhadap kualitas dari suatu Red Wine yang diukur dengan angka 0 sampai dengan 10 (Quality).\n",
        "\n",
        "Atribut-atribut yang terdapat pada dataset ini adalah sebagai berikut:\n",
        "\n",
        "\n",
        "*   **Fixed Acidity**: Sebagian besar asam yang terlibat dalam anggur adalah asam tetap atau tidak mudah menguap (tidak menguap dengan mudah).\n",
        "*   **Volatile Acidity**: Jumlah asam asetat dalam anggur, yang pada kadar yang terlalu tinggi dapat menyebabkan rasa cuka yang tidak enak.\n",
        "*   **Citric Acid**: Ditemukan dalam jumlah kecil, asam sitrat dapat menambahkan 'kesegaran' dan rasa pada anggur.\n",
        "*   **Residual Sugar**: Jumlah gula yang tersisa setelah fermentasi berhenti.\n",
        "*   **Chlorides**: Jumlah kadar garam pada wine.\n",
        "*   **Free Sulfur Dioxide**: Bentuk bebas SO2 ada dalam keseimbangan antara SO2 molekuler (sebagai gas terlarut) dan ion bisulfit.\n",
        "*   **Total Sulfur Dioxide**: Jumlah bentuk bebas dan terikat dari SO2.\n",
        "*   **Density**: Kepadatan air tergantung pada persentase alkohol dan kandungan gula.\n",
        "*   **pH**: Menggambarkan seberapa asam atau basa suatu anggur pada skala dari 0 (sangat asam) hingga 14 (sangat basa).\n",
        "*   **Sulphates**: Sebuah tambahan untuk anggur yang dapat berkontribusi pada tingkat gas sulfur dioksida (SO2).\n",
        "*   **Alcohol**: Persentase kandungan alkohol dalam anggur.\n",
        "*   **Quality**: Variabel keluaran (berdasarkan data sensori, skor antara 0 dan 10).\n",
        "\n",
        "\n",
        "\n",
        "\n",
        "\n",
        "\n",
        "\n"
      ]
    },
    {
      "cell_type": "markdown",
      "metadata": {
        "id": "8WEpRisif6Wb"
      },
      "source": [
        "### Deskripsi Dataset Regresi"
      ]
    },
    {
      "cell_type": "markdown",
      "metadata": {
        "id": "z16Rms0val0H"
      },
      "source": [
        "Dataset ini berisi informasi mengenai atribut-atribut yang dirasa berpengaruh terhadap besarnya peluang (Chance of Admit) dari seorang pelamar untuk diterima pada program Magister-nya di daerah India.\n",
        "\n",
        "Atribut-atribut yang terdapat pada dataset ini adalah sebagai berikut:\n",
        "\n",
        "\n",
        "\n",
        "*   **GRE Scores (out of 340)**: Skor yang diperoleh oleh calon pelamar pada tes GRE.\n",
        "*   **TOEFL Scores (out of 120)**: Skor yang diperoleh oleh calon pelamar pada tes TOEFL.\n",
        "*   **University Rating (out of 5)**: Rating universitas yang didaftar oleh calon pelamar.\n",
        "*  **Statement of Purpose and Letter of Recommendation Strength (out of 5)**: Skor yang diperoleh dari surat rekomendasi yang dilampirkan oleh calon pelamar.\n",
        "*   **Undergraduate GPA (out of 10)**: GPA yang diperoleh oleh calon pelamar pada saat masa *undergraduate*.\n",
        "*   **Research Experience (either 0 or 1)**: Ada/tidaknya pengalaman meneliti yang dimiliki oleh calon pelamar. 0 berarti tidak, 1 berarti iya.\n",
        "*   **Chance of Admit (ranging from 0 to 1)**: Peluang diterimanya calon pelamar pada suatu universitas dengan skor-skor yang dimilikinya."
      ]
    },
    {
      "cell_type": "markdown",
      "metadata": {
        "id": "0lbgDIfi3x8U"
      },
      "source": [
        "## Import Libraries"
      ]
    },
    {
      "cell_type": "code",
      "execution_count": 209,
      "metadata": {
        "id": "SmX8CPR63zY7"
      },
      "outputs": [],
      "source": [
        "from sklearn.model_selection import train_test_split\n",
        "from sklearn.metrics import mean_absolute_error, mean_squared_error, r2_score\n",
        "from sklearn.metrics import accuracy_score, f1_score, recall_score, precision_score\n",
        "from sklearn.tree import DecisionTreeRegressor, DecisionTreeClassifier\n",
        "from sklearn.ensemble import RandomForestRegressor, RandomForestClassifier\n",
        "from sklearn.model_selection import GridSearchCV\n",
        "from sklearn import tree\n",
        "import numpy as np\n",
        "import pandas as pd\n",
        "import seaborn as sns"
      ]
    },
    {
      "cell_type": "markdown",
      "metadata": {
        "id": "UzVC1D-XsuVS"
      },
      "source": [
        "## Read Datasets"
      ]
    },
    {
      "cell_type": "markdown",
      "source": [
        "**Bacalah konten dari masing-masing dataset yang telah disediakan. Perhatikan tipe data dari masing-masing kolom, apakah sudah cocok untuk dijadikan input ke dalam model atau tidak.**"
      ],
      "metadata": {
        "id": "-eDrSLUsw971"
      }
    },
    {
      "cell_type": "markdown",
      "metadata": {
        "id": "3VTBROQgswup"
      },
      "source": [
        "### Dataset Red Wine"
      ]
    },
    {
      "cell_type": "markdown",
      "source": [
        "**Terapkan proses Read Dataset di bawah cell ini**"
      ],
      "metadata": {
        "id": "mZ4UBfodxLo6"
      }
    },
    {
      "cell_type": "code",
      "source": [
        "df_wine = pd.read_csv(\"Red_Wine_Quality_Train.csv\")\n",
        "\n",
        "df_wine.head()"
      ],
      "metadata": {
        "colab": {
          "base_uri": "https://localhost:8080/",
          "height": 241
        },
        "id": "wEnQBbow4HGX",
        "outputId": "f9574dfb-534b-49fb-988f-7a189584b1e6"
      },
      "execution_count": 210,
      "outputs": [
        {
          "output_type": "execute_result",
          "data": {
            "text/plain": [
              "   fixed acidity  volatile acidity  citric acid  residual sugar  chlorides  \\\n",
              "0      12.200000          0.450000     0.490000        1.400000   0.075000   \n",
              "1       7.100000          0.430000     0.170000        1.800000   0.082000   \n",
              "2       7.784053          0.280000     0.303572        1.993696   0.061832   \n",
              "3       7.960832          0.762917     0.015375        2.490418   0.085412   \n",
              "4       7.700000          0.705000     0.100000        2.600000   0.084000   \n",
              "\n",
              "   free sulfur dioxide  total sulfur dioxide   density        pH  sulphates  \\\n",
              "0             3.000000              6.000000  0.996900  3.130000   0.630000   \n",
              "1            27.000000             51.000000  0.996340  3.490000   0.640000   \n",
              "2            17.978987             33.957974  0.995235  3.277268   0.895167   \n",
              "3            13.341669             26.512503  0.997363  3.376833   0.470250   \n",
              "4             9.000000             26.000000  0.997600  3.390000   0.490000   \n",
              "\n",
              "     alcohol  quality  \n",
              "0  10.400000        5  \n",
              "1  10.400000        5  \n",
              "2  11.285291        7  \n",
              "3   9.856252        4  \n",
              "4   9.700000        5  "
            ],
            "text/html": [
              "\n",
              "  <div id=\"df-a17de540-d559-450a-974c-507cc854e37a\" class=\"colab-df-container\">\n",
              "    <div>\n",
              "<style scoped>\n",
              "    .dataframe tbody tr th:only-of-type {\n",
              "        vertical-align: middle;\n",
              "    }\n",
              "\n",
              "    .dataframe tbody tr th {\n",
              "        vertical-align: top;\n",
              "    }\n",
              "\n",
              "    .dataframe thead th {\n",
              "        text-align: right;\n",
              "    }\n",
              "</style>\n",
              "<table border=\"1\" class=\"dataframe\">\n",
              "  <thead>\n",
              "    <tr style=\"text-align: right;\">\n",
              "      <th></th>\n",
              "      <th>fixed acidity</th>\n",
              "      <th>volatile acidity</th>\n",
              "      <th>citric acid</th>\n",
              "      <th>residual sugar</th>\n",
              "      <th>chlorides</th>\n",
              "      <th>free sulfur dioxide</th>\n",
              "      <th>total sulfur dioxide</th>\n",
              "      <th>density</th>\n",
              "      <th>pH</th>\n",
              "      <th>sulphates</th>\n",
              "      <th>alcohol</th>\n",
              "      <th>quality</th>\n",
              "    </tr>\n",
              "  </thead>\n",
              "  <tbody>\n",
              "    <tr>\n",
              "      <th>0</th>\n",
              "      <td>12.200000</td>\n",
              "      <td>0.450000</td>\n",
              "      <td>0.490000</td>\n",
              "      <td>1.400000</td>\n",
              "      <td>0.075000</td>\n",
              "      <td>3.000000</td>\n",
              "      <td>6.000000</td>\n",
              "      <td>0.996900</td>\n",
              "      <td>3.130000</td>\n",
              "      <td>0.630000</td>\n",
              "      <td>10.400000</td>\n",
              "      <td>5</td>\n",
              "    </tr>\n",
              "    <tr>\n",
              "      <th>1</th>\n",
              "      <td>7.100000</td>\n",
              "      <td>0.430000</td>\n",
              "      <td>0.170000</td>\n",
              "      <td>1.800000</td>\n",
              "      <td>0.082000</td>\n",
              "      <td>27.000000</td>\n",
              "      <td>51.000000</td>\n",
              "      <td>0.996340</td>\n",
              "      <td>3.490000</td>\n",
              "      <td>0.640000</td>\n",
              "      <td>10.400000</td>\n",
              "      <td>5</td>\n",
              "    </tr>\n",
              "    <tr>\n",
              "      <th>2</th>\n",
              "      <td>7.784053</td>\n",
              "      <td>0.280000</td>\n",
              "      <td>0.303572</td>\n",
              "      <td>1.993696</td>\n",
              "      <td>0.061832</td>\n",
              "      <td>17.978987</td>\n",
              "      <td>33.957974</td>\n",
              "      <td>0.995235</td>\n",
              "      <td>3.277268</td>\n",
              "      <td>0.895167</td>\n",
              "      <td>11.285291</td>\n",
              "      <td>7</td>\n",
              "    </tr>\n",
              "    <tr>\n",
              "      <th>3</th>\n",
              "      <td>7.960832</td>\n",
              "      <td>0.762917</td>\n",
              "      <td>0.015375</td>\n",
              "      <td>2.490418</td>\n",
              "      <td>0.085412</td>\n",
              "      <td>13.341669</td>\n",
              "      <td>26.512503</td>\n",
              "      <td>0.997363</td>\n",
              "      <td>3.376833</td>\n",
              "      <td>0.470250</td>\n",
              "      <td>9.856252</td>\n",
              "      <td>4</td>\n",
              "    </tr>\n",
              "    <tr>\n",
              "      <th>4</th>\n",
              "      <td>7.700000</td>\n",
              "      <td>0.705000</td>\n",
              "      <td>0.100000</td>\n",
              "      <td>2.600000</td>\n",
              "      <td>0.084000</td>\n",
              "      <td>9.000000</td>\n",
              "      <td>26.000000</td>\n",
              "      <td>0.997600</td>\n",
              "      <td>3.390000</td>\n",
              "      <td>0.490000</td>\n",
              "      <td>9.700000</td>\n",
              "      <td>5</td>\n",
              "    </tr>\n",
              "  </tbody>\n",
              "</table>\n",
              "</div>\n",
              "    <div class=\"colab-df-buttons\">\n",
              "\n",
              "  <div class=\"colab-df-container\">\n",
              "    <button class=\"colab-df-convert\" onclick=\"convertToInteractive('df-a17de540-d559-450a-974c-507cc854e37a')\"\n",
              "            title=\"Convert this dataframe to an interactive table.\"\n",
              "            style=\"display:none;\">\n",
              "\n",
              "  <svg xmlns=\"http://www.w3.org/2000/svg\" height=\"24px\" viewBox=\"0 -960 960 960\">\n",
              "    <path d=\"M120-120v-720h720v720H120Zm60-500h600v-160H180v160Zm220 220h160v-160H400v160Zm0 220h160v-160H400v160ZM180-400h160v-160H180v160Zm440 0h160v-160H620v160ZM180-180h160v-160H180v160Zm440 0h160v-160H620v160Z\"/>\n",
              "  </svg>\n",
              "    </button>\n",
              "\n",
              "  <style>\n",
              "    .colab-df-container {\n",
              "      display:flex;\n",
              "      gap: 12px;\n",
              "    }\n",
              "\n",
              "    .colab-df-convert {\n",
              "      background-color: #E8F0FE;\n",
              "      border: none;\n",
              "      border-radius: 50%;\n",
              "      cursor: pointer;\n",
              "      display: none;\n",
              "      fill: #1967D2;\n",
              "      height: 32px;\n",
              "      padding: 0 0 0 0;\n",
              "      width: 32px;\n",
              "    }\n",
              "\n",
              "    .colab-df-convert:hover {\n",
              "      background-color: #E2EBFA;\n",
              "      box-shadow: 0px 1px 2px rgba(60, 64, 67, 0.3), 0px 1px 3px 1px rgba(60, 64, 67, 0.15);\n",
              "      fill: #174EA6;\n",
              "    }\n",
              "\n",
              "    .colab-df-buttons div {\n",
              "      margin-bottom: 4px;\n",
              "    }\n",
              "\n",
              "    [theme=dark] .colab-df-convert {\n",
              "      background-color: #3B4455;\n",
              "      fill: #D2E3FC;\n",
              "    }\n",
              "\n",
              "    [theme=dark] .colab-df-convert:hover {\n",
              "      background-color: #434B5C;\n",
              "      box-shadow: 0px 1px 3px 1px rgba(0, 0, 0, 0.15);\n",
              "      filter: drop-shadow(0px 1px 2px rgba(0, 0, 0, 0.3));\n",
              "      fill: #FFFFFF;\n",
              "    }\n",
              "  </style>\n",
              "\n",
              "    <script>\n",
              "      const buttonEl =\n",
              "        document.querySelector('#df-a17de540-d559-450a-974c-507cc854e37a button.colab-df-convert');\n",
              "      buttonEl.style.display =\n",
              "        google.colab.kernel.accessAllowed ? 'block' : 'none';\n",
              "\n",
              "      async function convertToInteractive(key) {\n",
              "        const element = document.querySelector('#df-a17de540-d559-450a-974c-507cc854e37a');\n",
              "        const dataTable =\n",
              "          await google.colab.kernel.invokeFunction('convertToInteractive',\n",
              "                                                    [key], {});\n",
              "        if (!dataTable) return;\n",
              "\n",
              "        const docLinkHtml = 'Like what you see? Visit the ' +\n",
              "          '<a target=\"_blank\" href=https://colab.research.google.com/notebooks/data_table.ipynb>data table notebook</a>'\n",
              "          + ' to learn more about interactive tables.';\n",
              "        element.innerHTML = '';\n",
              "        dataTable['output_type'] = 'display_data';\n",
              "        await google.colab.output.renderOutput(dataTable, element);\n",
              "        const docLink = document.createElement('div');\n",
              "        docLink.innerHTML = docLinkHtml;\n",
              "        element.appendChild(docLink);\n",
              "      }\n",
              "    </script>\n",
              "  </div>\n",
              "\n",
              "\n",
              "<div id=\"df-f88690a0-0043-4e4b-83aa-2cc81a2fd2e9\">\n",
              "  <button class=\"colab-df-quickchart\" onclick=\"quickchart('df-f88690a0-0043-4e4b-83aa-2cc81a2fd2e9')\"\n",
              "            title=\"Suggest charts.\"\n",
              "            style=\"display:none;\">\n",
              "\n",
              "<svg xmlns=\"http://www.w3.org/2000/svg\" height=\"24px\"viewBox=\"0 0 24 24\"\n",
              "     width=\"24px\">\n",
              "    <g>\n",
              "        <path d=\"M19 3H5c-1.1 0-2 .9-2 2v14c0 1.1.9 2 2 2h14c1.1 0 2-.9 2-2V5c0-1.1-.9-2-2-2zM9 17H7v-7h2v7zm4 0h-2V7h2v10zm4 0h-2v-4h2v4z\"/>\n",
              "    </g>\n",
              "</svg>\n",
              "  </button>\n",
              "\n",
              "<style>\n",
              "  .colab-df-quickchart {\n",
              "      --bg-color: #E8F0FE;\n",
              "      --fill-color: #1967D2;\n",
              "      --hover-bg-color: #E2EBFA;\n",
              "      --hover-fill-color: #174EA6;\n",
              "      --disabled-fill-color: #AAA;\n",
              "      --disabled-bg-color: #DDD;\n",
              "  }\n",
              "\n",
              "  [theme=dark] .colab-df-quickchart {\n",
              "      --bg-color: #3B4455;\n",
              "      --fill-color: #D2E3FC;\n",
              "      --hover-bg-color: #434B5C;\n",
              "      --hover-fill-color: #FFFFFF;\n",
              "      --disabled-bg-color: #3B4455;\n",
              "      --disabled-fill-color: #666;\n",
              "  }\n",
              "\n",
              "  .colab-df-quickchart {\n",
              "    background-color: var(--bg-color);\n",
              "    border: none;\n",
              "    border-radius: 50%;\n",
              "    cursor: pointer;\n",
              "    display: none;\n",
              "    fill: var(--fill-color);\n",
              "    height: 32px;\n",
              "    padding: 0;\n",
              "    width: 32px;\n",
              "  }\n",
              "\n",
              "  .colab-df-quickchart:hover {\n",
              "    background-color: var(--hover-bg-color);\n",
              "    box-shadow: 0 1px 2px rgba(60, 64, 67, 0.3), 0 1px 3px 1px rgba(60, 64, 67, 0.15);\n",
              "    fill: var(--button-hover-fill-color);\n",
              "  }\n",
              "\n",
              "  .colab-df-quickchart-complete:disabled,\n",
              "  .colab-df-quickchart-complete:disabled:hover {\n",
              "    background-color: var(--disabled-bg-color);\n",
              "    fill: var(--disabled-fill-color);\n",
              "    box-shadow: none;\n",
              "  }\n",
              "\n",
              "  .colab-df-spinner {\n",
              "    border: 2px solid var(--fill-color);\n",
              "    border-color: transparent;\n",
              "    border-bottom-color: var(--fill-color);\n",
              "    animation:\n",
              "      spin 1s steps(1) infinite;\n",
              "  }\n",
              "\n",
              "  @keyframes spin {\n",
              "    0% {\n",
              "      border-color: transparent;\n",
              "      border-bottom-color: var(--fill-color);\n",
              "      border-left-color: var(--fill-color);\n",
              "    }\n",
              "    20% {\n",
              "      border-color: transparent;\n",
              "      border-left-color: var(--fill-color);\n",
              "      border-top-color: var(--fill-color);\n",
              "    }\n",
              "    30% {\n",
              "      border-color: transparent;\n",
              "      border-left-color: var(--fill-color);\n",
              "      border-top-color: var(--fill-color);\n",
              "      border-right-color: var(--fill-color);\n",
              "    }\n",
              "    40% {\n",
              "      border-color: transparent;\n",
              "      border-right-color: var(--fill-color);\n",
              "      border-top-color: var(--fill-color);\n",
              "    }\n",
              "    60% {\n",
              "      border-color: transparent;\n",
              "      border-right-color: var(--fill-color);\n",
              "    }\n",
              "    80% {\n",
              "      border-color: transparent;\n",
              "      border-right-color: var(--fill-color);\n",
              "      border-bottom-color: var(--fill-color);\n",
              "    }\n",
              "    90% {\n",
              "      border-color: transparent;\n",
              "      border-bottom-color: var(--fill-color);\n",
              "    }\n",
              "  }\n",
              "</style>\n",
              "\n",
              "  <script>\n",
              "    async function quickchart(key) {\n",
              "      const quickchartButtonEl =\n",
              "        document.querySelector('#' + key + ' button');\n",
              "      quickchartButtonEl.disabled = true;  // To prevent multiple clicks.\n",
              "      quickchartButtonEl.classList.add('colab-df-spinner');\n",
              "      try {\n",
              "        const charts = await google.colab.kernel.invokeFunction(\n",
              "            'suggestCharts', [key], {});\n",
              "      } catch (error) {\n",
              "        console.error('Error during call to suggestCharts:', error);\n",
              "      }\n",
              "      quickchartButtonEl.classList.remove('colab-df-spinner');\n",
              "      quickchartButtonEl.classList.add('colab-df-quickchart-complete');\n",
              "    }\n",
              "    (() => {\n",
              "      let quickchartButtonEl =\n",
              "        document.querySelector('#df-f88690a0-0043-4e4b-83aa-2cc81a2fd2e9 button');\n",
              "      quickchartButtonEl.style.display =\n",
              "        google.colab.kernel.accessAllowed ? 'block' : 'none';\n",
              "    })();\n",
              "  </script>\n",
              "</div>\n",
              "    </div>\n",
              "  </div>\n"
            ]
          },
          "metadata": {},
          "execution_count": 210
        }
      ]
    },
    {
      "cell_type": "markdown",
      "metadata": {
        "id": "9j1zqc9F1exw"
      },
      "source": [
        "### Dataset Admission Prediction"
      ]
    },
    {
      "cell_type": "markdown",
      "source": [
        "**Terapkan proses Read Dataset di bawah cell ini**"
      ],
      "metadata": {
        "id": "apnpZhkcxdfx"
      }
    },
    {
      "cell_type": "code",
      "source": [
        "df_admission = pd.read_csv(\"Admission_Prediction_Train.csv\")\n",
        "\n",
        "df_admission.head()"
      ],
      "metadata": {
        "colab": {
          "base_uri": "https://localhost:8080/",
          "height": 206
        },
        "id": "gwYwwmeW5Cas",
        "outputId": "c84fb4d2-b167-4995-fc53-0d017c0d371a"
      },
      "execution_count": 211,
      "outputs": [
        {
          "output_type": "execute_result",
          "data": {
            "text/plain": [
              "   Unnamed: 0  Serial No.  GRE Score  TOEFL Score  University Rating  SOP  \\\n",
              "0           5           6        330          115                  5  4.5   \n",
              "1         116         117        299          102                  3  4.0   \n",
              "2          45          46        322          110                  5  5.0   \n",
              "3          16          17        317          107                  3  4.0   \n",
              "4         462         463        307          105                  4  3.0   \n",
              "\n",
              "   LOR   CGPA  Research  Chance of Admit  \n",
              "0   3.0  9.34         1             0.90  \n",
              "1   3.5  8.62         0             0.56  \n",
              "2   4.0  9.10         1             0.88  \n",
              "3   3.0  8.70         0             0.66  \n",
              "4   3.0  7.94         0             0.62  "
            ],
            "text/html": [
              "\n",
              "  <div id=\"df-a571d229-7e66-4bc0-92e9-ed9c701487d9\" class=\"colab-df-container\">\n",
              "    <div>\n",
              "<style scoped>\n",
              "    .dataframe tbody tr th:only-of-type {\n",
              "        vertical-align: middle;\n",
              "    }\n",
              "\n",
              "    .dataframe tbody tr th {\n",
              "        vertical-align: top;\n",
              "    }\n",
              "\n",
              "    .dataframe thead th {\n",
              "        text-align: right;\n",
              "    }\n",
              "</style>\n",
              "<table border=\"1\" class=\"dataframe\">\n",
              "  <thead>\n",
              "    <tr style=\"text-align: right;\">\n",
              "      <th></th>\n",
              "      <th>Unnamed: 0</th>\n",
              "      <th>Serial No.</th>\n",
              "      <th>GRE Score</th>\n",
              "      <th>TOEFL Score</th>\n",
              "      <th>University Rating</th>\n",
              "      <th>SOP</th>\n",
              "      <th>LOR</th>\n",
              "      <th>CGPA</th>\n",
              "      <th>Research</th>\n",
              "      <th>Chance of Admit</th>\n",
              "    </tr>\n",
              "  </thead>\n",
              "  <tbody>\n",
              "    <tr>\n",
              "      <th>0</th>\n",
              "      <td>5</td>\n",
              "      <td>6</td>\n",
              "      <td>330</td>\n",
              "      <td>115</td>\n",
              "      <td>5</td>\n",
              "      <td>4.5</td>\n",
              "      <td>3.0</td>\n",
              "      <td>9.34</td>\n",
              "      <td>1</td>\n",
              "      <td>0.90</td>\n",
              "    </tr>\n",
              "    <tr>\n",
              "      <th>1</th>\n",
              "      <td>116</td>\n",
              "      <td>117</td>\n",
              "      <td>299</td>\n",
              "      <td>102</td>\n",
              "      <td>3</td>\n",
              "      <td>4.0</td>\n",
              "      <td>3.5</td>\n",
              "      <td>8.62</td>\n",
              "      <td>0</td>\n",
              "      <td>0.56</td>\n",
              "    </tr>\n",
              "    <tr>\n",
              "      <th>2</th>\n",
              "      <td>45</td>\n",
              "      <td>46</td>\n",
              "      <td>322</td>\n",
              "      <td>110</td>\n",
              "      <td>5</td>\n",
              "      <td>5.0</td>\n",
              "      <td>4.0</td>\n",
              "      <td>9.10</td>\n",
              "      <td>1</td>\n",
              "      <td>0.88</td>\n",
              "    </tr>\n",
              "    <tr>\n",
              "      <th>3</th>\n",
              "      <td>16</td>\n",
              "      <td>17</td>\n",
              "      <td>317</td>\n",
              "      <td>107</td>\n",
              "      <td>3</td>\n",
              "      <td>4.0</td>\n",
              "      <td>3.0</td>\n",
              "      <td>8.70</td>\n",
              "      <td>0</td>\n",
              "      <td>0.66</td>\n",
              "    </tr>\n",
              "    <tr>\n",
              "      <th>4</th>\n",
              "      <td>462</td>\n",
              "      <td>463</td>\n",
              "      <td>307</td>\n",
              "      <td>105</td>\n",
              "      <td>4</td>\n",
              "      <td>3.0</td>\n",
              "      <td>3.0</td>\n",
              "      <td>7.94</td>\n",
              "      <td>0</td>\n",
              "      <td>0.62</td>\n",
              "    </tr>\n",
              "  </tbody>\n",
              "</table>\n",
              "</div>\n",
              "    <div class=\"colab-df-buttons\">\n",
              "\n",
              "  <div class=\"colab-df-container\">\n",
              "    <button class=\"colab-df-convert\" onclick=\"convertToInteractive('df-a571d229-7e66-4bc0-92e9-ed9c701487d9')\"\n",
              "            title=\"Convert this dataframe to an interactive table.\"\n",
              "            style=\"display:none;\">\n",
              "\n",
              "  <svg xmlns=\"http://www.w3.org/2000/svg\" height=\"24px\" viewBox=\"0 -960 960 960\">\n",
              "    <path d=\"M120-120v-720h720v720H120Zm60-500h600v-160H180v160Zm220 220h160v-160H400v160Zm0 220h160v-160H400v160ZM180-400h160v-160H180v160Zm440 0h160v-160H620v160ZM180-180h160v-160H180v160Zm440 0h160v-160H620v160Z\"/>\n",
              "  </svg>\n",
              "    </button>\n",
              "\n",
              "  <style>\n",
              "    .colab-df-container {\n",
              "      display:flex;\n",
              "      gap: 12px;\n",
              "    }\n",
              "\n",
              "    .colab-df-convert {\n",
              "      background-color: #E8F0FE;\n",
              "      border: none;\n",
              "      border-radius: 50%;\n",
              "      cursor: pointer;\n",
              "      display: none;\n",
              "      fill: #1967D2;\n",
              "      height: 32px;\n",
              "      padding: 0 0 0 0;\n",
              "      width: 32px;\n",
              "    }\n",
              "\n",
              "    .colab-df-convert:hover {\n",
              "      background-color: #E2EBFA;\n",
              "      box-shadow: 0px 1px 2px rgba(60, 64, 67, 0.3), 0px 1px 3px 1px rgba(60, 64, 67, 0.15);\n",
              "      fill: #174EA6;\n",
              "    }\n",
              "\n",
              "    .colab-df-buttons div {\n",
              "      margin-bottom: 4px;\n",
              "    }\n",
              "\n",
              "    [theme=dark] .colab-df-convert {\n",
              "      background-color: #3B4455;\n",
              "      fill: #D2E3FC;\n",
              "    }\n",
              "\n",
              "    [theme=dark] .colab-df-convert:hover {\n",
              "      background-color: #434B5C;\n",
              "      box-shadow: 0px 1px 3px 1px rgba(0, 0, 0, 0.15);\n",
              "      filter: drop-shadow(0px 1px 2px rgba(0, 0, 0, 0.3));\n",
              "      fill: #FFFFFF;\n",
              "    }\n",
              "  </style>\n",
              "\n",
              "    <script>\n",
              "      const buttonEl =\n",
              "        document.querySelector('#df-a571d229-7e66-4bc0-92e9-ed9c701487d9 button.colab-df-convert');\n",
              "      buttonEl.style.display =\n",
              "        google.colab.kernel.accessAllowed ? 'block' : 'none';\n",
              "\n",
              "      async function convertToInteractive(key) {\n",
              "        const element = document.querySelector('#df-a571d229-7e66-4bc0-92e9-ed9c701487d9');\n",
              "        const dataTable =\n",
              "          await google.colab.kernel.invokeFunction('convertToInteractive',\n",
              "                                                    [key], {});\n",
              "        if (!dataTable) return;\n",
              "\n",
              "        const docLinkHtml = 'Like what you see? Visit the ' +\n",
              "          '<a target=\"_blank\" href=https://colab.research.google.com/notebooks/data_table.ipynb>data table notebook</a>'\n",
              "          + ' to learn more about interactive tables.';\n",
              "        element.innerHTML = '';\n",
              "        dataTable['output_type'] = 'display_data';\n",
              "        await google.colab.output.renderOutput(dataTable, element);\n",
              "        const docLink = document.createElement('div');\n",
              "        docLink.innerHTML = docLinkHtml;\n",
              "        element.appendChild(docLink);\n",
              "      }\n",
              "    </script>\n",
              "  </div>\n",
              "\n",
              "\n",
              "<div id=\"df-979851b6-d4ea-4cb7-abb4-c7f0b5ce4663\">\n",
              "  <button class=\"colab-df-quickchart\" onclick=\"quickchart('df-979851b6-d4ea-4cb7-abb4-c7f0b5ce4663')\"\n",
              "            title=\"Suggest charts.\"\n",
              "            style=\"display:none;\">\n",
              "\n",
              "<svg xmlns=\"http://www.w3.org/2000/svg\" height=\"24px\"viewBox=\"0 0 24 24\"\n",
              "     width=\"24px\">\n",
              "    <g>\n",
              "        <path d=\"M19 3H5c-1.1 0-2 .9-2 2v14c0 1.1.9 2 2 2h14c1.1 0 2-.9 2-2V5c0-1.1-.9-2-2-2zM9 17H7v-7h2v7zm4 0h-2V7h2v10zm4 0h-2v-4h2v4z\"/>\n",
              "    </g>\n",
              "</svg>\n",
              "  </button>\n",
              "\n",
              "<style>\n",
              "  .colab-df-quickchart {\n",
              "      --bg-color: #E8F0FE;\n",
              "      --fill-color: #1967D2;\n",
              "      --hover-bg-color: #E2EBFA;\n",
              "      --hover-fill-color: #174EA6;\n",
              "      --disabled-fill-color: #AAA;\n",
              "      --disabled-bg-color: #DDD;\n",
              "  }\n",
              "\n",
              "  [theme=dark] .colab-df-quickchart {\n",
              "      --bg-color: #3B4455;\n",
              "      --fill-color: #D2E3FC;\n",
              "      --hover-bg-color: #434B5C;\n",
              "      --hover-fill-color: #FFFFFF;\n",
              "      --disabled-bg-color: #3B4455;\n",
              "      --disabled-fill-color: #666;\n",
              "  }\n",
              "\n",
              "  .colab-df-quickchart {\n",
              "    background-color: var(--bg-color);\n",
              "    border: none;\n",
              "    border-radius: 50%;\n",
              "    cursor: pointer;\n",
              "    display: none;\n",
              "    fill: var(--fill-color);\n",
              "    height: 32px;\n",
              "    padding: 0;\n",
              "    width: 32px;\n",
              "  }\n",
              "\n",
              "  .colab-df-quickchart:hover {\n",
              "    background-color: var(--hover-bg-color);\n",
              "    box-shadow: 0 1px 2px rgba(60, 64, 67, 0.3), 0 1px 3px 1px rgba(60, 64, 67, 0.15);\n",
              "    fill: var(--button-hover-fill-color);\n",
              "  }\n",
              "\n",
              "  .colab-df-quickchart-complete:disabled,\n",
              "  .colab-df-quickchart-complete:disabled:hover {\n",
              "    background-color: var(--disabled-bg-color);\n",
              "    fill: var(--disabled-fill-color);\n",
              "    box-shadow: none;\n",
              "  }\n",
              "\n",
              "  .colab-df-spinner {\n",
              "    border: 2px solid var(--fill-color);\n",
              "    border-color: transparent;\n",
              "    border-bottom-color: var(--fill-color);\n",
              "    animation:\n",
              "      spin 1s steps(1) infinite;\n",
              "  }\n",
              "\n",
              "  @keyframes spin {\n",
              "    0% {\n",
              "      border-color: transparent;\n",
              "      border-bottom-color: var(--fill-color);\n",
              "      border-left-color: var(--fill-color);\n",
              "    }\n",
              "    20% {\n",
              "      border-color: transparent;\n",
              "      border-left-color: var(--fill-color);\n",
              "      border-top-color: var(--fill-color);\n",
              "    }\n",
              "    30% {\n",
              "      border-color: transparent;\n",
              "      border-left-color: var(--fill-color);\n",
              "      border-top-color: var(--fill-color);\n",
              "      border-right-color: var(--fill-color);\n",
              "    }\n",
              "    40% {\n",
              "      border-color: transparent;\n",
              "      border-right-color: var(--fill-color);\n",
              "      border-top-color: var(--fill-color);\n",
              "    }\n",
              "    60% {\n",
              "      border-color: transparent;\n",
              "      border-right-color: var(--fill-color);\n",
              "    }\n",
              "    80% {\n",
              "      border-color: transparent;\n",
              "      border-right-color: var(--fill-color);\n",
              "      border-bottom-color: var(--fill-color);\n",
              "    }\n",
              "    90% {\n",
              "      border-color: transparent;\n",
              "      border-bottom-color: var(--fill-color);\n",
              "    }\n",
              "  }\n",
              "</style>\n",
              "\n",
              "  <script>\n",
              "    async function quickchart(key) {\n",
              "      const quickchartButtonEl =\n",
              "        document.querySelector('#' + key + ' button');\n",
              "      quickchartButtonEl.disabled = true;  // To prevent multiple clicks.\n",
              "      quickchartButtonEl.classList.add('colab-df-spinner');\n",
              "      try {\n",
              "        const charts = await google.colab.kernel.invokeFunction(\n",
              "            'suggestCharts', [key], {});\n",
              "      } catch (error) {\n",
              "        console.error('Error during call to suggestCharts:', error);\n",
              "      }\n",
              "      quickchartButtonEl.classList.remove('colab-df-spinner');\n",
              "      quickchartButtonEl.classList.add('colab-df-quickchart-complete');\n",
              "    }\n",
              "    (() => {\n",
              "      let quickchartButtonEl =\n",
              "        document.querySelector('#df-979851b6-d4ea-4cb7-abb4-c7f0b5ce4663 button');\n",
              "      quickchartButtonEl.style.display =\n",
              "        google.colab.kernel.accessAllowed ? 'block' : 'none';\n",
              "    })();\n",
              "  </script>\n",
              "</div>\n",
              "    </div>\n",
              "  </div>\n"
            ]
          },
          "metadata": {},
          "execution_count": 211
        }
      ]
    },
    {
      "cell_type": "markdown",
      "metadata": {
        "id": "MoSpnBpL2tkQ"
      },
      "source": [
        "## SOAL 1 Data Pre-processing [20]"
      ]
    },
    {
      "cell_type": "markdown",
      "source": [
        "**Terapkanlah proses data pre-processing pada bagian ini agar dataset yang telah diberikan dapat dijadikan input dari model yang akan kalian buat. Terapkan proses tersebut untuk masing-masing dataset (Red Wine & Admission Prediction) hingga dataset terbagi menjadi train dan test**"
      ],
      "metadata": {
        "id": "aRFPlQC667kl"
      }
    },
    {
      "cell_type": "code",
      "source": [
        "# Function to remove outlier\n",
        "\n",
        "def remove_outlier_on_df(df: pd.DataFrame, column_name: str) -> pd.DataFrame:\n",
        "  q_low = df[column_name].quantile(0.01)\n",
        "  q_hi  = df[column_name].quantile(0.99)\n",
        "\n",
        "  df = df[(df[column_name] < q_hi) & (df[column_name] > q_low)]\n",
        "  return df"
      ],
      "metadata": {
        "id": "Umrx3dVkJR8P"
      },
      "execution_count": 212,
      "outputs": []
    },
    {
      "cell_type": "markdown",
      "metadata": {
        "id": "ZyQew-2S4Jz6"
      },
      "source": [
        "### Dataset Red Wine"
      ]
    },
    {
      "cell_type": "markdown",
      "source": [
        "**Terapkan proses data pre-processing di bawah cell ini**"
      ],
      "metadata": {
        "id": "UGwT5g6cwdO5"
      }
    },
    {
      "cell_type": "code",
      "source": [
        "# Data Cleaning\n",
        "\n",
        "print(\"Baris dengan atribut kosong: \\n\", df_wine.isna().sum()) # Karena tidak ada data yang kosong maka tidak perlu dilakukan proses data imputation (namun dapat di drop saja (walaupun tidak ada pengaruh))\n",
        "\n",
        "df_wine.dropna(inplace=True)\n",
        "\n",
        "df_wine.drop_duplicates(inplace=True)\n",
        "\n",
        "\n",
        "## ------------  Remove Outlier ---------- ##\n",
        "\n",
        "# Remove Outlier on Sulphates\n",
        "# df_wine = remove_outlier_on_df(df_wine, \"alcohol\")\n",
        "\n",
        "## -------------------------------------- ##\n",
        "\n",
        "# Data Selection (Dependent vs Independent)\n",
        "\n",
        "# Kita tahu bahwa dependent variable disini adalah Quality, dan hasil sisanya adalah independent variable.\n",
        "\n",
        "# Red Wine\n",
        "X_red = df_wine.iloc[:,:-1] # Independent\n",
        "Y_red = df_wine.iloc[:,11] # Dependent\n",
        "# Splitting dataset to train or test\n",
        "\n",
        "X_red_train, X_red_test, Y_red_train, Y_red_test = train_test_split(X_red, Y_red, test_size= 0.2, random_state=1)"
      ],
      "metadata": {
        "id": "updpuyORMThB",
        "colab": {
          "base_uri": "https://localhost:8080/"
        },
        "outputId": "d50ee7b7-c085-465b-8431-01214b42400f"
      },
      "execution_count": 213,
      "outputs": [
        {
          "output_type": "stream",
          "name": "stdout",
          "text": [
            "Baris dengan atribut kosong: \n",
            " fixed acidity           0\n",
            "volatile acidity        0\n",
            "citric acid             0\n",
            "residual sugar          0\n",
            "chlorides               0\n",
            "free sulfur dioxide     0\n",
            "total sulfur dioxide    0\n",
            "density                 0\n",
            "pH                      0\n",
            "sulphates               0\n",
            "alcohol                 0\n",
            "quality                 0\n",
            "dtype: int64\n"
          ]
        }
      ]
    },
    {
      "cell_type": "markdown",
      "metadata": {
        "id": "79z1IdWu4MSA"
      },
      "source": [
        "### Dataset Admission Prediction"
      ]
    },
    {
      "cell_type": "markdown",
      "source": [
        "**Terapkan proses data pre-processing di bawah cell ini**"
      ],
      "metadata": {
        "id": "ka-r6a9wwicX"
      }
    },
    {
      "cell_type": "code",
      "source": [
        "# Data Cleaning\n",
        "\n",
        "print(\"Baris dengan atribut kosong: \\n\", df_admission.isna().sum())\n",
        "\n",
        "df_admission.dropna(inplace=True)\n",
        "\n",
        "df_admission.drop_duplicates(inplace=True)\n",
        "\n",
        "## ------------  Remove Outlier ---------- ##\n",
        "\n",
        "# Remove Outlier on CGPA\n",
        "# df_admission = remove_outlier_on_df(df_admission, \"CGPA\")\n",
        "\n",
        "## -------------------------------------- ##\n",
        "\n",
        "# Kita tahu bahwa dependent variable disini adalah Quality, dan hasil sisanya adalah independent variable.\n",
        "\n",
        "# Admission\n",
        "X_admission = df_admission.iloc[:,2:-1] # Independent\n",
        "Y_admission = df_admission.iloc[:,9] # Dependent\n",
        "\n",
        "# Splitting dataset to train or test\n",
        "\n",
        "X_admission_train, X_admission_test, Y_admission_train, Y_admission_test = train_test_split(X_admission, Y_admission, test_size= 0.2, random_state=1)"
      ],
      "metadata": {
        "id": "lxC6jGEjMWHh",
        "colab": {
          "base_uri": "https://localhost:8080/"
        },
        "outputId": "5c04af14-58f2-43ef-d018-f8cf1b0bba7e"
      },
      "execution_count": 214,
      "outputs": [
        {
          "output_type": "stream",
          "name": "stdout",
          "text": [
            "Baris dengan atribut kosong: \n",
            " Unnamed: 0           0\n",
            "Serial No.           0\n",
            "GRE Score            0\n",
            "TOEFL Score          0\n",
            "University Rating    0\n",
            "SOP                  0\n",
            "LOR                  0\n",
            "CGPA                 0\n",
            "Research             0\n",
            "Chance of Admit      0\n",
            "dtype: int64\n"
          ]
        }
      ]
    },
    {
      "cell_type": "markdown",
      "metadata": {
        "id": "GWBcCbHY5Suz"
      },
      "source": [
        "## CART (Classification and Regression Tree)"
      ]
    },
    {
      "cell_type": "markdown",
      "metadata": {
        "id": "0QA9DnAF5d6O"
      },
      "source": [
        "### Decision Tree\n",
        "\n",
        "Decision Tree merupakan model yang beroperasi dengan struktur berbentuk Binary Tree, di mana setiap node hanya dapat memiliki dua child node paling banyak. Dalam bidang data science, model ini diterapkan dalam konteks Supervised Learning, yaitu model dibentuk berdasarkan data training dan selanjutnya digunakan untuk membuat prediksi terhadap data yang disajikan. Data training yang digunakan akan diolah menjadi sebuah rangkaian aturan dalam bentuk Binary Tree. Aturan-aturan ini selanjutnya digunakan untuk proses prediksi pada dataset lain."
      ]
    },
    {
      "cell_type": "markdown",
      "metadata": {
        "id": "bircVGkQ6PJk"
      },
      "source": [
        "#### Training"
      ]
    },
    {
      "cell_type": "markdown",
      "source": [
        "Function di bawah ini merupakan function yang dapat digunakan untuk menghitung metrics hasil testing, baik untuk kasus regresi, maupun kasus klasifikasi."
      ],
      "metadata": {
        "id": "xf4OnGAi2Aac"
      }
    },
    {
      "cell_type": "code",
      "execution_count": 215,
      "metadata": {
        "id": "gilISJfn6TLq"
      },
      "outputs": [],
      "source": [
        "# https://medium.com/analytics-vidhya/evaluation-metrics-for-regression-models-c91c65d73af\n",
        "def regression_metrics(prediction, y_test):\n",
        "    MAE = mean_absolute_error(y_test, prediction)\n",
        "    MSE = mean_squared_error(y_test, prediction)\n",
        "    RMSE = np.sqrt(MSE)\n",
        "    R_squared = r2_score(y_test, prediction)\n",
        "\n",
        "    print('MAE: ' + str(MAE))\n",
        "    print('MSE: ' + str(MSE))\n",
        "    print('RMSE: ' + str(RMSE))\n",
        "    print('R_squared: ' + str(R_squared))"
      ]
    },
    {
      "cell_type": "code",
      "execution_count": 216,
      "metadata": {
        "id": "e6kJCWmI6uQq"
      },
      "outputs": [],
      "source": [
        "def classification_metrics(prediction, y_test):\n",
        "  accuracy = accuracy_score(y_test, prediction)\n",
        "  f1 = f1_score(y_test, prediction, average=\"macro\")\n",
        "  recall = recall_score(y_test, prediction, average=\"macro\")\n",
        "  precision = precision_score(y_test, prediction, average=\"macro\")\n",
        "\n",
        "  print('Accuracy: ' + str(accuracy))\n",
        "  print('F1 Score: ' + str(f1))\n",
        "  print('Recall Score: ' + str(recall))\n",
        "  print('Precision Score: ' + str(precision))\n"
      ]
    },
    {
      "cell_type": "markdown",
      "metadata": {
        "id": "1P2kd94H6aoZ"
      },
      "source": [
        "##### Dataset Red Wine"
      ]
    },
    {
      "cell_type": "code",
      "execution_count": 217,
      "metadata": {
        "id": "fjalBZHeDEjE",
        "colab": {
          "base_uri": "https://localhost:8080/",
          "height": 74
        },
        "outputId": "a4e65552-a16e-4acd-ea3e-4d4d647f5410"
      },
      "outputs": [
        {
          "output_type": "execute_result",
          "data": {
            "text/plain": [
              "DecisionTreeClassifier(max_depth=3, random_state=42)"
            ],
            "text/html": [
              "<style>#sk-container-id-46 {color: black;background-color: white;}#sk-container-id-46 pre{padding: 0;}#sk-container-id-46 div.sk-toggleable {background-color: white;}#sk-container-id-46 label.sk-toggleable__label {cursor: pointer;display: block;width: 100%;margin-bottom: 0;padding: 0.3em;box-sizing: border-box;text-align: center;}#sk-container-id-46 label.sk-toggleable__label-arrow:before {content: \"▸\";float: left;margin-right: 0.25em;color: #696969;}#sk-container-id-46 label.sk-toggleable__label-arrow:hover:before {color: black;}#sk-container-id-46 div.sk-estimator:hover label.sk-toggleable__label-arrow:before {color: black;}#sk-container-id-46 div.sk-toggleable__content {max-height: 0;max-width: 0;overflow: hidden;text-align: left;background-color: #f0f8ff;}#sk-container-id-46 div.sk-toggleable__content pre {margin: 0.2em;color: black;border-radius: 0.25em;background-color: #f0f8ff;}#sk-container-id-46 input.sk-toggleable__control:checked~div.sk-toggleable__content {max-height: 200px;max-width: 100%;overflow: auto;}#sk-container-id-46 input.sk-toggleable__control:checked~label.sk-toggleable__label-arrow:before {content: \"▾\";}#sk-container-id-46 div.sk-estimator input.sk-toggleable__control:checked~label.sk-toggleable__label {background-color: #d4ebff;}#sk-container-id-46 div.sk-label input.sk-toggleable__control:checked~label.sk-toggleable__label {background-color: #d4ebff;}#sk-container-id-46 input.sk-hidden--visually {border: 0;clip: rect(1px 1px 1px 1px);clip: rect(1px, 1px, 1px, 1px);height: 1px;margin: -1px;overflow: hidden;padding: 0;position: absolute;width: 1px;}#sk-container-id-46 div.sk-estimator {font-family: monospace;background-color: #f0f8ff;border: 1px dotted black;border-radius: 0.25em;box-sizing: border-box;margin-bottom: 0.5em;}#sk-container-id-46 div.sk-estimator:hover {background-color: #d4ebff;}#sk-container-id-46 div.sk-parallel-item::after {content: \"\";width: 100%;border-bottom: 1px solid gray;flex-grow: 1;}#sk-container-id-46 div.sk-label:hover label.sk-toggleable__label {background-color: #d4ebff;}#sk-container-id-46 div.sk-serial::before {content: \"\";position: absolute;border-left: 1px solid gray;box-sizing: border-box;top: 0;bottom: 0;left: 50%;z-index: 0;}#sk-container-id-46 div.sk-serial {display: flex;flex-direction: column;align-items: center;background-color: white;padding-right: 0.2em;padding-left: 0.2em;position: relative;}#sk-container-id-46 div.sk-item {position: relative;z-index: 1;}#sk-container-id-46 div.sk-parallel {display: flex;align-items: stretch;justify-content: center;background-color: white;position: relative;}#sk-container-id-46 div.sk-item::before, #sk-container-id-46 div.sk-parallel-item::before {content: \"\";position: absolute;border-left: 1px solid gray;box-sizing: border-box;top: 0;bottom: 0;left: 50%;z-index: -1;}#sk-container-id-46 div.sk-parallel-item {display: flex;flex-direction: column;z-index: 1;position: relative;background-color: white;}#sk-container-id-46 div.sk-parallel-item:first-child::after {align-self: flex-end;width: 50%;}#sk-container-id-46 div.sk-parallel-item:last-child::after {align-self: flex-start;width: 50%;}#sk-container-id-46 div.sk-parallel-item:only-child::after {width: 0;}#sk-container-id-46 div.sk-dashed-wrapped {border: 1px dashed gray;margin: 0 0.4em 0.5em 0.4em;box-sizing: border-box;padding-bottom: 0.4em;background-color: white;}#sk-container-id-46 div.sk-label label {font-family: monospace;font-weight: bold;display: inline-block;line-height: 1.2em;}#sk-container-id-46 div.sk-label-container {text-align: center;}#sk-container-id-46 div.sk-container {/* jupyter's `normalize.less` sets `[hidden] { display: none; }` but bootstrap.min.css set `[hidden] { display: none !important; }` so we also need the `!important` here to be able to override the default hidden behavior on the sphinx rendered scikit-learn.org. See: https://github.com/scikit-learn/scikit-learn/issues/21755 */display: inline-block !important;position: relative;}#sk-container-id-46 div.sk-text-repr-fallback {display: none;}</style><div id=\"sk-container-id-46\" class=\"sk-top-container\"><div class=\"sk-text-repr-fallback\"><pre>DecisionTreeClassifier(max_depth=3, random_state=42)</pre><b>In a Jupyter environment, please rerun this cell to show the HTML representation or trust the notebook. <br />On GitHub, the HTML representation is unable to render, please try loading this page with nbviewer.org.</b></div><div class=\"sk-container\" hidden><div class=\"sk-item\"><div class=\"sk-estimator sk-toggleable\"><input class=\"sk-toggleable__control sk-hidden--visually\" id=\"sk-estimator-id-86\" type=\"checkbox\" checked><label for=\"sk-estimator-id-86\" class=\"sk-toggleable__label sk-toggleable__label-arrow\">DecisionTreeClassifier</label><div class=\"sk-toggleable__content\"><pre>DecisionTreeClassifier(max_depth=3, random_state=42)</pre></div></div></div></div></div>"
            ]
          },
          "metadata": {},
          "execution_count": 217
        }
      ],
      "source": [
        "# Melakukan training pada model decision tree\n",
        "# Sesuaikan nama variable X_train dan y_train kamu\n",
        "dtc_red = DecisionTreeClassifier(max_depth=3, random_state=42)\n",
        "dtc_red.fit(X_red_train, Y_red_train)"
      ]
    },
    {
      "cell_type": "markdown",
      "metadata": {
        "id": "MBrN45b4Dbsp"
      },
      "source": [
        "##### Dataset Admission Prediction"
      ]
    },
    {
      "cell_type": "code",
      "execution_count": 218,
      "metadata": {
        "id": "6MykM4RdDeXq",
        "colab": {
          "base_uri": "https://localhost:8080/",
          "height": 74
        },
        "outputId": "eb2a09fd-3db9-4784-a236-2f4ad5d6e9cb"
      },
      "outputs": [
        {
          "output_type": "execute_result",
          "data": {
            "text/plain": [
              "DecisionTreeRegressor(max_depth=3, random_state=42)"
            ],
            "text/html": [
              "<style>#sk-container-id-47 {color: black;background-color: white;}#sk-container-id-47 pre{padding: 0;}#sk-container-id-47 div.sk-toggleable {background-color: white;}#sk-container-id-47 label.sk-toggleable__label {cursor: pointer;display: block;width: 100%;margin-bottom: 0;padding: 0.3em;box-sizing: border-box;text-align: center;}#sk-container-id-47 label.sk-toggleable__label-arrow:before {content: \"▸\";float: left;margin-right: 0.25em;color: #696969;}#sk-container-id-47 label.sk-toggleable__label-arrow:hover:before {color: black;}#sk-container-id-47 div.sk-estimator:hover label.sk-toggleable__label-arrow:before {color: black;}#sk-container-id-47 div.sk-toggleable__content {max-height: 0;max-width: 0;overflow: hidden;text-align: left;background-color: #f0f8ff;}#sk-container-id-47 div.sk-toggleable__content pre {margin: 0.2em;color: black;border-radius: 0.25em;background-color: #f0f8ff;}#sk-container-id-47 input.sk-toggleable__control:checked~div.sk-toggleable__content {max-height: 200px;max-width: 100%;overflow: auto;}#sk-container-id-47 input.sk-toggleable__control:checked~label.sk-toggleable__label-arrow:before {content: \"▾\";}#sk-container-id-47 div.sk-estimator input.sk-toggleable__control:checked~label.sk-toggleable__label {background-color: #d4ebff;}#sk-container-id-47 div.sk-label input.sk-toggleable__control:checked~label.sk-toggleable__label {background-color: #d4ebff;}#sk-container-id-47 input.sk-hidden--visually {border: 0;clip: rect(1px 1px 1px 1px);clip: rect(1px, 1px, 1px, 1px);height: 1px;margin: -1px;overflow: hidden;padding: 0;position: absolute;width: 1px;}#sk-container-id-47 div.sk-estimator {font-family: monospace;background-color: #f0f8ff;border: 1px dotted black;border-radius: 0.25em;box-sizing: border-box;margin-bottom: 0.5em;}#sk-container-id-47 div.sk-estimator:hover {background-color: #d4ebff;}#sk-container-id-47 div.sk-parallel-item::after {content: \"\";width: 100%;border-bottom: 1px solid gray;flex-grow: 1;}#sk-container-id-47 div.sk-label:hover label.sk-toggleable__label {background-color: #d4ebff;}#sk-container-id-47 div.sk-serial::before {content: \"\";position: absolute;border-left: 1px solid gray;box-sizing: border-box;top: 0;bottom: 0;left: 50%;z-index: 0;}#sk-container-id-47 div.sk-serial {display: flex;flex-direction: column;align-items: center;background-color: white;padding-right: 0.2em;padding-left: 0.2em;position: relative;}#sk-container-id-47 div.sk-item {position: relative;z-index: 1;}#sk-container-id-47 div.sk-parallel {display: flex;align-items: stretch;justify-content: center;background-color: white;position: relative;}#sk-container-id-47 div.sk-item::before, #sk-container-id-47 div.sk-parallel-item::before {content: \"\";position: absolute;border-left: 1px solid gray;box-sizing: border-box;top: 0;bottom: 0;left: 50%;z-index: -1;}#sk-container-id-47 div.sk-parallel-item {display: flex;flex-direction: column;z-index: 1;position: relative;background-color: white;}#sk-container-id-47 div.sk-parallel-item:first-child::after {align-self: flex-end;width: 50%;}#sk-container-id-47 div.sk-parallel-item:last-child::after {align-self: flex-start;width: 50%;}#sk-container-id-47 div.sk-parallel-item:only-child::after {width: 0;}#sk-container-id-47 div.sk-dashed-wrapped {border: 1px dashed gray;margin: 0 0.4em 0.5em 0.4em;box-sizing: border-box;padding-bottom: 0.4em;background-color: white;}#sk-container-id-47 div.sk-label label {font-family: monospace;font-weight: bold;display: inline-block;line-height: 1.2em;}#sk-container-id-47 div.sk-label-container {text-align: center;}#sk-container-id-47 div.sk-container {/* jupyter's `normalize.less` sets `[hidden] { display: none; }` but bootstrap.min.css set `[hidden] { display: none !important; }` so we also need the `!important` here to be able to override the default hidden behavior on the sphinx rendered scikit-learn.org. See: https://github.com/scikit-learn/scikit-learn/issues/21755 */display: inline-block !important;position: relative;}#sk-container-id-47 div.sk-text-repr-fallback {display: none;}</style><div id=\"sk-container-id-47\" class=\"sk-top-container\"><div class=\"sk-text-repr-fallback\"><pre>DecisionTreeRegressor(max_depth=3, random_state=42)</pre><b>In a Jupyter environment, please rerun this cell to show the HTML representation or trust the notebook. <br />On GitHub, the HTML representation is unable to render, please try loading this page with nbviewer.org.</b></div><div class=\"sk-container\" hidden><div class=\"sk-item\"><div class=\"sk-estimator sk-toggleable\"><input class=\"sk-toggleable__control sk-hidden--visually\" id=\"sk-estimator-id-87\" type=\"checkbox\" checked><label for=\"sk-estimator-id-87\" class=\"sk-toggleable__label sk-toggleable__label-arrow\">DecisionTreeRegressor</label><div class=\"sk-toggleable__content\"><pre>DecisionTreeRegressor(max_depth=3, random_state=42)</pre></div></div></div></div></div>"
            ]
          },
          "metadata": {},
          "execution_count": 218
        }
      ],
      "source": [
        "# Melakukan training pada model decision tree\n",
        "# Sesuaikan nama variable X_train dan y_train kamu\n",
        "dtr_admission = DecisionTreeRegressor(max_depth=3, random_state=42)\n",
        "dtr_admission.fit(X_admission_train, Y_admission_train)"
      ]
    },
    {
      "cell_type": "markdown",
      "metadata": {
        "id": "KGMm2HEoEOaj"
      },
      "source": [
        "#### Evaluation"
      ]
    },
    {
      "cell_type": "markdown",
      "metadata": {
        "id": "6sTzwrwcERjY"
      },
      "source": [
        "##### Dataset Red Wine"
      ]
    },
    {
      "cell_type": "code",
      "execution_count": 219,
      "metadata": {
        "id": "Oq1t9t64ETvV",
        "colab": {
          "base_uri": "https://localhost:8080/"
        },
        "outputId": "b31663e5-5f94-4d01-b9a5-7be993606c00"
      },
      "outputs": [
        {
          "output_type": "stream",
          "name": "stdout",
          "text": [
            "Accuracy: 0.49612403100775193\n",
            "F1 Score: 0.38932529664082116\n",
            "Recall Score: 0.4729628736740598\n",
            "Precision Score: 0.4188929915453596\n"
          ]
        },
        {
          "output_type": "stream",
          "name": "stderr",
          "text": [
            "/usr/local/lib/python3.10/dist-packages/sklearn/metrics/_classification.py:1344: UndefinedMetricWarning: Precision is ill-defined and being set to 0.0 in labels with no predicted samples. Use `zero_division` parameter to control this behavior.\n",
            "  _warn_prf(average, modifier, msg_start, len(result))\n"
          ]
        }
      ],
      "source": [
        "# Memprediksi data testing\n",
        "prediction = dtc_red.predict(X_red_test)\n",
        "\n",
        "# Call the metrics function\n",
        "classification_metrics(prediction, Y_red_test)"
      ]
    },
    {
      "cell_type": "markdown",
      "source": [
        "##### Dataset Admission Prediction"
      ],
      "metadata": {
        "id": "l8-eO_8VGhPX"
      }
    },
    {
      "cell_type": "code",
      "source": [
        "# Memprediksi data testing\n",
        "prediction = dtr_admission.predict(X_admission_test)\n",
        "\n",
        "# Call the metrics function\n",
        "regression_metrics(prediction, Y_admission_test)"
      ],
      "metadata": {
        "id": "P5Yj_nKHGmlp",
        "colab": {
          "base_uri": "https://localhost:8080/"
        },
        "outputId": "f3d7946e-508c-4cf7-bce6-39d934b4c174"
      },
      "execution_count": 220,
      "outputs": [
        {
          "output_type": "stream",
          "name": "stdout",
          "text": [
            "MAE: 0.05969194355708387\n",
            "MSE: 0.005599482816749552\n",
            "RMSE: 0.07482969207974567\n",
            "R_squared: 0.5545497143095808\n"
          ]
        }
      ]
    },
    {
      "cell_type": "markdown",
      "source": [
        "#### Hyperparameter"
      ],
      "metadata": {
        "id": "FskPvlAHHXQF"
      }
    },
    {
      "cell_type": "markdown",
      "source": [
        "\n",
        "Hyperparameter adalah parameter yang dapat kita sesuaikan atau konfigurasi sebelum memulai proses pembangunan model. Tujuan dari penyesuaian ini adalah untuk mengoptimalisasi performa model sehingga diharapkan dapat berfungsi lebih efektif.\n",
        "\n",
        "> Ada beberapa jenis hyperparameter yang terdapat dalam beragam algoritma machine learning, termasuk dalam algoritma Decision Tree. Beberapa hyperparameter yang ada dalam algoritma Decision Tree yang disediakan oleh modul sklearn.tree antara lain:\n",
        "\n",
        "- `criterion`: Metrik yang digunakan untuk mengevaluasi kualitas pemisahan node, contohnya:\n",
        "- `squared_error`: menggunakan reduksi varians sebagai kriteria seleksi fitur dan meminimalkan kerugian L2 dengan menggunakan mean dari setiap node terminal\n",
        "- `friedman_mse`: menghitung mean squared error dengan Friedman's improvement score untuk kemungkinan pemisahan (tidak perlu khawatir, ini tidak akan keluar di ujian)\n",
        "- `absolute_error`: meminimalkan kerugian L1 dengan menggunakan median dari setiap node terminal\n",
        "- `poisson`: memanfaatkan reduksi dalam Poisson deviance untuk menentukan pemisahan\n",
        "- `max_depth`: Membatasi kedalaman maksimum dari pohon\n",
        "- `min_samples_split`: Menentukan jumlah minimum sampel yang dibutuhkan untuk memecah sebuah node internal\n",
        "Untuk informasi lebih detail, Anda bisa merujuk pada dokumentasi berikut:\n",
        "[sklearn decision tree](https://scikit-learn.org/stable/modules/generated/sklearn.tree.DecisionTreeRegressor.html)"
      ],
      "metadata": {
        "id": "lLf2D3znHPVX"
      }
    },
    {
      "cell_type": "code",
      "source": [
        "# Melakukan training pada model decision tree\n",
        "# Decision tree yang dibangun memiliki hyperparameter max_depth=3\n",
        "dtr_md6 = DecisionTreeRegressor(max_depth=6, random_state=42)\n",
        "dtr_md6.fit(X_admission_train, Y_admission_train)\n",
        "\n",
        "# Memprediksi data testing\n",
        "predicted6 = dtr_md6.predict(X_admission_test)\n",
        "\n",
        "# Menampilkan metrics evaluasi\n",
        "regression_metrics(predicted6, Y_admission_test)"
      ],
      "metadata": {
        "id": "R9Ixy6F4IOKF",
        "colab": {
          "base_uri": "https://localhost:8080/"
        },
        "outputId": "f93cbdba-1e76-4401-c19c-507c4fb80e7e"
      },
      "execution_count": 221,
      "outputs": [
        {
          "output_type": "stream",
          "name": "stdout",
          "text": [
            "MAE: 0.06087629097093384\n",
            "MSE: 0.007593902614063874\n",
            "RMSE: 0.08714300094708624\n",
            "R_squared: 0.3958895491523977\n"
          ]
        }
      ]
    },
    {
      "cell_type": "markdown",
      "source": [
        "Perubahan *hyperparameter* dapat mempengaruhi performa dari model. Pada awalnya dengan `max_depth = 3` model menghasilkan *MAE* 0.04837917276086966 dan *RMSE* 0.06888923287937174. Setelah dilakukan perubahan *hyperparameter* dengan `max_depth = 6`, kita dapat melihat bahwa ada penurunan pada performa model dengan *MAE* 0.049144375215427846 dan *RMSE* 0.0704508435958617\n",
        "\n",
        "Bagaimana jika hyperparameter lain diubah? Silakan eksplorasi perubahan hyperparameter lain secara mandiri ya!😃"
      ],
      "metadata": {
        "id": "ygdtRWi1ImNZ"
      }
    },
    {
      "cell_type": "markdown",
      "source": [
        "### Visualisasi Decision Tree yang Dihasilkan"
      ],
      "metadata": {
        "id": "4vb8lRCBJCE-"
      }
    },
    {
      "cell_type": "markdown",
      "source": [
        "\n",
        "\n",
        "Kita bisa melakukan visualisasi terhadap serangkaian aturan yang membentuk Decision Tree yang telah dibangun. Salah satu caranya adalah dengan menggunakan modul `sklearn.tree.plot_tree` dengan bantuan `matplotlib`.\n",
        "\n",
        "Berikut adalah contoh visualisasi decision tree pada dataset Admission Prediction tanpa max depth:"
      ],
      "metadata": {
        "id": "6azDWikvJBSi"
      }
    },
    {
      "cell_type": "code",
      "source": [
        "# Membangun model tree\n",
        "tree_model = DecisionTreeRegressor()\n",
        "tree_model.fit(X_admission_train, Y_admission_train)\n",
        "\n",
        "# Melakukan visualisasi pada decision tree yang sudah dibangun sebelumnya\n",
        "print(tree.export_text(tree_model, feature_names=pd.Series(X_admission.columns).array))"
      ],
      "metadata": {
        "id": "sKnfNs6jJLbk",
        "colab": {
          "base_uri": "https://localhost:8080/"
        },
        "outputId": "b8d9d3a9-cea2-4afc-ee76-b02c64813114"
      },
      "execution_count": 222,
      "outputs": [
        {
          "output_type": "stream",
          "name": "stdout",
          "text": [
            "|--- CGPA <= 8.70\n",
            "|   |--- CGPA <= 8.03\n",
            "|   |   |--- GRE Score <= 307.00\n",
            "|   |   |   |--- CGPA <= 7.67\n",
            "|   |   |   |   |--- CGPA <= 7.65\n",
            "|   |   |   |   |   |--- CGPA <= 7.64\n",
            "|   |   |   |   |   |   |--- GRE Score <= 300.50\n",
            "|   |   |   |   |   |   |   |--- SOP <= 1.75\n",
            "|   |   |   |   |   |   |   |   |--- University Rating <= 1.50\n",
            "|   |   |   |   |   |   |   |   |   |--- TOEFL Score <= 97.00\n",
            "|   |   |   |   |   |   |   |   |   |   |--- value: [0.49]\n",
            "|   |   |   |   |   |   |   |   |   |--- TOEFL Score >  97.00\n",
            "|   |   |   |   |   |   |   |   |   |   |--- value: [0.53]\n",
            "|   |   |   |   |   |   |   |   |--- University Rating >  1.50\n",
            "|   |   |   |   |   |   |   |   |   |--- TOEFL Score <= 97.00\n",
            "|   |   |   |   |   |   |   |   |   |   |--- value: [0.47]\n",
            "|   |   |   |   |   |   |   |   |   |--- TOEFL Score >  97.00\n",
            "|   |   |   |   |   |   |   |   |   |   |--- value: [0.44]\n",
            "|   |   |   |   |   |   |   |--- SOP >  1.75\n",
            "|   |   |   |   |   |   |   |   |--- CGPA <= 7.42\n",
            "|   |   |   |   |   |   |   |   |   |--- University Rating <= 2.50\n",
            "|   |   |   |   |   |   |   |   |   |   |--- GRE Score <= 295.50\n",
            "|   |   |   |   |   |   |   |   |   |   |   |--- value: [0.46]\n",
            "|   |   |   |   |   |   |   |   |   |   |--- GRE Score >  295.50\n",
            "|   |   |   |   |   |   |   |   |   |   |   |--- value: [0.47]\n",
            "|   |   |   |   |   |   |   |   |   |--- University Rating >  2.50\n",
            "|   |   |   |   |   |   |   |   |   |   |--- value: [0.42]\n",
            "|   |   |   |   |   |   |   |   |--- CGPA >  7.42\n",
            "|   |   |   |   |   |   |   |   |   |--- CGPA <= 7.50\n",
            "|   |   |   |   |   |   |   |   |   |   |--- value: [0.34]\n",
            "|   |   |   |   |   |   |   |   |   |--- CGPA >  7.50\n",
            "|   |   |   |   |   |   |   |   |   |   |--- value: [0.37]\n",
            "|   |   |   |   |   |   |--- GRE Score >  300.50\n",
            "|   |   |   |   |   |   |   |--- value: [0.52]\n",
            "|   |   |   |   |   |--- CGPA >  7.64\n",
            "|   |   |   |   |   |   |--- GRE Score <= 299.00\n",
            "|   |   |   |   |   |   |   |--- value: [0.57]\n",
            "|   |   |   |   |   |   |--- GRE Score >  299.00\n",
            "|   |   |   |   |   |   |   |--- value: [0.56]\n",
            "|   |   |   |   |--- CGPA >  7.65\n",
            "|   |   |   |   |   |--- value: [0.38]\n",
            "|   |   |   |--- CGPA >  7.67\n",
            "|   |   |   |   |--- SOP <= 3.75\n",
            "|   |   |   |   |   |--- GRE Score <= 301.50\n",
            "|   |   |   |   |   |   |--- GRE Score <= 295.50\n",
            "|   |   |   |   |   |   |   |--- GRE Score <= 294.00\n",
            "|   |   |   |   |   |   |   |   |--- value: [0.64]\n",
            "|   |   |   |   |   |   |   |--- GRE Score >  294.00\n",
            "|   |   |   |   |   |   |   |   |--- value: [0.69]\n",
            "|   |   |   |   |   |   |--- GRE Score >  295.50\n",
            "|   |   |   |   |   |   |   |--- CGPA <= 7.99\n",
            "|   |   |   |   |   |   |   |   |--- GRE Score <= 296.50\n",
            "|   |   |   |   |   |   |   |   |   |--- value: [0.60]\n",
            "|   |   |   |   |   |   |   |   |--- GRE Score >  296.50\n",
            "|   |   |   |   |   |   |   |   |   |--- GRE Score <= 297.50\n",
            "|   |   |   |   |   |   |   |   |   |   |--- value: [0.52]\n",
            "|   |   |   |   |   |   |   |   |   |--- GRE Score >  297.50\n",
            "|   |   |   |   |   |   |   |   |   |   |--- CGPA <= 7.88\n",
            "|   |   |   |   |   |   |   |   |   |   |   |--- truncated branch of depth 3\n",
            "|   |   |   |   |   |   |   |   |   |   |--- CGPA >  7.88\n",
            "|   |   |   |   |   |   |   |   |   |   |   |--- truncated branch of depth 2\n",
            "|   |   |   |   |   |   |   |--- CGPA >  7.99\n",
            "|   |   |   |   |   |   |   |   |--- LOR  <= 2.50\n",
            "|   |   |   |   |   |   |   |   |   |--- value: [0.63]\n",
            "|   |   |   |   |   |   |   |   |--- LOR  >  2.50\n",
            "|   |   |   |   |   |   |   |   |   |--- value: [0.67]\n",
            "|   |   |   |   |   |--- GRE Score >  301.50\n",
            "|   |   |   |   |   |   |--- University Rating <= 3.50\n",
            "|   |   |   |   |   |   |   |--- CGPA <= 7.91\n",
            "|   |   |   |   |   |   |   |   |--- value: [0.57]\n",
            "|   |   |   |   |   |   |   |--- CGPA >  7.91\n",
            "|   |   |   |   |   |   |   |   |--- SOP <= 1.50\n",
            "|   |   |   |   |   |   |   |   |   |--- value: [0.56]\n",
            "|   |   |   |   |   |   |   |   |--- SOP >  1.50\n",
            "|   |   |   |   |   |   |   |   |   |--- University Rating <= 1.50\n",
            "|   |   |   |   |   |   |   |   |   |   |--- value: [0.50]\n",
            "|   |   |   |   |   |   |   |   |   |--- University Rating >  1.50\n",
            "|   |   |   |   |   |   |   |   |   |   |--- GRE Score <= 304.00\n",
            "|   |   |   |   |   |   |   |   |   |   |   |--- value: [0.46]\n",
            "|   |   |   |   |   |   |   |   |   |   |--- GRE Score >  304.00\n",
            "|   |   |   |   |   |   |   |   |   |   |   |--- value: [0.48]\n",
            "|   |   |   |   |   |   |--- University Rating >  3.50\n",
            "|   |   |   |   |   |   |   |--- value: [0.42]\n",
            "|   |   |   |   |--- SOP >  3.75\n",
            "|   |   |   |   |   |--- value: [0.34]\n",
            "|   |   |--- GRE Score >  307.00\n",
            "|   |   |   |--- GRE Score <= 319.50\n",
            "|   |   |   |   |--- LOR  <= 3.25\n",
            "|   |   |   |   |   |--- GRE Score <= 315.50\n",
            "|   |   |   |   |   |   |--- GRE Score <= 308.50\n",
            "|   |   |   |   |   |   |   |--- value: [0.46]\n",
            "|   |   |   |   |   |   |--- GRE Score >  308.50\n",
            "|   |   |   |   |   |   |   |--- SOP <= 2.25\n",
            "|   |   |   |   |   |   |   |   |--- TOEFL Score <= 104.00\n",
            "|   |   |   |   |   |   |   |   |   |--- University Rating <= 2.50\n",
            "|   |   |   |   |   |   |   |   |   |   |--- CGPA <= 7.38\n",
            "|   |   |   |   |   |   |   |   |   |   |   |--- value: [0.54]\n",
            "|   |   |   |   |   |   |   |   |   |   |--- CGPA >  7.38\n",
            "|   |   |   |   |   |   |   |   |   |   |   |--- truncated branch of depth 2\n",
            "|   |   |   |   |   |   |   |   |   |--- University Rating >  2.50\n",
            "|   |   |   |   |   |   |   |   |   |   |--- value: [0.62]\n",
            "|   |   |   |   |   |   |   |   |--- TOEFL Score >  104.00\n",
            "|   |   |   |   |   |   |   |   |   |--- value: [0.50]\n",
            "|   |   |   |   |   |   |   |--- SOP >  2.25\n",
            "|   |   |   |   |   |   |   |   |--- CGPA <= 7.99\n",
            "|   |   |   |   |   |   |   |   |   |--- CGPA <= 7.89\n",
            "|   |   |   |   |   |   |   |   |   |   |--- value: [0.63]\n",
            "|   |   |   |   |   |   |   |   |   |--- CGPA >  7.89\n",
            "|   |   |   |   |   |   |   |   |   |   |--- TOEFL Score <= 103.00\n",
            "|   |   |   |   |   |   |   |   |   |   |   |--- value: [0.65]\n",
            "|   |   |   |   |   |   |   |   |   |   |--- TOEFL Score >  103.00\n",
            "|   |   |   |   |   |   |   |   |   |   |   |--- value: [0.64]\n",
            "|   |   |   |   |   |   |   |   |--- CGPA >  7.99\n",
            "|   |   |   |   |   |   |   |   |   |--- value: [0.62]\n",
            "|   |   |   |   |   |--- GRE Score >  315.50\n",
            "|   |   |   |   |   |   |--- value: [0.49]\n",
            "|   |   |   |   |--- LOR  >  3.25\n",
            "|   |   |   |   |   |--- SOP <= 2.25\n",
            "|   |   |   |   |   |   |--- GRE Score <= 314.50\n",
            "|   |   |   |   |   |   |   |--- CGPA <= 7.57\n",
            "|   |   |   |   |   |   |   |   |--- value: [0.58]\n",
            "|   |   |   |   |   |   |   |--- CGPA >  7.57\n",
            "|   |   |   |   |   |   |   |   |--- value: [0.56]\n",
            "|   |   |   |   |   |   |--- GRE Score >  314.50\n",
            "|   |   |   |   |   |   |   |--- value: [0.61]\n",
            "|   |   |   |   |   |--- SOP >  2.25\n",
            "|   |   |   |   |   |   |--- LOR  <= 3.75\n",
            "|   |   |   |   |   |   |   |--- value: [0.71]\n",
            "|   |   |   |   |   |   |--- LOR  >  3.75\n",
            "|   |   |   |   |   |   |   |--- SOP <= 3.25\n",
            "|   |   |   |   |   |   |   |   |--- value: [0.68]\n",
            "|   |   |   |   |   |   |   |--- SOP >  3.25\n",
            "|   |   |   |   |   |   |   |   |--- value: [0.66]\n",
            "|   |   |   |--- GRE Score >  319.50\n",
            "|   |   |   |   |--- GRE Score <= 328.00\n",
            "|   |   |   |   |   |--- value: [0.70]\n",
            "|   |   |   |   |--- GRE Score >  328.00\n",
            "|   |   |   |   |   |--- value: [0.78]\n",
            "|   |--- CGPA >  8.03\n",
            "|   |   |--- CGPA <= 8.32\n",
            "|   |   |   |--- TOEFL Score <= 105.50\n",
            "|   |   |   |   |--- LOR  <= 4.25\n",
            "|   |   |   |   |   |--- CGPA <= 8.29\n",
            "|   |   |   |   |   |   |--- CGPA <= 8.20\n",
            "|   |   |   |   |   |   |   |--- CGPA <= 8.19\n",
            "|   |   |   |   |   |   |   |   |--- SOP <= 3.75\n",
            "|   |   |   |   |   |   |   |   |   |--- CGPA <= 8.10\n",
            "|   |   |   |   |   |   |   |   |   |   |--- GRE Score <= 312.50\n",
            "|   |   |   |   |   |   |   |   |   |   |   |--- truncated branch of depth 3\n",
            "|   |   |   |   |   |   |   |   |   |   |--- GRE Score >  312.50\n",
            "|   |   |   |   |   |   |   |   |   |   |   |--- value: [0.62]\n",
            "|   |   |   |   |   |   |   |   |   |--- CGPA >  8.10\n",
            "|   |   |   |   |   |   |   |   |   |   |--- CGPA <= 8.12\n",
            "|   |   |   |   |   |   |   |   |   |   |   |--- truncated branch of depth 2\n",
            "|   |   |   |   |   |   |   |   |   |   |--- CGPA >  8.12\n",
            "|   |   |   |   |   |   |   |   |   |   |   |--- truncated branch of depth 4\n",
            "|   |   |   |   |   |   |   |   |--- SOP >  3.75\n",
            "|   |   |   |   |   |   |   |   |   |--- Research <= 0.50\n",
            "|   |   |   |   |   |   |   |   |   |   |--- value: [0.67]\n",
            "|   |   |   |   |   |   |   |   |   |--- Research >  0.50\n",
            "|   |   |   |   |   |   |   |   |   |   |--- value: [0.74]\n",
            "|   |   |   |   |   |   |   |--- CGPA >  8.19\n",
            "|   |   |   |   |   |   |   |   |--- LOR  <= 2.25\n",
            "|   |   |   |   |   |   |   |   |   |--- value: [0.61]\n",
            "|   |   |   |   |   |   |   |   |--- LOR  >  2.25\n",
            "|   |   |   |   |   |   |   |   |   |--- GRE Score <= 305.50\n",
            "|   |   |   |   |   |   |   |   |   |   |--- value: [0.54]\n",
            "|   |   |   |   |   |   |   |   |   |--- GRE Score >  305.50\n",
            "|   |   |   |   |   |   |   |   |   |   |--- TOEFL Score <= 103.00\n",
            "|   |   |   |   |   |   |   |   |   |   |   |--- value: [0.47]\n",
            "|   |   |   |   |   |   |   |   |   |   |--- TOEFL Score >  103.00\n",
            "|   |   |   |   |   |   |   |   |   |   |   |--- value: [0.49]\n",
            "|   |   |   |   |   |   |--- CGPA >  8.20\n",
            "|   |   |   |   |   |   |   |--- TOEFL Score <= 101.00\n",
            "|   |   |   |   |   |   |   |   |--- SOP <= 3.25\n",
            "|   |   |   |   |   |   |   |   |   |--- value: [0.62]\n",
            "|   |   |   |   |   |   |   |   |--- SOP >  3.25\n",
            "|   |   |   |   |   |   |   |   |   |--- value: [0.63]\n",
            "|   |   |   |   |   |   |   |--- TOEFL Score >  101.00\n",
            "|   |   |   |   |   |   |   |   |--- SOP <= 2.25\n",
            "|   |   |   |   |   |   |   |   |   |--- TOEFL Score <= 102.50\n",
            "|   |   |   |   |   |   |   |   |   |   |--- value: [0.64]\n",
            "|   |   |   |   |   |   |   |   |   |--- TOEFL Score >  102.50\n",
            "|   |   |   |   |   |   |   |   |   |   |--- value: [0.65]\n",
            "|   |   |   |   |   |   |   |   |--- SOP >  2.25\n",
            "|   |   |   |   |   |   |   |   |   |--- CGPA <= 8.22\n",
            "|   |   |   |   |   |   |   |   |   |   |--- value: [0.64]\n",
            "|   |   |   |   |   |   |   |   |   |--- CGPA >  8.22\n",
            "|   |   |   |   |   |   |   |   |   |   |--- GRE Score <= 305.50\n",
            "|   |   |   |   |   |   |   |   |   |   |   |--- value: [0.67]\n",
            "|   |   |   |   |   |   |   |   |   |   |--- GRE Score >  305.50\n",
            "|   |   |   |   |   |   |   |   |   |   |   |--- truncated branch of depth 2\n",
            "|   |   |   |   |   |--- CGPA >  8.29\n",
            "|   |   |   |   |   |   |--- Research <= 0.50\n",
            "|   |   |   |   |   |   |   |--- value: [0.42]\n",
            "|   |   |   |   |   |   |--- Research >  0.50\n",
            "|   |   |   |   |   |   |   |--- value: [0.61]\n",
            "|   |   |   |   |--- LOR  >  4.25\n",
            "|   |   |   |   |   |--- value: [0.76]\n",
            "|   |   |   |--- TOEFL Score >  105.50\n",
            "|   |   |   |   |--- GRE Score <= 308.50\n",
            "|   |   |   |   |   |--- SOP <= 2.50\n",
            "|   |   |   |   |   |   |--- value: [0.61]\n",
            "|   |   |   |   |   |--- SOP >  2.50\n",
            "|   |   |   |   |   |   |--- value: [0.58]\n",
            "|   |   |   |   |--- GRE Score >  308.50\n",
            "|   |   |   |   |   |--- Research <= 0.50\n",
            "|   |   |   |   |   |   |--- SOP <= 3.00\n",
            "|   |   |   |   |   |   |   |--- CGPA <= 8.20\n",
            "|   |   |   |   |   |   |   |   |--- SOP <= 2.25\n",
            "|   |   |   |   |   |   |   |   |   |--- value: [0.73]\n",
            "|   |   |   |   |   |   |   |   |--- SOP >  2.25\n",
            "|   |   |   |   |   |   |   |   |   |--- value: [0.72]\n",
            "|   |   |   |   |   |   |   |--- CGPA >  8.20\n",
            "|   |   |   |   |   |   |   |   |--- value: [0.69]\n",
            "|   |   |   |   |   |   |--- SOP >  3.00\n",
            "|   |   |   |   |   |   |   |--- SOP <= 4.00\n",
            "|   |   |   |   |   |   |   |   |--- value: [0.66]\n",
            "|   |   |   |   |   |   |   |--- SOP >  4.00\n",
            "|   |   |   |   |   |   |   |   |--- value: [0.64]\n",
            "|   |   |   |   |   |--- Research >  0.50\n",
            "|   |   |   |   |   |   |--- University Rating <= 2.50\n",
            "|   |   |   |   |   |   |   |--- value: [0.79]\n",
            "|   |   |   |   |   |   |--- University Rating >  2.50\n",
            "|   |   |   |   |   |   |   |--- CGPA <= 8.18\n",
            "|   |   |   |   |   |   |   |   |--- LOR  <= 3.00\n",
            "|   |   |   |   |   |   |   |   |   |--- value: [0.72]\n",
            "|   |   |   |   |   |   |   |   |--- LOR  >  3.00\n",
            "|   |   |   |   |   |   |   |   |   |--- value: [0.73]\n",
            "|   |   |   |   |   |   |   |--- CGPA >  8.18\n",
            "|   |   |   |   |   |   |   |   |--- CGPA <= 8.24\n",
            "|   |   |   |   |   |   |   |   |   |--- value: [0.75]\n",
            "|   |   |   |   |   |   |   |   |--- CGPA >  8.24\n",
            "|   |   |   |   |   |   |   |   |   |--- value: [0.74]\n",
            "|   |   |--- CGPA >  8.32\n",
            "|   |   |   |--- GRE Score <= 306.50\n",
            "|   |   |   |   |--- GRE Score <= 301.50\n",
            "|   |   |   |   |   |--- SOP <= 3.75\n",
            "|   |   |   |   |   |   |--- TOEFL Score <= 103.50\n",
            "|   |   |   |   |   |   |   |--- value: [0.64]\n",
            "|   |   |   |   |   |   |--- TOEFL Score >  103.50\n",
            "|   |   |   |   |   |   |   |--- value: [0.62]\n",
            "|   |   |   |   |   |--- SOP >  3.75\n",
            "|   |   |   |   |   |   |--- TOEFL Score <= 104.00\n",
            "|   |   |   |   |   |   |   |--- value: [0.56]\n",
            "|   |   |   |   |   |   |--- TOEFL Score >  104.00\n",
            "|   |   |   |   |   |   |   |--- value: [0.64]\n",
            "|   |   |   |   |--- GRE Score >  301.50\n",
            "|   |   |   |   |   |--- CGPA <= 8.57\n",
            "|   |   |   |   |   |   |--- TOEFL Score <= 105.50\n",
            "|   |   |   |   |   |   |   |--- value: [0.69]\n",
            "|   |   |   |   |   |   |--- TOEFL Score >  105.50\n",
            "|   |   |   |   |   |   |   |--- TOEFL Score <= 109.00\n",
            "|   |   |   |   |   |   |   |   |--- value: [0.61]\n",
            "|   |   |   |   |   |   |   |--- TOEFL Score >  109.00\n",
            "|   |   |   |   |   |   |   |   |--- LOR  <= 4.25\n",
            "|   |   |   |   |   |   |   |   |   |--- value: [0.63]\n",
            "|   |   |   |   |   |   |   |   |--- LOR  >  4.25\n",
            "|   |   |   |   |   |   |   |   |   |--- value: [0.65]\n",
            "|   |   |   |   |   |--- CGPA >  8.57\n",
            "|   |   |   |   |   |   |--- TOEFL Score <= 107.50\n",
            "|   |   |   |   |   |   |   |--- value: [0.68]\n",
            "|   |   |   |   |   |   |--- TOEFL Score >  107.50\n",
            "|   |   |   |   |   |   |   |--- value: [0.71]\n",
            "|   |   |   |--- GRE Score >  306.50\n",
            "|   |   |   |   |--- CGPA <= 8.69\n",
            "|   |   |   |   |   |--- GRE Score <= 319.50\n",
            "|   |   |   |   |   |   |--- CGPA <= 8.65\n",
            "|   |   |   |   |   |   |   |--- GRE Score <= 307.50\n",
            "|   |   |   |   |   |   |   |   |--- TOEFL Score <= 108.50\n",
            "|   |   |   |   |   |   |   |   |   |--- value: [0.78]\n",
            "|   |   |   |   |   |   |   |   |--- TOEFL Score >  108.50\n",
            "|   |   |   |   |   |   |   |   |   |--- value: [0.79]\n",
            "|   |   |   |   |   |   |   |--- GRE Score >  307.50\n",
            "|   |   |   |   |   |   |   |   |--- TOEFL Score <= 104.50\n",
            "|   |   |   |   |   |   |   |   |   |--- GRE Score <= 315.50\n",
            "|   |   |   |   |   |   |   |   |   |   |--- LOR  <= 4.25\n",
            "|   |   |   |   |   |   |   |   |   |   |   |--- truncated branch of depth 3\n",
            "|   |   |   |   |   |   |   |   |   |   |--- LOR  >  4.25\n",
            "|   |   |   |   |   |   |   |   |   |   |   |--- truncated branch of depth 3\n",
            "|   |   |   |   |   |   |   |   |   |--- GRE Score >  315.50\n",
            "|   |   |   |   |   |   |   |   |   |   |--- CGPA <= 8.43\n",
            "|   |   |   |   |   |   |   |   |   |   |   |--- value: [0.68]\n",
            "|   |   |   |   |   |   |   |   |   |   |--- CGPA >  8.43\n",
            "|   |   |   |   |   |   |   |   |   |   |   |--- value: [0.71]\n",
            "|   |   |   |   |   |   |   |   |--- TOEFL Score >  104.50\n",
            "|   |   |   |   |   |   |   |   |   |--- CGPA <= 8.62\n",
            "|   |   |   |   |   |   |   |   |   |   |--- TOEFL Score <= 105.50\n",
            "|   |   |   |   |   |   |   |   |   |   |   |--- truncated branch of depth 4\n",
            "|   |   |   |   |   |   |   |   |   |   |--- TOEFL Score >  105.50\n",
            "|   |   |   |   |   |   |   |   |   |   |   |--- truncated branch of depth 6\n",
            "|   |   |   |   |   |   |   |   |   |--- CGPA >  8.62\n",
            "|   |   |   |   |   |   |   |   |   |   |--- value: [0.57]\n",
            "|   |   |   |   |   |   |--- CGPA >  8.65\n",
            "|   |   |   |   |   |   |   |--- LOR  <= 3.25\n",
            "|   |   |   |   |   |   |   |   |--- value: [0.84]\n",
            "|   |   |   |   |   |   |   |--- LOR  >  3.25\n",
            "|   |   |   |   |   |   |   |   |--- TOEFL Score <= 109.50\n",
            "|   |   |   |   |   |   |   |   |   |--- CGPA <= 8.68\n",
            "|   |   |   |   |   |   |   |   |   |   |--- value: [0.76]\n",
            "|   |   |   |   |   |   |   |   |   |--- CGPA >  8.68\n",
            "|   |   |   |   |   |   |   |   |   |   |--- value: [0.72]\n",
            "|   |   |   |   |   |   |   |   |--- TOEFL Score >  109.50\n",
            "|   |   |   |   |   |   |   |   |   |--- value: [0.71]\n",
            "|   |   |   |   |   |--- GRE Score >  319.50\n",
            "|   |   |   |   |   |   |--- CGPA <= 8.47\n",
            "|   |   |   |   |   |   |   |--- CGPA <= 8.44\n",
            "|   |   |   |   |   |   |   |   |--- TOEFL Score <= 112.50\n",
            "|   |   |   |   |   |   |   |   |   |--- TOEFL Score <= 105.50\n",
            "|   |   |   |   |   |   |   |   |   |   |--- value: [0.74]\n",
            "|   |   |   |   |   |   |   |   |   |--- TOEFL Score >  105.50\n",
            "|   |   |   |   |   |   |   |   |   |   |--- CGPA <= 8.42\n",
            "|   |   |   |   |   |   |   |   |   |   |   |--- value: [0.78]\n",
            "|   |   |   |   |   |   |   |   |   |   |--- CGPA >  8.42\n",
            "|   |   |   |   |   |   |   |   |   |   |   |--- value: [0.81]\n",
            "|   |   |   |   |   |   |   |   |--- TOEFL Score >  112.50\n",
            "|   |   |   |   |   |   |   |   |   |--- value: [0.70]\n",
            "|   |   |   |   |   |   |   |--- CGPA >  8.44\n",
            "|   |   |   |   |   |   |   |   |--- SOP <= 3.25\n",
            "|   |   |   |   |   |   |   |   |   |--- value: [0.65]\n",
            "|   |   |   |   |   |   |   |   |--- SOP >  3.25\n",
            "|   |   |   |   |   |   |   |   |   |--- value: [0.71]\n",
            "|   |   |   |   |   |   |--- CGPA >  8.47\n",
            "|   |   |   |   |   |   |   |--- CGPA <= 8.67\n",
            "|   |   |   |   |   |   |   |   |--- CGPA <= 8.63\n",
            "|   |   |   |   |   |   |   |   |   |--- CGPA <= 8.55\n",
            "|   |   |   |   |   |   |   |   |   |   |--- GRE Score <= 322.00\n",
            "|   |   |   |   |   |   |   |   |   |   |   |--- value: [0.79]\n",
            "|   |   |   |   |   |   |   |   |   |   |--- GRE Score >  322.00\n",
            "|   |   |   |   |   |   |   |   |   |   |   |--- value: [0.78]\n",
            "|   |   |   |   |   |   |   |   |   |--- CGPA >  8.55\n",
            "|   |   |   |   |   |   |   |   |   |   |--- TOEFL Score <= 108.00\n",
            "|   |   |   |   |   |   |   |   |   |   |   |--- value: [0.74]\n",
            "|   |   |   |   |   |   |   |   |   |   |--- TOEFL Score >  108.00\n",
            "|   |   |   |   |   |   |   |   |   |   |   |--- value: [0.76]\n",
            "|   |   |   |   |   |   |   |   |--- CGPA >  8.63\n",
            "|   |   |   |   |   |   |   |   |   |--- TOEFL Score <= 103.50\n",
            "|   |   |   |   |   |   |   |   |   |   |--- value: [0.78]\n",
            "|   |   |   |   |   |   |   |   |   |--- TOEFL Score >  103.50\n",
            "|   |   |   |   |   |   |   |   |   |   |--- LOR  <= 4.50\n",
            "|   |   |   |   |   |   |   |   |   |   |   |--- value: [0.81]\n",
            "|   |   |   |   |   |   |   |   |   |   |--- LOR  >  4.50\n",
            "|   |   |   |   |   |   |   |   |   |   |   |--- value: [0.85]\n",
            "|   |   |   |   |   |   |   |--- CGPA >  8.67\n",
            "|   |   |   |   |   |   |   |   |--- value: [0.69]\n",
            "|   |   |   |   |--- CGPA >  8.69\n",
            "|   |   |   |   |   |--- SOP <= 3.50\n",
            "|   |   |   |   |   |   |--- value: [0.52]\n",
            "|   |   |   |   |   |--- SOP >  3.50\n",
            "|   |   |   |   |   |   |--- value: [0.66]\n",
            "|--- CGPA >  8.70\n",
            "|   |--- CGPA <= 9.15\n",
            "|   |   |--- SOP <= 3.75\n",
            "|   |   |   |--- Research <= 0.50\n",
            "|   |   |   |   |--- CGPA <= 9.06\n",
            "|   |   |   |   |   |--- TOEFL Score <= 109.00\n",
            "|   |   |   |   |   |   |--- LOR  <= 3.25\n",
            "|   |   |   |   |   |   |   |--- value: [0.70]\n",
            "|   |   |   |   |   |   |--- LOR  >  3.25\n",
            "|   |   |   |   |   |   |   |--- LOR  <= 4.25\n",
            "|   |   |   |   |   |   |   |   |--- value: [0.72]\n",
            "|   |   |   |   |   |   |   |--- LOR  >  4.25\n",
            "|   |   |   |   |   |   |   |   |--- value: [0.74]\n",
            "|   |   |   |   |   |--- TOEFL Score >  109.00\n",
            "|   |   |   |   |   |   |--- value: [0.55]\n",
            "|   |   |   |   |--- CGPA >  9.06\n",
            "|   |   |   |   |   |--- LOR  <= 3.75\n",
            "|   |   |   |   |   |   |--- value: [0.78]\n",
            "|   |   |   |   |   |--- LOR  >  3.75\n",
            "|   |   |   |   |   |   |--- value: [0.79]\n",
            "|   |   |   |--- Research >  0.50\n",
            "|   |   |   |   |--- CGPA <= 8.85\n",
            "|   |   |   |   |   |--- GRE Score <= 323.00\n",
            "|   |   |   |   |   |   |--- GRE Score <= 316.00\n",
            "|   |   |   |   |   |   |   |--- value: [0.82]\n",
            "|   |   |   |   |   |   |--- GRE Score >  316.00\n",
            "|   |   |   |   |   |   |   |--- SOP <= 3.25\n",
            "|   |   |   |   |   |   |   |   |--- CGPA <= 8.72\n",
            "|   |   |   |   |   |   |   |   |   |--- value: [0.78]\n",
            "|   |   |   |   |   |   |   |   |--- CGPA >  8.72\n",
            "|   |   |   |   |   |   |   |   |   |--- value: [0.76]\n",
            "|   |   |   |   |   |   |   |--- SOP >  3.25\n",
            "|   |   |   |   |   |   |   |   |--- value: [0.78]\n",
            "|   |   |   |   |   |--- GRE Score >  323.00\n",
            "|   |   |   |   |   |   |--- University Rating <= 2.50\n",
            "|   |   |   |   |   |   |   |--- value: [0.75]\n",
            "|   |   |   |   |   |   |--- University Rating >  2.50\n",
            "|   |   |   |   |   |   |   |--- GRE Score <= 325.50\n",
            "|   |   |   |   |   |   |   |   |--- value: [0.70]\n",
            "|   |   |   |   |   |   |   |--- GRE Score >  325.50\n",
            "|   |   |   |   |   |   |   |   |--- value: [0.71]\n",
            "|   |   |   |   |--- CGPA >  8.85\n",
            "|   |   |   |   |   |--- LOR  <= 2.75\n",
            "|   |   |   |   |   |   |--- value: [0.73]\n",
            "|   |   |   |   |   |--- LOR  >  2.75\n",
            "|   |   |   |   |   |   |--- CGPA <= 9.07\n",
            "|   |   |   |   |   |   |   |--- LOR  <= 3.25\n",
            "|   |   |   |   |   |   |   |   |--- CGPA <= 9.00\n",
            "|   |   |   |   |   |   |   |   |   |--- value: [0.78]\n",
            "|   |   |   |   |   |   |   |   |--- CGPA >  9.00\n",
            "|   |   |   |   |   |   |   |   |   |--- value: [0.76]\n",
            "|   |   |   |   |   |   |   |--- LOR  >  3.25\n",
            "|   |   |   |   |   |   |   |   |--- GRE Score <= 316.50\n",
            "|   |   |   |   |   |   |   |   |   |--- value: [0.77]\n",
            "|   |   |   |   |   |   |   |   |--- GRE Score >  316.50\n",
            "|   |   |   |   |   |   |   |   |   |--- GRE Score <= 320.50\n",
            "|   |   |   |   |   |   |   |   |   |   |--- value: [0.84]\n",
            "|   |   |   |   |   |   |   |   |   |--- GRE Score >  320.50\n",
            "|   |   |   |   |   |   |   |   |   |   |--- University Rating <= 3.50\n",
            "|   |   |   |   |   |   |   |   |   |   |   |--- truncated branch of depth 3\n",
            "|   |   |   |   |   |   |   |   |   |   |--- University Rating >  3.50\n",
            "|   |   |   |   |   |   |   |   |   |   |   |--- value: [0.84]\n",
            "|   |   |   |   |   |   |--- CGPA >  9.07\n",
            "|   |   |   |   |   |   |   |--- TOEFL Score <= 113.00\n",
            "|   |   |   |   |   |   |   |   |--- value: [0.84]\n",
            "|   |   |   |   |   |   |   |--- TOEFL Score >  113.00\n",
            "|   |   |   |   |   |   |   |   |--- value: [0.83]\n",
            "|   |   |--- SOP >  3.75\n",
            "|   |   |   |--- TOEFL Score <= 113.50\n",
            "|   |   |   |   |--- CGPA <= 8.84\n",
            "|   |   |   |   |   |--- SOP <= 4.25\n",
            "|   |   |   |   |   |   |--- TOEFL Score <= 112.50\n",
            "|   |   |   |   |   |   |   |--- TOEFL Score <= 110.00\n",
            "|   |   |   |   |   |   |   |   |--- value: [0.81]\n",
            "|   |   |   |   |   |   |   |--- TOEFL Score >  110.00\n",
            "|   |   |   |   |   |   |   |   |--- Research <= 0.50\n",
            "|   |   |   |   |   |   |   |   |   |--- value: [0.79]\n",
            "|   |   |   |   |   |   |   |   |--- Research >  0.50\n",
            "|   |   |   |   |   |   |   |   |   |--- value: [0.80]\n",
            "|   |   |   |   |   |   |--- TOEFL Score >  112.50\n",
            "|   |   |   |   |   |   |   |--- value: [0.83]\n",
            "|   |   |   |   |   |--- SOP >  4.25\n",
            "|   |   |   |   |   |   |--- GRE Score <= 319.00\n",
            "|   |   |   |   |   |   |   |--- value: [0.74]\n",
            "|   |   |   |   |   |   |--- GRE Score >  319.00\n",
            "|   |   |   |   |   |   |   |--- TOEFL Score <= 105.50\n",
            "|   |   |   |   |   |   |   |   |--- value: [0.77]\n",
            "|   |   |   |   |   |   |   |--- TOEFL Score >  105.50\n",
            "|   |   |   |   |   |   |   |   |--- value: [0.76]\n",
            "|   |   |   |   |--- CGPA >  8.84\n",
            "|   |   |   |   |   |--- SOP <= 4.75\n",
            "|   |   |   |   |   |   |--- GRE Score <= 321.50\n",
            "|   |   |   |   |   |   |   |--- GRE Score <= 316.50\n",
            "|   |   |   |   |   |   |   |   |--- value: [0.79]\n",
            "|   |   |   |   |   |   |   |--- GRE Score >  316.50\n",
            "|   |   |   |   |   |   |   |   |--- CGPA <= 8.92\n",
            "|   |   |   |   |   |   |   |   |   |--- value: [0.85]\n",
            "|   |   |   |   |   |   |   |   |--- CGPA >  8.92\n",
            "|   |   |   |   |   |   |   |   |   |--- CGPA <= 9.05\n",
            "|   |   |   |   |   |   |   |   |   |   |--- value: [0.87]\n",
            "|   |   |   |   |   |   |   |   |   |--- CGPA >  9.05\n",
            "|   |   |   |   |   |   |   |   |   |   |--- value: [0.85]\n",
            "|   |   |   |   |   |   |--- GRE Score >  321.50\n",
            "|   |   |   |   |   |   |   |--- LOR  <= 4.75\n",
            "|   |   |   |   |   |   |   |   |--- GRE Score <= 323.50\n",
            "|   |   |   |   |   |   |   |   |   |--- GRE Score <= 322.50\n",
            "|   |   |   |   |   |   |   |   |   |   |--- value: [0.78]\n",
            "|   |   |   |   |   |   |   |   |   |--- GRE Score >  322.50\n",
            "|   |   |   |   |   |   |   |   |   |   |--- value: [0.79]\n",
            "|   |   |   |   |   |   |   |   |--- GRE Score >  323.50\n",
            "|   |   |   |   |   |   |   |   |   |--- Research <= 0.50\n",
            "|   |   |   |   |   |   |   |   |   |   |--- value: [0.84]\n",
            "|   |   |   |   |   |   |   |   |   |--- Research >  0.50\n",
            "|   |   |   |   |   |   |   |   |   |   |--- LOR  <= 4.25\n",
            "|   |   |   |   |   |   |   |   |   |   |   |--- truncated branch of depth 4\n",
            "|   |   |   |   |   |   |   |   |   |   |--- LOR  >  4.25\n",
            "|   |   |   |   |   |   |   |   |   |   |   |--- value: [0.78]\n",
            "|   |   |   |   |   |   |   |--- LOR  >  4.75\n",
            "|   |   |   |   |   |   |   |   |--- University Rating <= 4.50\n",
            "|   |   |   |   |   |   |   |   |   |--- value: [0.81]\n",
            "|   |   |   |   |   |   |   |   |--- University Rating >  4.50\n",
            "|   |   |   |   |   |   |   |   |   |--- value: [0.87]\n",
            "|   |   |   |   |   |--- SOP >  4.75\n",
            "|   |   |   |   |   |   |--- TOEFL Score <= 107.00\n",
            "|   |   |   |   |   |   |   |--- value: [0.82]\n",
            "|   |   |   |   |   |   |--- TOEFL Score >  107.00\n",
            "|   |   |   |   |   |   |   |--- GRE Score <= 321.50\n",
            "|   |   |   |   |   |   |   |   |--- value: [0.86]\n",
            "|   |   |   |   |   |   |   |--- GRE Score >  321.50\n",
            "|   |   |   |   |   |   |   |   |--- value: [0.88]\n",
            "|   |   |   |--- TOEFL Score >  113.50\n",
            "|   |   |   |   |--- University Rating <= 4.50\n",
            "|   |   |   |   |   |--- University Rating <= 2.50\n",
            "|   |   |   |   |   |   |--- value: [0.80]\n",
            "|   |   |   |   |   |--- University Rating >  2.50\n",
            "|   |   |   |   |   |   |--- GRE Score <= 331.50\n",
            "|   |   |   |   |   |   |   |--- University Rating <= 3.50\n",
            "|   |   |   |   |   |   |   |   |--- value: [0.86]\n",
            "|   |   |   |   |   |   |   |--- University Rating >  3.50\n",
            "|   |   |   |   |   |   |   |   |--- value: [0.85]\n",
            "|   |   |   |   |   |   |--- GRE Score >  331.50\n",
            "|   |   |   |   |   |   |   |--- value: [0.87]\n",
            "|   |   |   |   |--- University Rating >  4.50\n",
            "|   |   |   |   |   |--- CGPA <= 9.07\n",
            "|   |   |   |   |   |   |--- value: [0.95]\n",
            "|   |   |   |   |   |--- CGPA >  9.07\n",
            "|   |   |   |   |   |   |--- value: [0.89]\n",
            "|   |--- CGPA >  9.15\n",
            "|   |   |--- CGPA <= 9.47\n",
            "|   |   |   |--- CGPA <= 9.23\n",
            "|   |   |   |   |--- TOEFL Score <= 115.00\n",
            "|   |   |   |   |   |--- University Rating <= 4.50\n",
            "|   |   |   |   |   |   |--- TOEFL Score <= 109.50\n",
            "|   |   |   |   |   |   |   |--- value: [0.84]\n",
            "|   |   |   |   |   |   |--- TOEFL Score >  109.50\n",
            "|   |   |   |   |   |   |   |--- LOR  <= 4.25\n",
            "|   |   |   |   |   |   |   |   |--- value: [0.86]\n",
            "|   |   |   |   |   |   |   |--- LOR  >  4.25\n",
            "|   |   |   |   |   |   |   |   |--- value: [0.87]\n",
            "|   |   |   |   |   |--- University Rating >  4.50\n",
            "|   |   |   |   |   |   |--- CGPA <= 9.18\n",
            "|   |   |   |   |   |   |   |--- value: [0.90]\n",
            "|   |   |   |   |   |   |--- CGPA >  9.18\n",
            "|   |   |   |   |   |   |   |--- value: [0.88]\n",
            "|   |   |   |   |--- TOEFL Score >  115.00\n",
            "|   |   |   |   |   |--- GRE Score <= 333.00\n",
            "|   |   |   |   |   |   |--- value: [0.91]\n",
            "|   |   |   |   |   |--- GRE Score >  333.00\n",
            "|   |   |   |   |   |   |--- value: [0.92]\n",
            "|   |   |   |--- CGPA >  9.23\n",
            "|   |   |   |   |--- LOR  <= 4.75\n",
            "|   |   |   |   |   |--- TOEFL Score <= 113.50\n",
            "|   |   |   |   |   |   |--- CGPA <= 9.34\n",
            "|   |   |   |   |   |   |   |--- value: [0.91]\n",
            "|   |   |   |   |   |   |--- CGPA >  9.34\n",
            "|   |   |   |   |   |   |   |--- GRE Score <= 327.50\n",
            "|   |   |   |   |   |   |   |   |--- value: [0.91]\n",
            "|   |   |   |   |   |   |   |--- GRE Score >  327.50\n",
            "|   |   |   |   |   |   |   |   |--- value: [0.89]\n",
            "|   |   |   |   |   |--- TOEFL Score >  113.50\n",
            "|   |   |   |   |   |   |--- University Rating <= 4.50\n",
            "|   |   |   |   |   |   |   |--- CGPA <= 9.38\n",
            "|   |   |   |   |   |   |   |   |--- value: [0.90]\n",
            "|   |   |   |   |   |   |   |--- CGPA >  9.38\n",
            "|   |   |   |   |   |   |   |   |--- TOEFL Score <= 116.50\n",
            "|   |   |   |   |   |   |   |   |   |--- SOP <= 4.25\n",
            "|   |   |   |   |   |   |   |   |   |   |--- value: [0.93]\n",
            "|   |   |   |   |   |   |   |   |   |--- SOP >  4.25\n",
            "|   |   |   |   |   |   |   |   |   |   |--- value: [0.92]\n",
            "|   |   |   |   |   |   |   |   |--- TOEFL Score >  116.50\n",
            "|   |   |   |   |   |   |   |   |   |--- value: [0.91]\n",
            "|   |   |   |   |   |   |--- University Rating >  4.50\n",
            "|   |   |   |   |   |   |   |--- LOR  <= 3.25\n",
            "|   |   |   |   |   |   |   |   |--- value: [0.90]\n",
            "|   |   |   |   |   |   |   |--- LOR  >  3.25\n",
            "|   |   |   |   |   |   |   |   |--- TOEFL Score <= 115.50\n",
            "|   |   |   |   |   |   |   |   |   |--- value: [0.92]\n",
            "|   |   |   |   |   |   |   |   |--- TOEFL Score >  115.50\n",
            "|   |   |   |   |   |   |   |   |   |--- value: [0.93]\n",
            "|   |   |   |   |--- LOR  >  4.75\n",
            "|   |   |   |   |   |--- TOEFL Score <= 115.00\n",
            "|   |   |   |   |   |   |--- TOEFL Score <= 113.50\n",
            "|   |   |   |   |   |   |   |--- value: [0.92]\n",
            "|   |   |   |   |   |   |--- TOEFL Score >  113.50\n",
            "|   |   |   |   |   |   |   |--- value: [0.91]\n",
            "|   |   |   |   |   |--- TOEFL Score >  115.00\n",
            "|   |   |   |   |   |   |--- TOEFL Score <= 117.50\n",
            "|   |   |   |   |   |   |   |--- SOP <= 4.75\n",
            "|   |   |   |   |   |   |   |   |--- value: [0.94]\n",
            "|   |   |   |   |   |   |   |--- SOP >  4.75\n",
            "|   |   |   |   |   |   |   |   |--- CGPA <= 9.33\n",
            "|   |   |   |   |   |   |   |   |   |--- value: [0.94]\n",
            "|   |   |   |   |   |   |   |   |--- CGPA >  9.33\n",
            "|   |   |   |   |   |   |   |   |   |--- value: [0.93]\n",
            "|   |   |   |   |   |   |--- TOEFL Score >  117.50\n",
            "|   |   |   |   |   |   |   |--- value: [0.92]\n",
            "|   |   |--- CGPA >  9.47\n",
            "|   |   |   |--- Research <= 0.50\n",
            "|   |   |   |   |--- value: [0.89]\n",
            "|   |   |   |--- Research >  0.50\n",
            "|   |   |   |   |--- GRE Score <= 332.50\n",
            "|   |   |   |   |   |--- GRE Score <= 329.50\n",
            "|   |   |   |   |   |   |--- SOP <= 4.50\n",
            "|   |   |   |   |   |   |   |--- value: [0.92]\n",
            "|   |   |   |   |   |   |--- SOP >  4.50\n",
            "|   |   |   |   |   |   |   |--- value: [0.93]\n",
            "|   |   |   |   |   |--- GRE Score >  329.50\n",
            "|   |   |   |   |   |   |--- value: [0.94]\n",
            "|   |   |   |   |--- GRE Score >  332.50\n",
            "|   |   |   |   |   |--- CGPA <= 9.71\n",
            "|   |   |   |   |   |   |--- TOEFL Score <= 119.50\n",
            "|   |   |   |   |   |   |   |--- LOR  <= 4.25\n",
            "|   |   |   |   |   |   |   |   |--- value: [0.95]\n",
            "|   |   |   |   |   |   |   |--- LOR  >  4.25\n",
            "|   |   |   |   |   |   |   |   |--- value: [0.94]\n",
            "|   |   |   |   |   |   |--- TOEFL Score >  119.50\n",
            "|   |   |   |   |   |   |   |--- GRE Score <= 339.00\n",
            "|   |   |   |   |   |   |   |   |--- value: [0.95]\n",
            "|   |   |   |   |   |   |   |--- GRE Score >  339.00\n",
            "|   |   |   |   |   |   |   |   |--- value: [0.96]\n",
            "|   |   |   |   |   |--- CGPA >  9.71\n",
            "|   |   |   |   |   |   |--- TOEFL Score <= 119.50\n",
            "|   |   |   |   |   |   |   |--- value: [0.96]\n",
            "|   |   |   |   |   |   |--- TOEFL Score >  119.50\n",
            "|   |   |   |   |   |   |   |--- CGPA <= 9.91\n",
            "|   |   |   |   |   |   |   |   |--- value: [0.97]\n",
            "|   |   |   |   |   |   |   |--- CGPA >  9.91\n",
            "|   |   |   |   |   |   |   |   |--- value: [0.97]\n",
            "\n"
          ]
        }
      ]
    },
    {
      "cell_type": "markdown",
      "source": [
        "Dapat dilihat bahwa *decision tree* yang dihasilkan terlihat sangat kompleks. Hal tersebut beresiko untuk terjadi *overfitting* dan juga sulit untuk divisualisasikan. Oleh karena itu, akan perubahan *hyperparameter* pada model decision tree bisa membuat model yang dihasilkan tidak terlalu kompleks."
      ],
      "metadata": {
        "id": "cWvugkPIJiq0"
      }
    },
    {
      "cell_type": "code",
      "source": [
        "# Membangun model tree\n",
        "dt_md4 = DecisionTreeRegressor(max_depth=4)\n",
        "dt_md4.fit(X_admission_train, Y_admission_train)\n",
        "\n",
        "# Melakukan visualisasi pada decision tree yang sudah dibangun sebelumnya\n",
        "print(tree.export_text(dt_md4, feature_names=pd.Series(X_admission.columns).array))"
      ],
      "metadata": {
        "id": "tIwjOiVGJk4_",
        "colab": {
          "base_uri": "https://localhost:8080/"
        },
        "outputId": "64162d11-fd19-474c-a828-d012550afad5"
      },
      "execution_count": 223,
      "outputs": [
        {
          "output_type": "stream",
          "name": "stdout",
          "text": [
            "|--- CGPA <= 8.70\n",
            "|   |--- CGPA <= 8.03\n",
            "|   |   |--- GRE Score <= 307.00\n",
            "|   |   |   |--- CGPA <= 7.67\n",
            "|   |   |   |   |--- value: [0.46]\n",
            "|   |   |   |--- CGPA >  7.67\n",
            "|   |   |   |   |--- value: [0.55]\n",
            "|   |   |--- GRE Score >  307.00\n",
            "|   |   |   |--- GRE Score <= 319.50\n",
            "|   |   |   |   |--- value: [0.59]\n",
            "|   |   |   |--- GRE Score >  319.50\n",
            "|   |   |   |   |--- value: [0.74]\n",
            "|   |--- CGPA >  8.03\n",
            "|   |   |--- CGPA <= 8.32\n",
            "|   |   |   |--- TOEFL Score <= 105.50\n",
            "|   |   |   |   |--- value: [0.63]\n",
            "|   |   |   |--- TOEFL Score >  105.50\n",
            "|   |   |   |   |--- value: [0.70]\n",
            "|   |   |--- CGPA >  8.32\n",
            "|   |   |   |--- GRE Score <= 306.50\n",
            "|   |   |   |   |--- value: [0.64]\n",
            "|   |   |   |--- GRE Score >  306.50\n",
            "|   |   |   |   |--- value: [0.72]\n",
            "|--- CGPA >  8.70\n",
            "|   |--- CGPA <= 9.15\n",
            "|   |   |--- SOP <= 3.75\n",
            "|   |   |   |--- Research <= 0.50\n",
            "|   |   |   |   |--- value: [0.71]\n",
            "|   |   |   |--- Research >  0.50\n",
            "|   |   |   |   |--- value: [0.78]\n",
            "|   |   |--- SOP >  3.75\n",
            "|   |   |   |--- TOEFL Score <= 113.50\n",
            "|   |   |   |   |--- value: [0.81]\n",
            "|   |   |   |--- TOEFL Score >  113.50\n",
            "|   |   |   |   |--- value: [0.87]\n",
            "|   |--- CGPA >  9.15\n",
            "|   |   |--- CGPA <= 9.47\n",
            "|   |   |   |--- CGPA <= 9.23\n",
            "|   |   |   |   |--- value: [0.88]\n",
            "|   |   |   |--- CGPA >  9.23\n",
            "|   |   |   |   |--- value: [0.91]\n",
            "|   |   |--- CGPA >  9.47\n",
            "|   |   |   |--- Research <= 0.50\n",
            "|   |   |   |   |--- value: [0.89]\n",
            "|   |   |   |--- Research >  0.50\n",
            "|   |   |   |   |--- value: [0.95]\n",
            "\n"
          ]
        }
      ]
    },
    {
      "cell_type": "markdown",
      "source": [
        "Pada model decision tree di atas, dilakukan pembatasan pada kedalaman maksimal dengan mengatur nilai dari `max_depth`. Perubahan *hyperparameter* ini dilakukan untuk mendapatkan model dengan jenis yang sama namun atribut yang berbeda. Untuk pemilihan *hyperparameter* apa yang tepat, biasanya memperhatikan persebaran data pada dataset yang diberikan dan dibantu oleh pengalaman dalam melakukan serangkaian kegiatan data science.  \n",
        "\n",
        "Pemilihan dari *hyperparameter* biasanya disebut sebagai *Hyperparameter Tuning* dan ada metode yang dinamakan Grid Search Cross Validation yang bisa digunakan untuk memilih *hyperparameter* terbaik dari beberapa *hyperparameter* yang disediakan berdasarkan kriteria tertentu. Jika kalian tertarik terkait dengan penerapan Grid Search Cross Validation, silakan mencari dan mempraktikannya sebagai latihan mandiri.\n",
        "\n",
        "Informasi lebih lanjut dapat diakses pada dokumentasi berikut: [link text](https://scikit-learn.org/stable/modules/generated/sklearn.model_selection.GridSearchCV.html)"
      ],
      "metadata": {
        "id": "5Bbv0LQgJ0yj"
      }
    },
    {
      "cell_type": "markdown",
      "source": [
        "### Ensemble Learning"
      ],
      "metadata": {
        "id": "LolRO4JNK7uq"
      }
    },
    {
      "cell_type": "markdown",
      "source": [
        "*Ensemble Learning* adalah proses di mana kita menggunakan banyak model untuk mendapatkan hasil yang lebih baik dibandingkan dengan menggunakan satu model saja. Salah satu jenis *ensemble learning* adalah *bagging* (*bootstrap aggregating*).\n",
        "\n",
        "Pada metode *bagging*, setiap model akan dilatih menggunakan subhimpunan dari data *training* (tidak keseluruhan data latih digunakan dalam setiap proses *training*). Pada subhimpunan data yang satu dengan yang lainnya bisa mengandung data yang sama (tidak harus beda semua), hal inilah yang disebut dengan *bootstrap sampling*. Nantinya, setiap model yang telah dilatih akan melakukan proses prediksi terhadap data yang baru. Hasil prediksi akhir didapatkan melalui sistem *majority voting* di mana hasil akhirnya akan menggunakan hasil prediksi yang paling banyak muncul pada model-model yang telah dibuat.\n",
        "\n",
        "![randforest.png](data:image/png;base64,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)\n",
        "\n",
        "Sumber: Lab 4 KASDD Gasal 2023"
      ],
      "metadata": {
        "id": "OaWIwQdRK0vo"
      }
    },
    {
      "cell_type": "markdown",
      "source": [
        "### *Random Forest*"
      ],
      "metadata": {
        "id": "zvnbE7z4LMBc"
      }
    },
    {
      "cell_type": "markdown",
      "source": [
        "*Random Forest* merupakan salah satu variasi dari konsep *bagging* pada *ensemble learning* yang menggunakan Decision Tree sebagai basis modelnya. Setiap model yang dibangun berupa Decision Tree dan nantinya model tersebut dilatih dan digunakan untuk melakukan prediksi. Output dari Random Forest itu sendiri merupakan hasil prediksi yang paling banyak muncul di antara model-model Decision Tree."
      ],
      "metadata": {
        "id": "Bif73eNkLKrV"
      }
    },
    {
      "cell_type": "code",
      "source": [
        "# Melakukan training pada model random forest\n",
        "rf_md = RandomForestRegressor()\n",
        "rf_md.fit(X_admission_train, Y_admission_train)\n",
        "\n",
        "# Memprediksi data testing\n",
        "predicted = rf_md.predict(X_admission_test)\n",
        "\n",
        "# Menampilkan metrics\n",
        "regression_metrics(predicted, Y_admission_test)"
      ],
      "metadata": {
        "id": "XlcLUKTrLlMx",
        "colab": {
          "base_uri": "https://localhost:8080/"
        },
        "outputId": "8e569e32-0d16-4b8d-b6de-e1c834998836"
      },
      "execution_count": 224,
      "outputs": [
        {
          "output_type": "stream",
          "name": "stdout",
          "text": [
            "MAE: 0.050405714285714213\n",
            "MSE: 0.004355055142857132\n",
            "RMSE: 0.06599284160314005\n",
            "R_squared: 0.6535464754387141\n"
          ]
        }
      ]
    },
    {
      "cell_type": "code",
      "source": [
        "rf_red_paramless = RandomForestClassifier()\n",
        "rf_red_paramless.fit(X_red_train, Y_red_train)\n",
        "\n",
        "predicted = rf_red_paramless.predict(X_red_test)\n",
        "\n",
        "classification_metrics(predicted, Y_red_test)"
      ],
      "metadata": {
        "id": "Klwhkf0b5hCK",
        "colab": {
          "base_uri": "https://localhost:8080/"
        },
        "outputId": "c708cf4d-6df9-467e-b7d2-fc32cdf4ca34"
      },
      "execution_count": 225,
      "outputs": [
        {
          "output_type": "stream",
          "name": "stdout",
          "text": [
            "Accuracy: 0.8434108527131783\n",
            "F1 Score: 0.8266497791821847\n",
            "Recall Score: 0.8303556123441599\n",
            "Precision Score: 0.8267296219984366\n"
          ]
        }
      ]
    },
    {
      "cell_type": "markdown",
      "source": [
        "Terlihat bahwa terdapat perubahan pada metriknya.\n",
        "\n",
        "Diharapkan untuk mempelajari kelebihan dan kekurangan dari setiap jenis model yang dipelajari agar kita bisa mengetahui pada dataset seperti apa suatu jenis model cocok untuk digunakan. Agar model yang dihasilkan lebih baik, kita juga harus bisa memilih *hyperparameter* yang sesuai dengan permasalahan yang ingin diselesaikan.\n",
        "\n",
        "Adapun beberapa *hyperparameter* yang dapat kita eksplorasi pada Random Forest:\n",
        "* `n_estimators`: Berapa banyak decision tree yang akan membentuk random forest\n",
        "* `max_depth`: Kedalaman maksimal dari masing-masing Decision Tree\n",
        "* `min_samples_split`: Jumlah sample minimal yang diperlukan untuk memecah suatu internal node pada setiap Decision Tree\n",
        "\n",
        "Informasi lebih lanjut dapat diakses pada dokumentasi berikut: [dokumentasi Random Forest](https://scikit-learn.org/stable/modules/generated/sklearn.ensemble.RandomForestRegressor.html)"
      ],
      "metadata": {
        "id": "I7R0q1-KL4bE"
      }
    },
    {
      "cell_type": "markdown",
      "source": [
        "## Hyperparameter Tuning"
      ],
      "metadata": {
        "id": "Tf9jZOQLMB1M"
      }
    },
    {
      "cell_type": "markdown",
      "source": [
        "Hyperparameter tuning dapat digunakan untuk mendapatkan hasil evaluasi yang terbaik untuk suatu model. Misalkan kita ingin mendapatkan parameter terbaik untuk model Decision Tree, maka kita harus mencoba berbagai kombinasi hyperparameter yang diinginkan. Untuk mempermudah mencari hyperparameter yang tepat, kita dapat menggunakan modul GridSearchCV dari library Scikit-Learn. Informasi lebih lanjut mengenai GridSearchCV dapat diakses [di sini](https://scikit-learn.org/stable/modules/generated/sklearn.model_selection.GridSearchCV.html)\n",
        "\n",
        "Beberapa parameter yang sering digunakan, yaitu:\n",
        "- `estimator`: model yang akan digunakan\n",
        "- `param_grid`: kombinasi berbagai hyperparameter yang akan digunakan.\n",
        "- `cv`: jumlah cross-validation yang ingin digunakan"
      ],
      "metadata": {
        "id": "PVCTf7zOMFVL"
      }
    },
    {
      "cell_type": "code",
      "source": [
        "param_grid = {'criterion': ['squared_error', 'friedman_mse', 'absolute_error'],\n",
        "               'min_samples_split': [10, 20, 50],\n",
        "               'max_depth' : [5, 10, 12, None]}\n",
        "\n",
        "dt = DecisionTreeRegressor()\n",
        "clf = GridSearchCV(estimator= dt,\n",
        "                   param_grid=param_grid, cv= 5)\n",
        "\n",
        "clf.fit(X_admission_train, Y_admission_train)"
      ],
      "metadata": {
        "id": "NNt7RotIMXqF",
        "colab": {
          "base_uri": "https://localhost:8080/",
          "height": 116
        },
        "outputId": "7175c46c-5a09-4146-c598-16567b867ee0"
      },
      "execution_count": 226,
      "outputs": [
        {
          "output_type": "execute_result",
          "data": {
            "text/plain": [
              "GridSearchCV(cv=5, estimator=DecisionTreeRegressor(),\n",
              "             param_grid={'criterion': ['squared_error', 'friedman_mse',\n",
              "                                       'absolute_error'],\n",
              "                         'max_depth': [5, 10, 12, None],\n",
              "                         'min_samples_split': [10, 20, 50]})"
            ],
            "text/html": [
              "<style>#sk-container-id-48 {color: black;background-color: white;}#sk-container-id-48 pre{padding: 0;}#sk-container-id-48 div.sk-toggleable {background-color: white;}#sk-container-id-48 label.sk-toggleable__label {cursor: pointer;display: block;width: 100%;margin-bottom: 0;padding: 0.3em;box-sizing: border-box;text-align: center;}#sk-container-id-48 label.sk-toggleable__label-arrow:before {content: \"▸\";float: left;margin-right: 0.25em;color: #696969;}#sk-container-id-48 label.sk-toggleable__label-arrow:hover:before {color: black;}#sk-container-id-48 div.sk-estimator:hover label.sk-toggleable__label-arrow:before {color: black;}#sk-container-id-48 div.sk-toggleable__content {max-height: 0;max-width: 0;overflow: hidden;text-align: left;background-color: #f0f8ff;}#sk-container-id-48 div.sk-toggleable__content pre {margin: 0.2em;color: black;border-radius: 0.25em;background-color: #f0f8ff;}#sk-container-id-48 input.sk-toggleable__control:checked~div.sk-toggleable__content {max-height: 200px;max-width: 100%;overflow: auto;}#sk-container-id-48 input.sk-toggleable__control:checked~label.sk-toggleable__label-arrow:before {content: \"▾\";}#sk-container-id-48 div.sk-estimator input.sk-toggleable__control:checked~label.sk-toggleable__label {background-color: #d4ebff;}#sk-container-id-48 div.sk-label input.sk-toggleable__control:checked~label.sk-toggleable__label {background-color: #d4ebff;}#sk-container-id-48 input.sk-hidden--visually {border: 0;clip: rect(1px 1px 1px 1px);clip: rect(1px, 1px, 1px, 1px);height: 1px;margin: -1px;overflow: hidden;padding: 0;position: absolute;width: 1px;}#sk-container-id-48 div.sk-estimator {font-family: monospace;background-color: #f0f8ff;border: 1px dotted black;border-radius: 0.25em;box-sizing: border-box;margin-bottom: 0.5em;}#sk-container-id-48 div.sk-estimator:hover {background-color: #d4ebff;}#sk-container-id-48 div.sk-parallel-item::after {content: \"\";width: 100%;border-bottom: 1px solid gray;flex-grow: 1;}#sk-container-id-48 div.sk-label:hover label.sk-toggleable__label {background-color: #d4ebff;}#sk-container-id-48 div.sk-serial::before {content: \"\";position: absolute;border-left: 1px solid gray;box-sizing: border-box;top: 0;bottom: 0;left: 50%;z-index: 0;}#sk-container-id-48 div.sk-serial {display: flex;flex-direction: column;align-items: center;background-color: white;padding-right: 0.2em;padding-left: 0.2em;position: relative;}#sk-container-id-48 div.sk-item {position: relative;z-index: 1;}#sk-container-id-48 div.sk-parallel {display: flex;align-items: stretch;justify-content: center;background-color: white;position: relative;}#sk-container-id-48 div.sk-item::before, #sk-container-id-48 div.sk-parallel-item::before {content: \"\";position: absolute;border-left: 1px solid gray;box-sizing: border-box;top: 0;bottom: 0;left: 50%;z-index: -1;}#sk-container-id-48 div.sk-parallel-item {display: flex;flex-direction: column;z-index: 1;position: relative;background-color: white;}#sk-container-id-48 div.sk-parallel-item:first-child::after {align-self: flex-end;width: 50%;}#sk-container-id-48 div.sk-parallel-item:last-child::after {align-self: flex-start;width: 50%;}#sk-container-id-48 div.sk-parallel-item:only-child::after {width: 0;}#sk-container-id-48 div.sk-dashed-wrapped {border: 1px dashed gray;margin: 0 0.4em 0.5em 0.4em;box-sizing: border-box;padding-bottom: 0.4em;background-color: white;}#sk-container-id-48 div.sk-label label {font-family: monospace;font-weight: bold;display: inline-block;line-height: 1.2em;}#sk-container-id-48 div.sk-label-container {text-align: center;}#sk-container-id-48 div.sk-container {/* jupyter's `normalize.less` sets `[hidden] { display: none; }` but bootstrap.min.css set `[hidden] { display: none !important; }` so we also need the `!important` here to be able to override the default hidden behavior on the sphinx rendered scikit-learn.org. See: https://github.com/scikit-learn/scikit-learn/issues/21755 */display: inline-block !important;position: relative;}#sk-container-id-48 div.sk-text-repr-fallback {display: none;}</style><div id=\"sk-container-id-48\" class=\"sk-top-container\"><div class=\"sk-text-repr-fallback\"><pre>GridSearchCV(cv=5, estimator=DecisionTreeRegressor(),\n",
              "             param_grid={&#x27;criterion&#x27;: [&#x27;squared_error&#x27;, &#x27;friedman_mse&#x27;,\n",
              "                                       &#x27;absolute_error&#x27;],\n",
              "                         &#x27;max_depth&#x27;: [5, 10, 12, None],\n",
              "                         &#x27;min_samples_split&#x27;: [10, 20, 50]})</pre><b>In a Jupyter environment, please rerun this cell to show the HTML representation or trust the notebook. <br />On GitHub, the HTML representation is unable to render, please try loading this page with nbviewer.org.</b></div><div class=\"sk-container\" hidden><div class=\"sk-item sk-dashed-wrapped\"><div class=\"sk-label-container\"><div class=\"sk-label sk-toggleable\"><input class=\"sk-toggleable__control sk-hidden--visually\" id=\"sk-estimator-id-88\" type=\"checkbox\" ><label for=\"sk-estimator-id-88\" class=\"sk-toggleable__label sk-toggleable__label-arrow\">GridSearchCV</label><div class=\"sk-toggleable__content\"><pre>GridSearchCV(cv=5, estimator=DecisionTreeRegressor(),\n",
              "             param_grid={&#x27;criterion&#x27;: [&#x27;squared_error&#x27;, &#x27;friedman_mse&#x27;,\n",
              "                                       &#x27;absolute_error&#x27;],\n",
              "                         &#x27;max_depth&#x27;: [5, 10, 12, None],\n",
              "                         &#x27;min_samples_split&#x27;: [10, 20, 50]})</pre></div></div></div><div class=\"sk-parallel\"><div class=\"sk-parallel-item\"><div class=\"sk-item\"><div class=\"sk-label-container\"><div class=\"sk-label sk-toggleable\"><input class=\"sk-toggleable__control sk-hidden--visually\" id=\"sk-estimator-id-89\" type=\"checkbox\" ><label for=\"sk-estimator-id-89\" class=\"sk-toggleable__label sk-toggleable__label-arrow\">estimator: DecisionTreeRegressor</label><div class=\"sk-toggleable__content\"><pre>DecisionTreeRegressor()</pre></div></div></div><div class=\"sk-serial\"><div class=\"sk-item\"><div class=\"sk-estimator sk-toggleable\"><input class=\"sk-toggleable__control sk-hidden--visually\" id=\"sk-estimator-id-90\" type=\"checkbox\" ><label for=\"sk-estimator-id-90\" class=\"sk-toggleable__label sk-toggleable__label-arrow\">DecisionTreeRegressor</label><div class=\"sk-toggleable__content\"><pre>DecisionTreeRegressor()</pre></div></div></div></div></div></div></div></div></div></div>"
            ]
          },
          "metadata": {},
          "execution_count": 226
        }
      ]
    },
    {
      "cell_type": "code",
      "source": [
        "clf.best_params_"
      ],
      "metadata": {
        "id": "stZtyNMFN6Hw",
        "colab": {
          "base_uri": "https://localhost:8080/"
        },
        "outputId": "f044aa4c-af7d-437f-f55c-0367bad5e5bc"
      },
      "execution_count": 227,
      "outputs": [
        {
          "output_type": "execute_result",
          "data": {
            "text/plain": [
              "{'criterion': 'absolute_error', 'max_depth': 12, 'min_samples_split': 50}"
            ]
          },
          "metadata": {},
          "execution_count": 227
        }
      ]
    },
    {
      "cell_type": "code",
      "source": [
        "best_hp = DecisionTreeRegressor(**clf.best_params_)\n",
        "best_hp.fit(X_admission_train, Y_admission_train)\n",
        "predicted = best_hp.predict(X_admission_test)\n",
        "regression_metrics(predicted, Y_admission_test)"
      ],
      "metadata": {
        "id": "NDLLTNExOAHj",
        "colab": {
          "base_uri": "https://localhost:8080/"
        },
        "outputId": "7925096e-2c29-40b2-f09d-ac589e30a6f6"
      },
      "execution_count": 228,
      "outputs": [
        {
          "output_type": "stream",
          "name": "stdout",
          "text": [
            "MAE: 0.049857142857142864\n",
            "MSE: 0.004924285714285716\n",
            "RMSE: 0.070173254978558\n",
            "R_squared: 0.6082630217761535\n"
          ]
        }
      ]
    },
    {
      "cell_type": "markdown",
      "source": [
        "Sekarang kita mendapatkan kombinasi terbaik dari berbagai kombinasi hyperparameter yang telah kita coba."
      ],
      "metadata": {
        "id": "C87fQw5oOXug"
      }
    },
    {
      "cell_type": "markdown",
      "source": [
        "## BONUS ROUND: Kaggle Competition!"
      ],
      "metadata": {
        "id": "9qkXvepLO_qr"
      }
    },
    {
      "cell_type": "markdown",
      "source": [
        "Dalam rangka menerapkan pemahaman kalian pada materi CART dan sebagai sarana untuk **mendapatkan nilai tambahan**, kalian **diwajibkan** untuk mengikuti Kaggle Competition yang akan diadakan bersamaan dengan Lab 4 ini.\n",
        "\n",
        "**Bagaimana Cara Mengikuti?**\n",
        "*   Kalian akan menemukan tautan ke kompetisi di bagian bawah section ini. Klik tautan tersebut untuk mengakses halaman kompetisi.\n",
        "*   Kerjakan solusi Anda menggunakan notebook ini.\n",
        "*   Unggah hasil prediksi Anda ke dalam kompetisi Kaggle yang telah disediakan. Format dari submission telah dispesifikasikan pada bagian **Submission File** di laman Kaggle.\n",
        "\n",
        "**Tautan Kaggle Competition**\n",
        "*   [Kaggle Competition Regression Case](https://www.kaggle.com/competitions/lab-4-regression-case?rvi=1)\n",
        "*   [Kaggle Competition Classification Case](https://www.kaggle.com/competitions/lab-4-klasifikasi-kualitas-wine)\n",
        "\n",
        "**Nilai Bonus**\n",
        "\n",
        "Penentuan peserta yang mendapatkan nilai bonus akan ditentukan sesuai dengan peringkat dari masing-masing peserta di leaderboard, semakin tinggi peringkat kalian, semakin besar nilai bonus yang akan kalian dapatkan.\n"
      ],
      "metadata": {
        "id": "CitGye_APDEI"
      }
    },
    {
      "cell_type": "markdown",
      "source": [
        "# Note for Corrector: Kode Bonus Kaggle ada dipaling bawah!  "
      ],
      "metadata": {
        "id": "mIRCoKPe8vFC"
      }
    },
    {
      "cell_type": "markdown",
      "source": [
        "# Latihan Soal"
      ],
      "metadata": {
        "id": "3q5-6UoFPI78"
      }
    },
    {
      "cell_type": "markdown",
      "source": [
        "## SOAL 2 [10]"
      ],
      "metadata": {
        "id": "_PbYq6kjPYsp"
      }
    },
    {
      "cell_type": "markdown",
      "source": [
        "### SOAL 2a\n",
        "[2.5] Bangun dan latih 2 model decision tree (decision tree regressor untuk admission dan decision tree classifier untuk red wine) dengan memberikan nilai pada *hyperparameter*:\n",
        "- `max_depth = 4`\n",
        "- `random_state = 2023`."
      ],
      "metadata": {
        "id": "oPsSi2YxRxIV"
      }
    },
    {
      "cell_type": "code",
      "source": [
        "\n",
        "# Model Decision tree classifier red wine\n",
        "dtc_red_new = DecisionTreeClassifier(max_depth=4, random_state=2023)\n",
        "dtc_red_new.fit(X_red_train, Y_red_train)\n",
        "print(dtc_red_new)\n",
        "\n",
        "# Model Decision tree regressor admission\n",
        "dtr_admission_new = DecisionTreeRegressor(max_depth=4, random_state=2023)\n",
        "dtr_admission_new.fit(X_admission_train, Y_admission_train)\n",
        "print(dtr_admission_new)"
      ],
      "metadata": {
        "id": "_ubYa3xhNIPM",
        "colab": {
          "base_uri": "https://localhost:8080/"
        },
        "outputId": "22aeb95f-70d2-4ddb-c741-e70812d114b6"
      },
      "execution_count": 229,
      "outputs": [
        {
          "output_type": "stream",
          "name": "stdout",
          "text": [
            "DecisionTreeClassifier(max_depth=4, random_state=2023)\n",
            "DecisionTreeRegressor(max_depth=4, random_state=2023)\n"
          ]
        }
      ]
    },
    {
      "cell_type": "markdown",
      "source": [
        "### SOAL 2b\n",
        "[2.5]  Visualisasikan 2 model decision tree (decision tree regressor untuk admission dan decision tree classifier untuk red wine) yang didapat pada soal 1a!"
      ],
      "metadata": {
        "id": "T4XW0l4yR_2T"
      }
    },
    {
      "cell_type": "code",
      "source": [
        "# Visualize the Decision Tree Classifier (dtc_red_new)\n",
        "print(\"Decision Tree Classifier - Red New:\")\n",
        "print(tree.export_text(dtc_red_new, feature_names=list(X_red_train.columns)))\n",
        "\n",
        "\n",
        "# Visualize the Decision Tree Regressor (dtr_admission_new)\n",
        "print(\"Decision Tree Regressor - Admission New:\")\n",
        "print(tree.export_text(dtr_admission_new, feature_names=list(X_admission_train.columns)))\n"
      ],
      "metadata": {
        "id": "t1nWXE9LNJeH",
        "colab": {
          "base_uri": "https://localhost:8080/"
        },
        "outputId": "ae1ec59a-cf94-4315-f4e9-cefa47bc2e0e"
      },
      "execution_count": 230,
      "outputs": [
        {
          "output_type": "stream",
          "name": "stdout",
          "text": [
            "Decision Tree Classifier - Red New:\n",
            "|--- sulphates <= 0.64\n",
            "|   |--- chlorides <= 0.11\n",
            "|   |   |--- volatile acidity <= 0.75\n",
            "|   |   |   |--- alcohol <= 9.81\n",
            "|   |   |   |   |--- class: 5\n",
            "|   |   |   |--- alcohol >  9.81\n",
            "|   |   |   |   |--- class: 4\n",
            "|   |   |--- volatile acidity >  0.75\n",
            "|   |   |   |--- residual sugar <= 3.34\n",
            "|   |   |   |   |--- class: 4\n",
            "|   |   |   |--- residual sugar >  3.34\n",
            "|   |   |   |   |--- class: 3\n",
            "|   |--- chlorides >  0.11\n",
            "|   |   |--- volatile acidity <= 0.59\n",
            "|   |   |   |--- class: 6\n",
            "|   |   |--- volatile acidity >  0.59\n",
            "|   |   |   |--- fixed acidity <= 6.66\n",
            "|   |   |   |   |--- class: 4\n",
            "|   |   |   |--- fixed acidity >  6.66\n",
            "|   |   |   |   |--- class: 3\n",
            "|--- sulphates >  0.64\n",
            "|   |--- alcohol <= 11.00\n",
            "|   |   |--- alcohol <= 9.90\n",
            "|   |   |   |--- total sulfur dioxide <= 48.83\n",
            "|   |   |   |   |--- class: 3\n",
            "|   |   |   |--- total sulfur dioxide >  48.83\n",
            "|   |   |   |   |--- class: 4\n",
            "|   |   |--- alcohol >  9.90\n",
            "|   |   |   |--- free sulfur dioxide <= 5.95\n",
            "|   |   |   |   |--- class: 8\n",
            "|   |   |   |--- free sulfur dioxide >  5.95\n",
            "|   |   |   |   |--- class: 7\n",
            "|   |--- alcohol >  11.00\n",
            "|   |   |--- chlorides <= 0.09\n",
            "|   |   |   |--- pH <= 3.24\n",
            "|   |   |   |   |--- class: 8\n",
            "|   |   |   |--- pH >  3.24\n",
            "|   |   |   |   |--- class: 8\n",
            "|   |   |--- chlorides >  0.09\n",
            "|   |   |   |--- volatile acidity <= 0.57\n",
            "|   |   |   |   |--- class: 7\n",
            "|   |   |   |--- volatile acidity >  0.57\n",
            "|   |   |   |   |--- class: 6\n",
            "\n",
            "Decision Tree Regressor - Admission New:\n",
            "|--- CGPA <= 8.70\n",
            "|   |--- CGPA <= 8.03\n",
            "|   |   |--- GRE Score <= 307.00\n",
            "|   |   |   |--- CGPA <= 7.67\n",
            "|   |   |   |   |--- value: [0.46]\n",
            "|   |   |   |--- CGPA >  7.67\n",
            "|   |   |   |   |--- value: [0.55]\n",
            "|   |   |--- GRE Score >  307.00\n",
            "|   |   |   |--- GRE Score <= 319.50\n",
            "|   |   |   |   |--- value: [0.59]\n",
            "|   |   |   |--- GRE Score >  319.50\n",
            "|   |   |   |   |--- value: [0.74]\n",
            "|   |--- CGPA >  8.03\n",
            "|   |   |--- CGPA <= 8.32\n",
            "|   |   |   |--- TOEFL Score <= 105.50\n",
            "|   |   |   |   |--- value: [0.63]\n",
            "|   |   |   |--- TOEFL Score >  105.50\n",
            "|   |   |   |   |--- value: [0.70]\n",
            "|   |   |--- CGPA >  8.32\n",
            "|   |   |   |--- GRE Score <= 306.50\n",
            "|   |   |   |   |--- value: [0.64]\n",
            "|   |   |   |--- GRE Score >  306.50\n",
            "|   |   |   |   |--- value: [0.72]\n",
            "|--- CGPA >  8.70\n",
            "|   |--- CGPA <= 9.15\n",
            "|   |   |--- SOP <= 3.75\n",
            "|   |   |   |--- Research <= 0.50\n",
            "|   |   |   |   |--- value: [0.71]\n",
            "|   |   |   |--- Research >  0.50\n",
            "|   |   |   |   |--- value: [0.78]\n",
            "|   |   |--- SOP >  3.75\n",
            "|   |   |   |--- TOEFL Score <= 113.50\n",
            "|   |   |   |   |--- value: [0.81]\n",
            "|   |   |   |--- TOEFL Score >  113.50\n",
            "|   |   |   |   |--- value: [0.87]\n",
            "|   |--- CGPA >  9.15\n",
            "|   |   |--- CGPA <= 9.47\n",
            "|   |   |   |--- CGPA <= 9.23\n",
            "|   |   |   |   |--- value: [0.88]\n",
            "|   |   |   |--- CGPA >  9.23\n",
            "|   |   |   |   |--- value: [0.91]\n",
            "|   |   |--- CGPA >  9.47\n",
            "|   |   |   |--- Research <= 0.50\n",
            "|   |   |   |   |--- value: [0.89]\n",
            "|   |   |   |--- Research >  0.50\n",
            "|   |   |   |   |--- value: [0.95]\n",
            "\n"
          ]
        }
      ]
    },
    {
      "cell_type": "markdown",
      "source": [
        "### SOAL 2c\n",
        "\n",
        "[2.5]  Jika model decision tree regressor diberikan data aktual Chance of Admit 0.96, tentukan attribut-attribut yang menghasilkan hasil prediksi terdekat dengan data aktual tersebut. Berikan juga Mean Absolute Error dari hasil prediksi dengan data aktual `Chance of Admit` dari data X?    \n",
        "\n",
        "**Catatan:** Tidak perlu dilakukan implementasi kode pada bagian ini"
      ],
      "metadata": {
        "id": "litt2_EwSOIU"
      }
    },
    {
      "cell_type": "markdown",
      "source": [
        "Dapat dilihat berdasarkan Decision Tree yang dibuat diatas dengan max depth 3 bahwa dengan diberikan beberapa atribut sebagai berikut:\n",
        "- CGPA > 9.47\n",
        "- Research > 0.5\n",
        "\n",
        "Dimana dengan kedua konsiderasi kedua atribut tersebut, kita mendapatkan prediksi `chance of admit` sebesar 0.95. Oleh karena itu kita dapat menghitung Mean Absolute Error dari Chance of Admit tersebut:\n",
        "\n",
        "---\n",
        "MAE = \\|| 0.95 - 0.96 || = 0.01\n",
        "---\n",
        "\n",
        "Maka kita temukan bahwa atribut-atribut yang menghasilkan hasil terdekat adalah CGPA yang lebih besar dari 9.47 dan Research yang lebih besar dari 0.5. Hasil prediksi dengan data aktual menghasilkan MAE bagi `Chance of Admit` sebesar 0.01."
      ],
      "metadata": {
        "id": "3gH6X0YetTXb"
      }
    },
    {
      "cell_type": "markdown",
      "source": [
        "### SOAL 2d\n",
        "\n",
        "[2.5]  Untuk decision tree classifier, tentukan atribut-atribut dari suatu red wine yang paling berpotensi untuk dikategorikan sebagai kelas 4. Jika terdapat berbagai kemungkinan pasangan atribut yang paling berpotensi, cantumkanlah semua kemungkinan pasangan atribut tersebut.\n",
        "\n",
        "**Catatan:** Tidak perlu dilakukan implementasi kode pada bagian ini"
      ],
      "metadata": {
        "id": "OxIT9p6YUMd-"
      }
    },
    {
      "cell_type": "markdown",
      "source": [
        "Untuk menjawab pertanyaan ini, kita dapat menggunakan decision tree bagi red wine yang telah dibuat pada nomor 2b diatas. Terdapat beberapa atribut-atribut dari suatu red-wine yang paling berpotensi untuk dikategorikan sebagai kelas 4. Beberapa atribut yang diprediksi tersebut adalah:\n",
        "\n",
        "Kemungkinan pertama:\n",
        "- sulphates <= 0.64\n",
        "- volatile acidity <= 0.75, dan\n",
        "- alcohol > 9.91\n",
        "\n",
        "Kemungkinan kedua:\n",
        "- sulphates <= 0.64\n",
        "- volatile acidity > 0.75\n",
        "- chlorides <= 0.08\n",
        "- total sulfur dioxide <= 34.50\n",
        "\n",
        "Kemungkinan ketiga:\n",
        "- sulphates <= 0.64\n",
        "- volatile acidity > 0.75\n",
        "- chlorides > 0.08\n",
        "- total sulfur dioxide > 18.93"
      ],
      "metadata": {
        "id": "QBMyKeBI3iPI"
      }
    },
    {
      "cell_type": "markdown",
      "source": [
        "## SOAL 3 [15]"
      ],
      "metadata": {
        "id": "BRkqj8a3PaKA"
      }
    },
    {
      "cell_type": "markdown",
      "source": [
        "### SOAL 3a\n",
        "\n",
        "[5] Implementasikan 2 model Random Forest (Random Forest Regressor untuk Admission Prediction dan Random Forest Classifier untuk Red Wine) Implementasi pada soal ini akan menggunakan nilai *hyperparameter*\n",
        "- `max_depth = 3`\n",
        "- `random_state = 2023`"
      ],
      "metadata": {
        "id": "9ZUOkCv1cZTW"
      }
    },
    {
      "cell_type": "code",
      "source": [
        "# Regressor (Admission)\n",
        "rf_md_new = RandomForestRegressor(max_depth = 3, random_state = 2023)\n",
        "rf_md_new.fit(X_admission_train, Y_admission_train)\n",
        "print(rf_md_new)\n",
        "\n",
        "# Classifier (Red Wine)\n",
        "rf_red_new = RandomForestClassifier(max_depth = 3, random_state = 2023)\n",
        "rf_red_new.fit(X_red_train, Y_red_train)\n",
        "print(rf_red_new)"
      ],
      "metadata": {
        "id": "QRIKzA7SNSpu",
        "colab": {
          "base_uri": "https://localhost:8080/"
        },
        "outputId": "712c030a-8965-46f9-8ef7-40d9a12ff287"
      },
      "execution_count": 231,
      "outputs": [
        {
          "output_type": "stream",
          "name": "stdout",
          "text": [
            "RandomForestRegressor(max_depth=3, random_state=2023)\n",
            "RandomForestClassifier(max_depth=3, random_state=2023)\n"
          ]
        }
      ]
    },
    {
      "cell_type": "markdown",
      "source": [
        "### SOAL 3b\n",
        "\n",
        "[5] Model Random Forest dianggap kurang dapat diinterpretasikan dibandingkan dengan Decision Tree. Apakah penyebab dari hasil tersebut?"
      ],
      "metadata": {
        "id": "_OkRxbjYUxTo"
      }
    },
    {
      "cell_type": "markdown",
      "source": [
        "Penyebab dari model random forest yang kurang dapat diinterpretasikan dibandingkan decision tree berada pada karakteristik random forest yang merupakan kumpulan decision tree yang dibuat. Sehingga apabila kita mencoba untuk mengintepretasikan random forest, kita perlu menganalisis sejumlah decision tree yang selanjutnya perlu digabungkan sehingga mendapatkan prediksi akhir.\n",
        "\n",
        "Random forest berdasarkan namanya, memiliki intepretasi bahwa hasil yang diperoleh bersifat random sehingga membuat sulit dalam menjelaskan hasil dari random forest tersebut.\n",
        "\n",
        "TIdak hanya itu, dengan menggunakan random forest, biasanya kita mengorbankan interpretabilitas demi meningkatkan akurasi dari prediksi yang kita buat. Oleh karena itu, proses penggunaan beberapa decision tree membuat random forest membutuhkan kemampuan lebih utnuk mengintepretasikan prediksinya."
      ],
      "metadata": {
        "id": "Mtzexz34nvir"
      }
    },
    {
      "cell_type": "markdown",
      "source": [
        "### SOAL 3c\n",
        "\n",
        "[5] Mekanisme voting dalam Random Forest Classifier adalah cara di mana model ini membuat prediksi akhir berdasarkan hasil dari beberapa Decision Tree yang membentuk ensemble-nya. Apakah yang membedakan mekanisme ini dengan mekanisme pengambil keputusan pada Decision Tree Classifier?\n",
        "\n",
        "- Decision Tree Classifier: Decision Tree Classifier bekerja dengan hanya satu decision tree yang memisahkan data menjadi beberapa cabang berdasarkan aturan yang dibentuk oleh tree tersebut. Keputusan akhir diambil berdasarkan label mayoritas pada leave (node) terakhir di tree.\n",
        "\n",
        "- Random Forest Classifier: Random Forest terdiri dari sejumlah Decision Tree yang dibuat secara independen. Setiap Decision Tree dilatih pada subset acak dari data (bagging) dengan fitur yang juga diambil secara acak. Ketika membuat prediksi, hasil dari semua Decision Tree di-ensamble dengan menggunakan berbagai metode, seperti \"majority voting\" (mengambil label mayoritas) untuk klasifikasi. Hasil dari voting ini menjadi prediksi akhir model."
      ],
      "metadata": {
        "id": "iCdQ4qGFWomy"
      }
    },
    {
      "cell_type": "markdown",
      "source": [
        "## SOAL 4 [15]\n",
        "\n",
        "* [5] Lakukan prediksi terhadap data *testing* dari permasalahan regresi (Dataset Admission Prediction) (`X_test`) menggunakan model yang sudah dibangun pada soal 2 dan 3.\n",
        "* [5] Lakukan evaluasi pada hasil prediksi yang didapat terhadap label aktual (`y_test`). Metrik evaluasi yang ditampilkan adalah nilai MAE, MSE, RMSE, dan $R^{2}$ dari hasil prediksi yang didapat.  \n",
        "* [5] Bandingkanlah hasil evaluasi dari kedua model yang sudah didapat dan tuliskan analisis singkat terkait dengan perbandingan tersebut (minimal 4 poin)."
      ],
      "metadata": {
        "id": "EE20Jm5KXGi3"
      }
    },
    {
      "cell_type": "code",
      "source": [
        "# Prediksi Regresi (menggunakan model yang dibangun sebelumnya)\n",
        "\n",
        "# Memprediksi data testing menggunakan Decision Tree Regressor yang dibuat sebelumnya.\n",
        "prediction_decision_tree = dtr_admission_new.predict(X_admission_test)\n",
        "\n",
        "# Memprediksi data testing menggunakan Random Forest Regressor yang dibuat sebelumnya.\n",
        "prediction_random_forest = rf_md_new.predict(X_admission_test)\n",
        "\n",
        "# Regression Metrics untuk Decision Tree Regressor\n",
        "print(\"Regression Metrics for Decision Tree Regressor: \")\n",
        "regression_metrics(prediction_decision_tree, Y_admission_test)\n",
        "\n",
        "# Regression Metrics untuk Random Forest Regressor\n",
        "print(\"\\nRegression Metrics for Random Forest Regressor: \")\n",
        "regression_metrics(prediction_random_forest, Y_admission_test)"
      ],
      "metadata": {
        "id": "fxu0rFVZNZD1",
        "colab": {
          "base_uri": "https://localhost:8080/"
        },
        "outputId": "85803696-1d1e-4905-a604-2471fc0630b4"
      },
      "execution_count": 232,
      "outputs": [
        {
          "output_type": "stream",
          "name": "stdout",
          "text": [
            "Regression Metrics for Decision Tree Regressor: \n",
            "MAE: 0.05600366240276015\n",
            "MSE: 0.005049365737728059\n",
            "RMSE: 0.07105888922385474\n",
            "R_squared: 0.5983126506436818\n",
            "\n",
            "Regression Metrics for Random Forest Regressor: \n",
            "MAE: 0.048486049383473416\n",
            "MSE: 0.00405565400695748\n",
            "RMSE: 0.06368401688773628\n",
            "R_squared: 0.6773644468277138\n"
          ]
        }
      ]
    },
    {
      "cell_type": "markdown",
      "source": [
        "- Mean Absolute Error (MAE): MAE mengukur besaran rata-rata dari kesalahan dalam satu set prediksi, tanpa mempertimbangkan arahnya. Ini adalah rata-rata dari sampel uji dari selisih absolut antara prediksi dan observasi aktual. Untuk kedua model, MAE relatif rendah. Namun, Random Forest Regressor memiliki MAE yang lebih rendah (0,04675975437005236) dibandingkan dengan Decision Tree Regressor (0,05238311376372414). Ini berarti bahwa, secara rata-rata, prediksi model Random Forest lebih mendekati nilai-nilai aktual.\n",
        "\n",
        "- Mean Squared Error (MSE): MSE adalah metrik lain untuk mengevaluasi kinerja model regresi. Ini menghitung rata-rata selisih kuadrat antara nilai-nilai yang diprediksi dan aktual. Sama seperti MAE, model Random Forest memiliki MSE yang lebih rendah (0,0036388277258979527) dibandingkan dengan model Decision Tree (0,004409393965409966), menunjukkan bahwa model Random Forest umumnya membuat kesalahan yang lebih kecil dalam prediksi.\n",
        "\n",
        "- Root Mean Squared Error (RMSE): RMSE adalah akar kuadrat dari MSE. Ini mengukur deviasi standar dari residu. Sama seperti MAE dan MSE, model Random Forest memiliki RMSE yang lebih rendah (0,06032269660665008) dibandingkan dengan model Decision Tree (0,06640326773141489). Ini berarti prediksi model Random Forest secara umum lebih akurat, dengan deviasi yang lebih kecil dari nilai-nilai aktual.\n",
        "\n",
        "- R-squared: R-squared adalah ukuran statistik yang mewakili proporsi variasi untuk variabel dependen yang dijelaskan oleh variabel independen atau variabel dalam model regresi. Model Random Forest memiliki nilai R-squared yang lebih tinggi (0,7105238281594748) dibandingkan dengan model Decision Tree (0,6492237112080899), menunjukkan bahwa model Random Forest dapat menjelaskan lebih banyak variasi dalam variabel dependen.\n",
        "\n",
        "Sebagai kesimpulan, berdasarkan perbandingan metrik-metrik ini, model Regressor Random Forest memiliki kinerja yang lebih baik dalam kasus ini. Hal ini mungkin disebabkan oleh sifat intrinsik Random Forest untuk mengurangi overfitting dengan melakukan pengukuran hasil dari sejumlah Decision Tree, sehingga meningkatkan kemampuan model untuk generalisasi data baru."
      ],
      "metadata": {
        "id": "YlM9T4_KKeDC"
      }
    },
    {
      "cell_type": "markdown",
      "source": [
        "## SOAL 5 [15]\n",
        "\n",
        "* [5] Lakukan prediksi terhadap data *testing* dari permasalahan klasifikasi (Dataset Red Wine Prediction) (`X_test`) menggunakan model yang sudah dibangun pada soal 2 dan 3.\n",
        "* [5] Lakukan evaluasi pada hasil prediksi yang didapat terhadap label aktual (`y_test`). Metrik evaluasi yang ditampilkan adalah nilai Accuracy, Precision, Recall, dan F1-Score dari hasil prediksi yang didapat.  \n",
        "* [5] Bandingkanlah hasil evaluasi yang didapat dan tuliskan analisis singkat terkait dengan perbandingan tersebut (minimal 4 poin)."
      ],
      "metadata": {
        "id": "2c43pO0TXW7R"
      }
    },
    {
      "cell_type": "code",
      "source": [
        "# Prediksi Classification (menggunakan model yang dibangun sebelumnya)\n",
        "\n",
        "# Memprediksi data testing menggunakan Decision Tree Classifier yang dibuat sebelumnya.\n",
        "prediction_decision_tree = dtc_red_new.predict(X_red_test)\n",
        "\n",
        "# Memprediksi data testing menggunakan Random Forest Classifier yang dibuat sebelumnya.\n",
        "prediction_random_forest = rf_red_new.predict(X_red_test)\n",
        "\n",
        "# Regression Metrics untuk Decision Tree Classifier\n",
        "print(\"Classification Metrics for Decision Tree Classifier: \")\n",
        "classification_metrics(prediction_decision_tree, Y_red_test)\n",
        "\n",
        "# Regression Metrics untuk Random Forest Classifier\n",
        "print(\"\\nClassification Metrics for Random Forest Classifier: \")\n",
        "classification_metrics(prediction_random_forest, Y_red_test)"
      ],
      "metadata": {
        "id": "ImZkNRrgNo96",
        "colab": {
          "base_uri": "https://localhost:8080/"
        },
        "outputId": "e3ade668-fe9b-4c96-a032-334278d039ad"
      },
      "execution_count": 233,
      "outputs": [
        {
          "output_type": "stream",
          "name": "stdout",
          "text": [
            "Classification Metrics for Decision Tree Classifier: \n",
            "Accuracy: 0.5147286821705427\n",
            "F1 Score: 0.4446089924384898\n",
            "Recall Score: 0.486899110104984\n",
            "Precision Score: 0.4693888961323167\n",
            "\n",
            "Classification Metrics for Random Forest Classifier: \n",
            "Accuracy: 0.6294573643410852\n",
            "F1 Score: 0.5845519863825724\n",
            "Recall Score: 0.6059043716708995\n",
            "Precision Score: 0.5970107988159353\n"
          ]
        }
      ]
    },
    {
      "cell_type": "markdown",
      "source": [
        "Note: Sensitivitas = Recall\n",
        "\n",
        "- Accuracy adalah rasio dari jumlah prediksi yang benar terhadap jumlah total sampel input. Accuracy bekerja dengan baik hanya jika ada jumlah sampel yang sama yang termasuk dalam setiap kelas. Untuk kedua model, Random Forest Classifier memiliki akurasi yang lebih tinggi (0.6512968299711815) dibandingkan dengan Decision Tree Classifier (0.547550432276657). Ini menunjukkan bahwa model Random Forest lebih baik dalam mengklasifikasikan sampel dengan benar.\n",
        "\n",
        "- F1 Score adalah rata-rata tertimbang dari Presisi dan Sensitivitas. Oleh karena itu, skor ini memperhitungkan baik false positive maupun false negative. Skor ini cocok untuk masalah distribusi kelas yang tidak merata. Random Forest Classifier memiliki F1 Score yang lebih tinggi (0.6227973091612683) daripada Decision Tree Classifier (0.5254864746472852), menunjukkan bahwa ia memiliki keseimbangan presisi dan sensitivitas yang lebih baik.\n",
        "\n",
        "- Recall adalah rasio dari pengamatan positif yang diprediksi dengan benar terhadap semua pengamatan di kelas aktual. Model Random Forest memiliki skor sensitivitas yang lebih tinggi (0.6338696752466619) daripada model Decision Tree (0.5342889893523375), yang berarti model Random Forest lebih baik dalam mengidentifikasi sampel positif.\n",
        "\n",
        "- Precision adalah rasio dari pengamatan positif yang diprediksi dengan benar terhadap total prediksi positif. Sekali lagi, model Random Forest memiliki skor precision yang lebih tinggi (0.6374558760049339) daripada model Decision Tree (0.5439859428201052). Ini berarti model Random Forest lebih baik dalam memprediksi sampel positif dengan benar, dan memiliki lebih sedikit false positive.\n",
        "\n",
        "Oleh karena itu dapat dilihat bahwa random forest dapat membuat prediksi yang sedikit lebih akurat dibandingkan satu decision tree. Hal ini disebabkan akibat random forest melakukan proses ensemble sehingga mendapatkan mayoritas data dengan baik."
      ],
      "metadata": {
        "id": "tD8570o7UvE6"
      }
    },
    {
      "cell_type": "markdown",
      "source": [
        "## SOAL 6 [15]\n",
        "\n",
        "Gunakan GridSearchCV untuk mencari hyperparameter yang baik untuk model Random Forest Regressor, Random Forest Classifier, Decision Tree Regressor, dan Decision Tree Classifier."
      ],
      "metadata": {
        "id": "w6pC9g6aXuiM"
      }
    },
    {
      "cell_type": "markdown",
      "source": [
        "### SOAL 6a\n",
        "[9]\n",
        "Proses Grid search diwajibkan melakukan tuning pada hyperparameter berikut: **criterion, max_depth, min_samples_split**.\n",
        "*Namun, kalian masih boleh mengambil hyperparameter lain.*"
      ],
      "metadata": {
        "id": "I9-t_z3AYC-6"
      }
    },
    {
      "cell_type": "code",
      "source": [
        "#Random Forest Regressor\n",
        "\n",
        "param_grid = {'criterion': ['squared_error', 'friedman_mse', 'absolute_error'],\n",
        "               'min_samples_split': [10, 20, 50],\n",
        "               'max_depth' : [5, 10, 12, 16, 18]}\n",
        "\n",
        "rf_regressor = RandomForestRegressor()\n",
        "clf_rf_regressor = GridSearchCV(estimator= rf_regressor,\n",
        "                   param_grid=param_grid, cv= 5)\n",
        "\n",
        "clf_rf_regressor.fit(X_admission_train, Y_admission_train)"
      ],
      "metadata": {
        "id": "gn0YhgwoNtU6",
        "colab": {
          "base_uri": "https://localhost:8080/",
          "height": 116
        },
        "outputId": "78bc9bc8-1375-42ec-d1b1-5c1a4318975c"
      },
      "execution_count": 234,
      "outputs": [
        {
          "output_type": "execute_result",
          "data": {
            "text/plain": [
              "GridSearchCV(cv=5, estimator=RandomForestRegressor(),\n",
              "             param_grid={'criterion': ['squared_error', 'friedman_mse',\n",
              "                                       'absolute_error'],\n",
              "                         'max_depth': [5, 10, 12, 16, 18],\n",
              "                         'min_samples_split': [10, 20, 50]})"
            ],
            "text/html": [
              "<style>#sk-container-id-49 {color: black;background-color: white;}#sk-container-id-49 pre{padding: 0;}#sk-container-id-49 div.sk-toggleable {background-color: white;}#sk-container-id-49 label.sk-toggleable__label {cursor: pointer;display: block;width: 100%;margin-bottom: 0;padding: 0.3em;box-sizing: border-box;text-align: center;}#sk-container-id-49 label.sk-toggleable__label-arrow:before {content: \"▸\";float: left;margin-right: 0.25em;color: #696969;}#sk-container-id-49 label.sk-toggleable__label-arrow:hover:before {color: black;}#sk-container-id-49 div.sk-estimator:hover label.sk-toggleable__label-arrow:before {color: black;}#sk-container-id-49 div.sk-toggleable__content {max-height: 0;max-width: 0;overflow: hidden;text-align: left;background-color: #f0f8ff;}#sk-container-id-49 div.sk-toggleable__content pre {margin: 0.2em;color: black;border-radius: 0.25em;background-color: #f0f8ff;}#sk-container-id-49 input.sk-toggleable__control:checked~div.sk-toggleable__content {max-height: 200px;max-width: 100%;overflow: auto;}#sk-container-id-49 input.sk-toggleable__control:checked~label.sk-toggleable__label-arrow:before {content: \"▾\";}#sk-container-id-49 div.sk-estimator input.sk-toggleable__control:checked~label.sk-toggleable__label {background-color: #d4ebff;}#sk-container-id-49 div.sk-label input.sk-toggleable__control:checked~label.sk-toggleable__label {background-color: #d4ebff;}#sk-container-id-49 input.sk-hidden--visually {border: 0;clip: rect(1px 1px 1px 1px);clip: rect(1px, 1px, 1px, 1px);height: 1px;margin: -1px;overflow: hidden;padding: 0;position: absolute;width: 1px;}#sk-container-id-49 div.sk-estimator {font-family: monospace;background-color: #f0f8ff;border: 1px dotted black;border-radius: 0.25em;box-sizing: border-box;margin-bottom: 0.5em;}#sk-container-id-49 div.sk-estimator:hover {background-color: #d4ebff;}#sk-container-id-49 div.sk-parallel-item::after {content: \"\";width: 100%;border-bottom: 1px solid gray;flex-grow: 1;}#sk-container-id-49 div.sk-label:hover label.sk-toggleable__label {background-color: #d4ebff;}#sk-container-id-49 div.sk-serial::before {content: \"\";position: absolute;border-left: 1px solid gray;box-sizing: border-box;top: 0;bottom: 0;left: 50%;z-index: 0;}#sk-container-id-49 div.sk-serial {display: flex;flex-direction: column;align-items: center;background-color: white;padding-right: 0.2em;padding-left: 0.2em;position: relative;}#sk-container-id-49 div.sk-item {position: relative;z-index: 1;}#sk-container-id-49 div.sk-parallel {display: flex;align-items: stretch;justify-content: center;background-color: white;position: relative;}#sk-container-id-49 div.sk-item::before, #sk-container-id-49 div.sk-parallel-item::before {content: \"\";position: absolute;border-left: 1px solid gray;box-sizing: border-box;top: 0;bottom: 0;left: 50%;z-index: -1;}#sk-container-id-49 div.sk-parallel-item {display: flex;flex-direction: column;z-index: 1;position: relative;background-color: white;}#sk-container-id-49 div.sk-parallel-item:first-child::after {align-self: flex-end;width: 50%;}#sk-container-id-49 div.sk-parallel-item:last-child::after {align-self: flex-start;width: 50%;}#sk-container-id-49 div.sk-parallel-item:only-child::after {width: 0;}#sk-container-id-49 div.sk-dashed-wrapped {border: 1px dashed gray;margin: 0 0.4em 0.5em 0.4em;box-sizing: border-box;padding-bottom: 0.4em;background-color: white;}#sk-container-id-49 div.sk-label label {font-family: monospace;font-weight: bold;display: inline-block;line-height: 1.2em;}#sk-container-id-49 div.sk-label-container {text-align: center;}#sk-container-id-49 div.sk-container {/* jupyter's `normalize.less` sets `[hidden] { display: none; }` but bootstrap.min.css set `[hidden] { display: none !important; }` so we also need the `!important` here to be able to override the default hidden behavior on the sphinx rendered scikit-learn.org. See: https://github.com/scikit-learn/scikit-learn/issues/21755 */display: inline-block !important;position: relative;}#sk-container-id-49 div.sk-text-repr-fallback {display: none;}</style><div id=\"sk-container-id-49\" class=\"sk-top-container\"><div class=\"sk-text-repr-fallback\"><pre>GridSearchCV(cv=5, estimator=RandomForestRegressor(),\n",
              "             param_grid={&#x27;criterion&#x27;: [&#x27;squared_error&#x27;, &#x27;friedman_mse&#x27;,\n",
              "                                       &#x27;absolute_error&#x27;],\n",
              "                         &#x27;max_depth&#x27;: [5, 10, 12, 16, 18],\n",
              "                         &#x27;min_samples_split&#x27;: [10, 20, 50]})</pre><b>In a Jupyter environment, please rerun this cell to show the HTML representation or trust the notebook. <br />On GitHub, the HTML representation is unable to render, please try loading this page with nbviewer.org.</b></div><div class=\"sk-container\" hidden><div class=\"sk-item sk-dashed-wrapped\"><div class=\"sk-label-container\"><div class=\"sk-label sk-toggleable\"><input class=\"sk-toggleable__control sk-hidden--visually\" id=\"sk-estimator-id-91\" type=\"checkbox\" ><label for=\"sk-estimator-id-91\" class=\"sk-toggleable__label sk-toggleable__label-arrow\">GridSearchCV</label><div class=\"sk-toggleable__content\"><pre>GridSearchCV(cv=5, estimator=RandomForestRegressor(),\n",
              "             param_grid={&#x27;criterion&#x27;: [&#x27;squared_error&#x27;, &#x27;friedman_mse&#x27;,\n",
              "                                       &#x27;absolute_error&#x27;],\n",
              "                         &#x27;max_depth&#x27;: [5, 10, 12, 16, 18],\n",
              "                         &#x27;min_samples_split&#x27;: [10, 20, 50]})</pre></div></div></div><div class=\"sk-parallel\"><div class=\"sk-parallel-item\"><div class=\"sk-item\"><div class=\"sk-label-container\"><div class=\"sk-label sk-toggleable\"><input class=\"sk-toggleable__control sk-hidden--visually\" id=\"sk-estimator-id-92\" type=\"checkbox\" ><label for=\"sk-estimator-id-92\" class=\"sk-toggleable__label sk-toggleable__label-arrow\">estimator: RandomForestRegressor</label><div class=\"sk-toggleable__content\"><pre>RandomForestRegressor()</pre></div></div></div><div class=\"sk-serial\"><div class=\"sk-item\"><div class=\"sk-estimator sk-toggleable\"><input class=\"sk-toggleable__control sk-hidden--visually\" id=\"sk-estimator-id-93\" type=\"checkbox\" ><label for=\"sk-estimator-id-93\" class=\"sk-toggleable__label sk-toggleable__label-arrow\">RandomForestRegressor</label><div class=\"sk-toggleable__content\"><pre>RandomForestRegressor()</pre></div></div></div></div></div></div></div></div></div></div>"
            ]
          },
          "metadata": {},
          "execution_count": 234
        }
      ]
    },
    {
      "cell_type": "code",
      "source": [
        "#Decision Tree Regressor\n",
        "\n",
        "param_grid = {'criterion': ['squared_error', 'friedman_mse', 'absolute_error'],\n",
        "               'min_samples_split': [10, 20, 50],\n",
        "               'max_depth' : [5, 10, 12, 16, 18]}\n",
        "\n",
        "dt_regressor = DecisionTreeRegressor()\n",
        "clf_dt_regressor = GridSearchCV(estimator= dt_regressor,\n",
        "                   param_grid=param_grid, cv= 5)\n",
        "\n",
        "clf_dt_regressor.fit(X_admission_train, Y_admission_train)"
      ],
      "metadata": {
        "colab": {
          "base_uri": "https://localhost:8080/",
          "height": 116
        },
        "id": "xcQ_wuKIqLpF",
        "outputId": "5e200f7f-b95d-42f8-8193-56e6c562859e"
      },
      "execution_count": 235,
      "outputs": [
        {
          "output_type": "execute_result",
          "data": {
            "text/plain": [
              "GridSearchCV(cv=5, estimator=DecisionTreeRegressor(),\n",
              "             param_grid={'criterion': ['squared_error', 'friedman_mse',\n",
              "                                       'absolute_error'],\n",
              "                         'max_depth': [5, 10, 12, 16, 18],\n",
              "                         'min_samples_split': [10, 20, 50]})"
            ],
            "text/html": [
              "<style>#sk-container-id-50 {color: black;background-color: white;}#sk-container-id-50 pre{padding: 0;}#sk-container-id-50 div.sk-toggleable {background-color: white;}#sk-container-id-50 label.sk-toggleable__label {cursor: pointer;display: block;width: 100%;margin-bottom: 0;padding: 0.3em;box-sizing: border-box;text-align: center;}#sk-container-id-50 label.sk-toggleable__label-arrow:before {content: \"▸\";float: left;margin-right: 0.25em;color: #696969;}#sk-container-id-50 label.sk-toggleable__label-arrow:hover:before {color: black;}#sk-container-id-50 div.sk-estimator:hover label.sk-toggleable__label-arrow:before {color: black;}#sk-container-id-50 div.sk-toggleable__content {max-height: 0;max-width: 0;overflow: hidden;text-align: left;background-color: #f0f8ff;}#sk-container-id-50 div.sk-toggleable__content pre {margin: 0.2em;color: black;border-radius: 0.25em;background-color: #f0f8ff;}#sk-container-id-50 input.sk-toggleable__control:checked~div.sk-toggleable__content {max-height: 200px;max-width: 100%;overflow: auto;}#sk-container-id-50 input.sk-toggleable__control:checked~label.sk-toggleable__label-arrow:before {content: \"▾\";}#sk-container-id-50 div.sk-estimator input.sk-toggleable__control:checked~label.sk-toggleable__label {background-color: #d4ebff;}#sk-container-id-50 div.sk-label input.sk-toggleable__control:checked~label.sk-toggleable__label {background-color: #d4ebff;}#sk-container-id-50 input.sk-hidden--visually {border: 0;clip: rect(1px 1px 1px 1px);clip: rect(1px, 1px, 1px, 1px);height: 1px;margin: -1px;overflow: hidden;padding: 0;position: absolute;width: 1px;}#sk-container-id-50 div.sk-estimator {font-family: monospace;background-color: #f0f8ff;border: 1px dotted black;border-radius: 0.25em;box-sizing: border-box;margin-bottom: 0.5em;}#sk-container-id-50 div.sk-estimator:hover {background-color: #d4ebff;}#sk-container-id-50 div.sk-parallel-item::after {content: \"\";width: 100%;border-bottom: 1px solid gray;flex-grow: 1;}#sk-container-id-50 div.sk-label:hover label.sk-toggleable__label {background-color: #d4ebff;}#sk-container-id-50 div.sk-serial::before {content: \"\";position: absolute;border-left: 1px solid gray;box-sizing: border-box;top: 0;bottom: 0;left: 50%;z-index: 0;}#sk-container-id-50 div.sk-serial {display: flex;flex-direction: column;align-items: center;background-color: white;padding-right: 0.2em;padding-left: 0.2em;position: relative;}#sk-container-id-50 div.sk-item {position: relative;z-index: 1;}#sk-container-id-50 div.sk-parallel {display: flex;align-items: stretch;justify-content: center;background-color: white;position: relative;}#sk-container-id-50 div.sk-item::before, #sk-container-id-50 div.sk-parallel-item::before {content: \"\";position: absolute;border-left: 1px solid gray;box-sizing: border-box;top: 0;bottom: 0;left: 50%;z-index: -1;}#sk-container-id-50 div.sk-parallel-item {display: flex;flex-direction: column;z-index: 1;position: relative;background-color: white;}#sk-container-id-50 div.sk-parallel-item:first-child::after {align-self: flex-end;width: 50%;}#sk-container-id-50 div.sk-parallel-item:last-child::after {align-self: flex-start;width: 50%;}#sk-container-id-50 div.sk-parallel-item:only-child::after {width: 0;}#sk-container-id-50 div.sk-dashed-wrapped {border: 1px dashed gray;margin: 0 0.4em 0.5em 0.4em;box-sizing: border-box;padding-bottom: 0.4em;background-color: white;}#sk-container-id-50 div.sk-label label {font-family: monospace;font-weight: bold;display: inline-block;line-height: 1.2em;}#sk-container-id-50 div.sk-label-container {text-align: center;}#sk-container-id-50 div.sk-container {/* jupyter's `normalize.less` sets `[hidden] { display: none; }` but bootstrap.min.css set `[hidden] { display: none !important; }` so we also need the `!important` here to be able to override the default hidden behavior on the sphinx rendered scikit-learn.org. See: https://github.com/scikit-learn/scikit-learn/issues/21755 */display: inline-block !important;position: relative;}#sk-container-id-50 div.sk-text-repr-fallback {display: none;}</style><div id=\"sk-container-id-50\" class=\"sk-top-container\"><div class=\"sk-text-repr-fallback\"><pre>GridSearchCV(cv=5, estimator=DecisionTreeRegressor(),\n",
              "             param_grid={&#x27;criterion&#x27;: [&#x27;squared_error&#x27;, &#x27;friedman_mse&#x27;,\n",
              "                                       &#x27;absolute_error&#x27;],\n",
              "                         &#x27;max_depth&#x27;: [5, 10, 12, 16, 18],\n",
              "                         &#x27;min_samples_split&#x27;: [10, 20, 50]})</pre><b>In a Jupyter environment, please rerun this cell to show the HTML representation or trust the notebook. <br />On GitHub, the HTML representation is unable to render, please try loading this page with nbviewer.org.</b></div><div class=\"sk-container\" hidden><div class=\"sk-item sk-dashed-wrapped\"><div class=\"sk-label-container\"><div class=\"sk-label sk-toggleable\"><input class=\"sk-toggleable__control sk-hidden--visually\" id=\"sk-estimator-id-94\" type=\"checkbox\" ><label for=\"sk-estimator-id-94\" class=\"sk-toggleable__label sk-toggleable__label-arrow\">GridSearchCV</label><div class=\"sk-toggleable__content\"><pre>GridSearchCV(cv=5, estimator=DecisionTreeRegressor(),\n",
              "             param_grid={&#x27;criterion&#x27;: [&#x27;squared_error&#x27;, &#x27;friedman_mse&#x27;,\n",
              "                                       &#x27;absolute_error&#x27;],\n",
              "                         &#x27;max_depth&#x27;: [5, 10, 12, 16, 18],\n",
              "                         &#x27;min_samples_split&#x27;: [10, 20, 50]})</pre></div></div></div><div class=\"sk-parallel\"><div class=\"sk-parallel-item\"><div class=\"sk-item\"><div class=\"sk-label-container\"><div class=\"sk-label sk-toggleable\"><input class=\"sk-toggleable__control sk-hidden--visually\" id=\"sk-estimator-id-95\" type=\"checkbox\" ><label for=\"sk-estimator-id-95\" class=\"sk-toggleable__label sk-toggleable__label-arrow\">estimator: DecisionTreeRegressor</label><div class=\"sk-toggleable__content\"><pre>DecisionTreeRegressor()</pre></div></div></div><div class=\"sk-serial\"><div class=\"sk-item\"><div class=\"sk-estimator sk-toggleable\"><input class=\"sk-toggleable__control sk-hidden--visually\" id=\"sk-estimator-id-96\" type=\"checkbox\" ><label for=\"sk-estimator-id-96\" class=\"sk-toggleable__label sk-toggleable__label-arrow\">DecisionTreeRegressor</label><div class=\"sk-toggleable__content\"><pre>DecisionTreeRegressor()</pre></div></div></div></div></div></div></div></div></div></div>"
            ]
          },
          "metadata": {},
          "execution_count": 235
        }
      ]
    },
    {
      "cell_type": "code",
      "source": [
        "#Random Forest Classification\n",
        "\n",
        "param_grid = {'criterion': [\"gini\", \"entropy\", \"log_loss\"],\n",
        "               'min_samples_split': [10, 20, 50],\n",
        "               'max_depth' : [5, 10, 12, 16, 18]}\n",
        "\n",
        "rf_classifier = RandomForestClassifier()\n",
        "clf_rf_classifier = GridSearchCV(estimator= rf_classifier,\n",
        "                   param_grid=param_grid, cv= 5)\n",
        "\n",
        "clf_rf_classifier.fit(X_red_train, Y_red_train)"
      ],
      "metadata": {
        "colab": {
          "base_uri": "https://localhost:8080/",
          "height": 116
        },
        "id": "o_VTu5xbtLOt",
        "outputId": "013d0c0a-96f6-4903-a230-4b59c2a6f8ec"
      },
      "execution_count": 236,
      "outputs": [
        {
          "output_type": "execute_result",
          "data": {
            "text/plain": [
              "GridSearchCV(cv=5, estimator=RandomForestClassifier(),\n",
              "             param_grid={'criterion': ['gini', 'entropy', 'log_loss'],\n",
              "                         'max_depth': [5, 10, 12, 16, 18],\n",
              "                         'min_samples_split': [10, 20, 50]})"
            ],
            "text/html": [
              "<style>#sk-container-id-51 {color: black;background-color: white;}#sk-container-id-51 pre{padding: 0;}#sk-container-id-51 div.sk-toggleable {background-color: white;}#sk-container-id-51 label.sk-toggleable__label {cursor: pointer;display: block;width: 100%;margin-bottom: 0;padding: 0.3em;box-sizing: border-box;text-align: center;}#sk-container-id-51 label.sk-toggleable__label-arrow:before {content: \"▸\";float: left;margin-right: 0.25em;color: #696969;}#sk-container-id-51 label.sk-toggleable__label-arrow:hover:before {color: black;}#sk-container-id-51 div.sk-estimator:hover label.sk-toggleable__label-arrow:before {color: black;}#sk-container-id-51 div.sk-toggleable__content {max-height: 0;max-width: 0;overflow: hidden;text-align: left;background-color: #f0f8ff;}#sk-container-id-51 div.sk-toggleable__content pre {margin: 0.2em;color: black;border-radius: 0.25em;background-color: #f0f8ff;}#sk-container-id-51 input.sk-toggleable__control:checked~div.sk-toggleable__content {max-height: 200px;max-width: 100%;overflow: auto;}#sk-container-id-51 input.sk-toggleable__control:checked~label.sk-toggleable__label-arrow:before {content: \"▾\";}#sk-container-id-51 div.sk-estimator input.sk-toggleable__control:checked~label.sk-toggleable__label {background-color: #d4ebff;}#sk-container-id-51 div.sk-label input.sk-toggleable__control:checked~label.sk-toggleable__label {background-color: #d4ebff;}#sk-container-id-51 input.sk-hidden--visually {border: 0;clip: rect(1px 1px 1px 1px);clip: rect(1px, 1px, 1px, 1px);height: 1px;margin: -1px;overflow: hidden;padding: 0;position: absolute;width: 1px;}#sk-container-id-51 div.sk-estimator {font-family: monospace;background-color: #f0f8ff;border: 1px dotted black;border-radius: 0.25em;box-sizing: border-box;margin-bottom: 0.5em;}#sk-container-id-51 div.sk-estimator:hover {background-color: #d4ebff;}#sk-container-id-51 div.sk-parallel-item::after {content: \"\";width: 100%;border-bottom: 1px solid gray;flex-grow: 1;}#sk-container-id-51 div.sk-label:hover label.sk-toggleable__label {background-color: #d4ebff;}#sk-container-id-51 div.sk-serial::before {content: \"\";position: absolute;border-left: 1px solid gray;box-sizing: border-box;top: 0;bottom: 0;left: 50%;z-index: 0;}#sk-container-id-51 div.sk-serial {display: flex;flex-direction: column;align-items: center;background-color: white;padding-right: 0.2em;padding-left: 0.2em;position: relative;}#sk-container-id-51 div.sk-item {position: relative;z-index: 1;}#sk-container-id-51 div.sk-parallel {display: flex;align-items: stretch;justify-content: center;background-color: white;position: relative;}#sk-container-id-51 div.sk-item::before, #sk-container-id-51 div.sk-parallel-item::before {content: \"\";position: absolute;border-left: 1px solid gray;box-sizing: border-box;top: 0;bottom: 0;left: 50%;z-index: -1;}#sk-container-id-51 div.sk-parallel-item {display: flex;flex-direction: column;z-index: 1;position: relative;background-color: white;}#sk-container-id-51 div.sk-parallel-item:first-child::after {align-self: flex-end;width: 50%;}#sk-container-id-51 div.sk-parallel-item:last-child::after {align-self: flex-start;width: 50%;}#sk-container-id-51 div.sk-parallel-item:only-child::after {width: 0;}#sk-container-id-51 div.sk-dashed-wrapped {border: 1px dashed gray;margin: 0 0.4em 0.5em 0.4em;box-sizing: border-box;padding-bottom: 0.4em;background-color: white;}#sk-container-id-51 div.sk-label label {font-family: monospace;font-weight: bold;display: inline-block;line-height: 1.2em;}#sk-container-id-51 div.sk-label-container {text-align: center;}#sk-container-id-51 div.sk-container {/* jupyter's `normalize.less` sets `[hidden] { display: none; }` but bootstrap.min.css set `[hidden] { display: none !important; }` so we also need the `!important` here to be able to override the default hidden behavior on the sphinx rendered scikit-learn.org. See: https://github.com/scikit-learn/scikit-learn/issues/21755 */display: inline-block !important;position: relative;}#sk-container-id-51 div.sk-text-repr-fallback {display: none;}</style><div id=\"sk-container-id-51\" class=\"sk-top-container\"><div class=\"sk-text-repr-fallback\"><pre>GridSearchCV(cv=5, estimator=RandomForestClassifier(),\n",
              "             param_grid={&#x27;criterion&#x27;: [&#x27;gini&#x27;, &#x27;entropy&#x27;, &#x27;log_loss&#x27;],\n",
              "                         &#x27;max_depth&#x27;: [5, 10, 12, 16, 18],\n",
              "                         &#x27;min_samples_split&#x27;: [10, 20, 50]})</pre><b>In a Jupyter environment, please rerun this cell to show the HTML representation or trust the notebook. <br />On GitHub, the HTML representation is unable to render, please try loading this page with nbviewer.org.</b></div><div class=\"sk-container\" hidden><div class=\"sk-item sk-dashed-wrapped\"><div class=\"sk-label-container\"><div class=\"sk-label sk-toggleable\"><input class=\"sk-toggleable__control sk-hidden--visually\" id=\"sk-estimator-id-97\" type=\"checkbox\" ><label for=\"sk-estimator-id-97\" class=\"sk-toggleable__label sk-toggleable__label-arrow\">GridSearchCV</label><div class=\"sk-toggleable__content\"><pre>GridSearchCV(cv=5, estimator=RandomForestClassifier(),\n",
              "             param_grid={&#x27;criterion&#x27;: [&#x27;gini&#x27;, &#x27;entropy&#x27;, &#x27;log_loss&#x27;],\n",
              "                         &#x27;max_depth&#x27;: [5, 10, 12, 16, 18],\n",
              "                         &#x27;min_samples_split&#x27;: [10, 20, 50]})</pre></div></div></div><div class=\"sk-parallel\"><div class=\"sk-parallel-item\"><div class=\"sk-item\"><div class=\"sk-label-container\"><div class=\"sk-label sk-toggleable\"><input class=\"sk-toggleable__control sk-hidden--visually\" id=\"sk-estimator-id-98\" type=\"checkbox\" ><label for=\"sk-estimator-id-98\" class=\"sk-toggleable__label sk-toggleable__label-arrow\">estimator: RandomForestClassifier</label><div class=\"sk-toggleable__content\"><pre>RandomForestClassifier()</pre></div></div></div><div class=\"sk-serial\"><div class=\"sk-item\"><div class=\"sk-estimator sk-toggleable\"><input class=\"sk-toggleable__control sk-hidden--visually\" id=\"sk-estimator-id-99\" type=\"checkbox\" ><label for=\"sk-estimator-id-99\" class=\"sk-toggleable__label sk-toggleable__label-arrow\">RandomForestClassifier</label><div class=\"sk-toggleable__content\"><pre>RandomForestClassifier()</pre></div></div></div></div></div></div></div></div></div></div>"
            ]
          },
          "metadata": {},
          "execution_count": 236
        }
      ]
    },
    {
      "cell_type": "code",
      "source": [
        "#Decision Tree Classification\n",
        "\n",
        "param_grid = {'criterion': [\"gini\", \"entropy\", \"log_loss\"],\n",
        "               'min_samples_split': [10, 20, 50],\n",
        "               'max_depth' : [5, 10, 12, 16, 18]}\n",
        "\n",
        "dt_classifier = DecisionTreeClassifier()\n",
        "clf_dt_classifier = GridSearchCV(estimator=dt_classifier,\n",
        "                   param_grid=param_grid, cv= 5)\n",
        "\n",
        "clf_dt_classifier.fit(X_red_train, Y_red_train)"
      ],
      "metadata": {
        "colab": {
          "base_uri": "https://localhost:8080/",
          "height": 116
        },
        "id": "aKs-U01H6-5Y",
        "outputId": "0475fe71-4a31-4a91-f0f9-ad685cccf7c8"
      },
      "execution_count": 237,
      "outputs": [
        {
          "output_type": "execute_result",
          "data": {
            "text/plain": [
              "GridSearchCV(cv=5, estimator=DecisionTreeClassifier(),\n",
              "             param_grid={'criterion': ['gini', 'entropy', 'log_loss'],\n",
              "                         'max_depth': [5, 10, 12, 16, 18],\n",
              "                         'min_samples_split': [10, 20, 50]})"
            ],
            "text/html": [
              "<style>#sk-container-id-52 {color: black;background-color: white;}#sk-container-id-52 pre{padding: 0;}#sk-container-id-52 div.sk-toggleable {background-color: white;}#sk-container-id-52 label.sk-toggleable__label {cursor: pointer;display: block;width: 100%;margin-bottom: 0;padding: 0.3em;box-sizing: border-box;text-align: center;}#sk-container-id-52 label.sk-toggleable__label-arrow:before {content: \"▸\";float: left;margin-right: 0.25em;color: #696969;}#sk-container-id-52 label.sk-toggleable__label-arrow:hover:before {color: black;}#sk-container-id-52 div.sk-estimator:hover label.sk-toggleable__label-arrow:before {color: black;}#sk-container-id-52 div.sk-toggleable__content {max-height: 0;max-width: 0;overflow: hidden;text-align: left;background-color: #f0f8ff;}#sk-container-id-52 div.sk-toggleable__content pre {margin: 0.2em;color: black;border-radius: 0.25em;background-color: #f0f8ff;}#sk-container-id-52 input.sk-toggleable__control:checked~div.sk-toggleable__content {max-height: 200px;max-width: 100%;overflow: auto;}#sk-container-id-52 input.sk-toggleable__control:checked~label.sk-toggleable__label-arrow:before {content: \"▾\";}#sk-container-id-52 div.sk-estimator input.sk-toggleable__control:checked~label.sk-toggleable__label {background-color: #d4ebff;}#sk-container-id-52 div.sk-label input.sk-toggleable__control:checked~label.sk-toggleable__label {background-color: #d4ebff;}#sk-container-id-52 input.sk-hidden--visually {border: 0;clip: rect(1px 1px 1px 1px);clip: rect(1px, 1px, 1px, 1px);height: 1px;margin: -1px;overflow: hidden;padding: 0;position: absolute;width: 1px;}#sk-container-id-52 div.sk-estimator {font-family: monospace;background-color: #f0f8ff;border: 1px dotted black;border-radius: 0.25em;box-sizing: border-box;margin-bottom: 0.5em;}#sk-container-id-52 div.sk-estimator:hover {background-color: #d4ebff;}#sk-container-id-52 div.sk-parallel-item::after {content: \"\";width: 100%;border-bottom: 1px solid gray;flex-grow: 1;}#sk-container-id-52 div.sk-label:hover label.sk-toggleable__label {background-color: #d4ebff;}#sk-container-id-52 div.sk-serial::before {content: \"\";position: absolute;border-left: 1px solid gray;box-sizing: border-box;top: 0;bottom: 0;left: 50%;z-index: 0;}#sk-container-id-52 div.sk-serial {display: flex;flex-direction: column;align-items: center;background-color: white;padding-right: 0.2em;padding-left: 0.2em;position: relative;}#sk-container-id-52 div.sk-item {position: relative;z-index: 1;}#sk-container-id-52 div.sk-parallel {display: flex;align-items: stretch;justify-content: center;background-color: white;position: relative;}#sk-container-id-52 div.sk-item::before, #sk-container-id-52 div.sk-parallel-item::before {content: \"\";position: absolute;border-left: 1px solid gray;box-sizing: border-box;top: 0;bottom: 0;left: 50%;z-index: -1;}#sk-container-id-52 div.sk-parallel-item {display: flex;flex-direction: column;z-index: 1;position: relative;background-color: white;}#sk-container-id-52 div.sk-parallel-item:first-child::after {align-self: flex-end;width: 50%;}#sk-container-id-52 div.sk-parallel-item:last-child::after {align-self: flex-start;width: 50%;}#sk-container-id-52 div.sk-parallel-item:only-child::after {width: 0;}#sk-container-id-52 div.sk-dashed-wrapped {border: 1px dashed gray;margin: 0 0.4em 0.5em 0.4em;box-sizing: border-box;padding-bottom: 0.4em;background-color: white;}#sk-container-id-52 div.sk-label label {font-family: monospace;font-weight: bold;display: inline-block;line-height: 1.2em;}#sk-container-id-52 div.sk-label-container {text-align: center;}#sk-container-id-52 div.sk-container {/* jupyter's `normalize.less` sets `[hidden] { display: none; }` but bootstrap.min.css set `[hidden] { display: none !important; }` so we also need the `!important` here to be able to override the default hidden behavior on the sphinx rendered scikit-learn.org. See: https://github.com/scikit-learn/scikit-learn/issues/21755 */display: inline-block !important;position: relative;}#sk-container-id-52 div.sk-text-repr-fallback {display: none;}</style><div id=\"sk-container-id-52\" class=\"sk-top-container\"><div class=\"sk-text-repr-fallback\"><pre>GridSearchCV(cv=5, estimator=DecisionTreeClassifier(),\n",
              "             param_grid={&#x27;criterion&#x27;: [&#x27;gini&#x27;, &#x27;entropy&#x27;, &#x27;log_loss&#x27;],\n",
              "                         &#x27;max_depth&#x27;: [5, 10, 12, 16, 18],\n",
              "                         &#x27;min_samples_split&#x27;: [10, 20, 50]})</pre><b>In a Jupyter environment, please rerun this cell to show the HTML representation or trust the notebook. <br />On GitHub, the HTML representation is unable to render, please try loading this page with nbviewer.org.</b></div><div class=\"sk-container\" hidden><div class=\"sk-item sk-dashed-wrapped\"><div class=\"sk-label-container\"><div class=\"sk-label sk-toggleable\"><input class=\"sk-toggleable__control sk-hidden--visually\" id=\"sk-estimator-id-100\" type=\"checkbox\" ><label for=\"sk-estimator-id-100\" class=\"sk-toggleable__label sk-toggleable__label-arrow\">GridSearchCV</label><div class=\"sk-toggleable__content\"><pre>GridSearchCV(cv=5, estimator=DecisionTreeClassifier(),\n",
              "             param_grid={&#x27;criterion&#x27;: [&#x27;gini&#x27;, &#x27;entropy&#x27;, &#x27;log_loss&#x27;],\n",
              "                         &#x27;max_depth&#x27;: [5, 10, 12, 16, 18],\n",
              "                         &#x27;min_samples_split&#x27;: [10, 20, 50]})</pre></div></div></div><div class=\"sk-parallel\"><div class=\"sk-parallel-item\"><div class=\"sk-item\"><div class=\"sk-label-container\"><div class=\"sk-label sk-toggleable\"><input class=\"sk-toggleable__control sk-hidden--visually\" id=\"sk-estimator-id-101\" type=\"checkbox\" ><label for=\"sk-estimator-id-101\" class=\"sk-toggleable__label sk-toggleable__label-arrow\">estimator: DecisionTreeClassifier</label><div class=\"sk-toggleable__content\"><pre>DecisionTreeClassifier()</pre></div></div></div><div class=\"sk-serial\"><div class=\"sk-item\"><div class=\"sk-estimator sk-toggleable\"><input class=\"sk-toggleable__control sk-hidden--visually\" id=\"sk-estimator-id-102\" type=\"checkbox\" ><label for=\"sk-estimator-id-102\" class=\"sk-toggleable__label sk-toggleable__label-arrow\">DecisionTreeClassifier</label><div class=\"sk-toggleable__content\"><pre>DecisionTreeClassifier()</pre></div></div></div></div></div></div></div></div></div></div>"
            ]
          },
          "metadata": {},
          "execution_count": 237
        }
      ]
    },
    {
      "cell_type": "markdown",
      "source": [
        "### SOAL 6b\n",
        "[1]\n",
        "\n",
        "Tampilkan hyperparameter terbaik yang kalian dapatkan dari proses Grid Search untuk model Random Forest Regressor, Random Forest Classifier, Decision Tree Regressor, dan Decision Tree Classifier dari nomor 5a."
      ],
      "metadata": {
        "id": "Z2PbwARdYPYa"
      }
    },
    {
      "cell_type": "code",
      "source": [
        "# Best Hyperparamter from grid search Random Forest Regressor\n",
        "\n",
        "clf_rf_regressor.best_params_"
      ],
      "metadata": {
        "id": "IblBzKlgNuL5",
        "colab": {
          "base_uri": "https://localhost:8080/"
        },
        "outputId": "cbb45c4c-dfa9-4e27-8b25-93d1130988eb"
      },
      "execution_count": 238,
      "outputs": [
        {
          "output_type": "execute_result",
          "data": {
            "text/plain": [
              "{'criterion': 'absolute_error', 'max_depth': 16, 'min_samples_split': 20}"
            ]
          },
          "metadata": {},
          "execution_count": 238
        }
      ]
    },
    {
      "cell_type": "code",
      "source": [
        "# Best Hyperparamter from grid search Decison Tree Regressor\n",
        "\n",
        "clf_dt_regressor.best_params_"
      ],
      "metadata": {
        "colab": {
          "base_uri": "https://localhost:8080/"
        },
        "id": "YMVf8_c67cZI",
        "outputId": "0cc6ac4d-498b-4ba6-b76a-44fb986c6eeb"
      },
      "execution_count": 239,
      "outputs": [
        {
          "output_type": "execute_result",
          "data": {
            "text/plain": [
              "{'criterion': 'squared_error', 'max_depth': 5, 'min_samples_split': 50}"
            ]
          },
          "metadata": {},
          "execution_count": 239
        }
      ]
    },
    {
      "cell_type": "code",
      "source": [
        "# Best Hyperparamter from grid search Random Forest Classifier\n",
        "\n",
        "clf_rf_classifier.best_params_"
      ],
      "metadata": {
        "colab": {
          "base_uri": "https://localhost:8080/"
        },
        "id": "IrC7IN0a7cyD",
        "outputId": "29a86ac2-4a12-4d27-af58-7502c7a62739"
      },
      "execution_count": 240,
      "outputs": [
        {
          "output_type": "execute_result",
          "data": {
            "text/plain": [
              "{'criterion': 'gini', 'max_depth': 16, 'min_samples_split': 10}"
            ]
          },
          "metadata": {},
          "execution_count": 240
        }
      ]
    },
    {
      "cell_type": "code",
      "source": [
        "# Best Hyperparamter from grid search Decison Tree Classifier\n",
        "\n",
        "clf_dt_classifier.best_params_"
      ],
      "metadata": {
        "colab": {
          "base_uri": "https://localhost:8080/"
        },
        "id": "ye-jNGGb7dGD",
        "outputId": "00f17d56-5c0c-4939-acff-946ac78d7746"
      },
      "execution_count": 241,
      "outputs": [
        {
          "output_type": "execute_result",
          "data": {
            "text/plain": [
              "{'criterion': 'gini', 'max_depth': 16, 'min_samples_split': 10}"
            ]
          },
          "metadata": {},
          "execution_count": 241
        }
      ]
    },
    {
      "cell_type": "markdown",
      "source": [
        "### SOAL 6c\n",
        "[2.5]\n",
        "\n",
        "Buatlah 2 model Random Forest (Random Forest Classifier dan Random Forest Regressor) dan 2 model Decision Tree (Decision Tree Classifier dan Decision Tree Regressor) berdasarkan hyperparameter yang kalian dapatkan dari **soal 5a**"
      ],
      "metadata": {
        "id": "FD6Jht9eYktq"
      }
    },
    {
      "cell_type": "code",
      "source": [
        "# Random Forest Regressor Model\n",
        "\n",
        "best_hp_rf_regression = RandomForestRegressor(**clf_rf_regressor.best_params_)\n",
        "best_hp_rf_regression.fit(X_admission_train, Y_admission_train)"
      ],
      "metadata": {
        "id": "Cc5iczltNve1",
        "colab": {
          "base_uri": "https://localhost:8080/",
          "height": 91
        },
        "outputId": "d49b683c-fa5f-4611-a790-c184dc8e002c"
      },
      "execution_count": 242,
      "outputs": [
        {
          "output_type": "execute_result",
          "data": {
            "text/plain": [
              "RandomForestRegressor(criterion='absolute_error', max_depth=16,\n",
              "                      min_samples_split=20)"
            ],
            "text/html": [
              "<style>#sk-container-id-53 {color: black;background-color: white;}#sk-container-id-53 pre{padding: 0;}#sk-container-id-53 div.sk-toggleable {background-color: white;}#sk-container-id-53 label.sk-toggleable__label {cursor: pointer;display: block;width: 100%;margin-bottom: 0;padding: 0.3em;box-sizing: border-box;text-align: center;}#sk-container-id-53 label.sk-toggleable__label-arrow:before {content: \"▸\";float: left;margin-right: 0.25em;color: #696969;}#sk-container-id-53 label.sk-toggleable__label-arrow:hover:before {color: black;}#sk-container-id-53 div.sk-estimator:hover label.sk-toggleable__label-arrow:before {color: black;}#sk-container-id-53 div.sk-toggleable__content {max-height: 0;max-width: 0;overflow: hidden;text-align: left;background-color: #f0f8ff;}#sk-container-id-53 div.sk-toggleable__content pre {margin: 0.2em;color: black;border-radius: 0.25em;background-color: #f0f8ff;}#sk-container-id-53 input.sk-toggleable__control:checked~div.sk-toggleable__content {max-height: 200px;max-width: 100%;overflow: auto;}#sk-container-id-53 input.sk-toggleable__control:checked~label.sk-toggleable__label-arrow:before {content: \"▾\";}#sk-container-id-53 div.sk-estimator input.sk-toggleable__control:checked~label.sk-toggleable__label {background-color: #d4ebff;}#sk-container-id-53 div.sk-label input.sk-toggleable__control:checked~label.sk-toggleable__label {background-color: #d4ebff;}#sk-container-id-53 input.sk-hidden--visually {border: 0;clip: rect(1px 1px 1px 1px);clip: rect(1px, 1px, 1px, 1px);height: 1px;margin: -1px;overflow: hidden;padding: 0;position: absolute;width: 1px;}#sk-container-id-53 div.sk-estimator {font-family: monospace;background-color: #f0f8ff;border: 1px dotted black;border-radius: 0.25em;box-sizing: border-box;margin-bottom: 0.5em;}#sk-container-id-53 div.sk-estimator:hover {background-color: #d4ebff;}#sk-container-id-53 div.sk-parallel-item::after {content: \"\";width: 100%;border-bottom: 1px solid gray;flex-grow: 1;}#sk-container-id-53 div.sk-label:hover label.sk-toggleable__label {background-color: #d4ebff;}#sk-container-id-53 div.sk-serial::before {content: \"\";position: absolute;border-left: 1px solid gray;box-sizing: border-box;top: 0;bottom: 0;left: 50%;z-index: 0;}#sk-container-id-53 div.sk-serial {display: flex;flex-direction: column;align-items: center;background-color: white;padding-right: 0.2em;padding-left: 0.2em;position: relative;}#sk-container-id-53 div.sk-item {position: relative;z-index: 1;}#sk-container-id-53 div.sk-parallel {display: flex;align-items: stretch;justify-content: center;background-color: white;position: relative;}#sk-container-id-53 div.sk-item::before, #sk-container-id-53 div.sk-parallel-item::before {content: \"\";position: absolute;border-left: 1px solid gray;box-sizing: border-box;top: 0;bottom: 0;left: 50%;z-index: -1;}#sk-container-id-53 div.sk-parallel-item {display: flex;flex-direction: column;z-index: 1;position: relative;background-color: white;}#sk-container-id-53 div.sk-parallel-item:first-child::after {align-self: flex-end;width: 50%;}#sk-container-id-53 div.sk-parallel-item:last-child::after {align-self: flex-start;width: 50%;}#sk-container-id-53 div.sk-parallel-item:only-child::after {width: 0;}#sk-container-id-53 div.sk-dashed-wrapped {border: 1px dashed gray;margin: 0 0.4em 0.5em 0.4em;box-sizing: border-box;padding-bottom: 0.4em;background-color: white;}#sk-container-id-53 div.sk-label label {font-family: monospace;font-weight: bold;display: inline-block;line-height: 1.2em;}#sk-container-id-53 div.sk-label-container {text-align: center;}#sk-container-id-53 div.sk-container {/* jupyter's `normalize.less` sets `[hidden] { display: none; }` but bootstrap.min.css set `[hidden] { display: none !important; }` so we also need the `!important` here to be able to override the default hidden behavior on the sphinx rendered scikit-learn.org. See: https://github.com/scikit-learn/scikit-learn/issues/21755 */display: inline-block !important;position: relative;}#sk-container-id-53 div.sk-text-repr-fallback {display: none;}</style><div id=\"sk-container-id-53\" class=\"sk-top-container\"><div class=\"sk-text-repr-fallback\"><pre>RandomForestRegressor(criterion=&#x27;absolute_error&#x27;, max_depth=16,\n",
              "                      min_samples_split=20)</pre><b>In a Jupyter environment, please rerun this cell to show the HTML representation or trust the notebook. <br />On GitHub, the HTML representation is unable to render, please try loading this page with nbviewer.org.</b></div><div class=\"sk-container\" hidden><div class=\"sk-item\"><div class=\"sk-estimator sk-toggleable\"><input class=\"sk-toggleable__control sk-hidden--visually\" id=\"sk-estimator-id-103\" type=\"checkbox\" checked><label for=\"sk-estimator-id-103\" class=\"sk-toggleable__label sk-toggleable__label-arrow\">RandomForestRegressor</label><div class=\"sk-toggleable__content\"><pre>RandomForestRegressor(criterion=&#x27;absolute_error&#x27;, max_depth=16,\n",
              "                      min_samples_split=20)</pre></div></div></div></div></div>"
            ]
          },
          "metadata": {},
          "execution_count": 242
        }
      ]
    },
    {
      "cell_type": "code",
      "source": [
        "# Decison Tree Regressor Model\n",
        "\n",
        "best_hp_dt_regression = DecisionTreeRegressor(**clf_dt_regressor.best_params_)\n",
        "best_hp_dt_regression.fit(X_admission_train, Y_admission_train)"
      ],
      "metadata": {
        "colab": {
          "base_uri": "https://localhost:8080/",
          "height": 74
        },
        "id": "uzmEihhj_QfW",
        "outputId": "b6827917-ad5e-41d1-ea6a-ce39c554f888"
      },
      "execution_count": 243,
      "outputs": [
        {
          "output_type": "execute_result",
          "data": {
            "text/plain": [
              "DecisionTreeRegressor(max_depth=5, min_samples_split=50)"
            ],
            "text/html": [
              "<style>#sk-container-id-54 {color: black;background-color: white;}#sk-container-id-54 pre{padding: 0;}#sk-container-id-54 div.sk-toggleable {background-color: white;}#sk-container-id-54 label.sk-toggleable__label {cursor: pointer;display: block;width: 100%;margin-bottom: 0;padding: 0.3em;box-sizing: border-box;text-align: center;}#sk-container-id-54 label.sk-toggleable__label-arrow:before {content: \"▸\";float: left;margin-right: 0.25em;color: #696969;}#sk-container-id-54 label.sk-toggleable__label-arrow:hover:before {color: black;}#sk-container-id-54 div.sk-estimator:hover label.sk-toggleable__label-arrow:before {color: black;}#sk-container-id-54 div.sk-toggleable__content {max-height: 0;max-width: 0;overflow: hidden;text-align: left;background-color: #f0f8ff;}#sk-container-id-54 div.sk-toggleable__content pre {margin: 0.2em;color: black;border-radius: 0.25em;background-color: #f0f8ff;}#sk-container-id-54 input.sk-toggleable__control:checked~div.sk-toggleable__content {max-height: 200px;max-width: 100%;overflow: auto;}#sk-container-id-54 input.sk-toggleable__control:checked~label.sk-toggleable__label-arrow:before {content: \"▾\";}#sk-container-id-54 div.sk-estimator input.sk-toggleable__control:checked~label.sk-toggleable__label {background-color: #d4ebff;}#sk-container-id-54 div.sk-label input.sk-toggleable__control:checked~label.sk-toggleable__label {background-color: #d4ebff;}#sk-container-id-54 input.sk-hidden--visually {border: 0;clip: rect(1px 1px 1px 1px);clip: rect(1px, 1px, 1px, 1px);height: 1px;margin: -1px;overflow: hidden;padding: 0;position: absolute;width: 1px;}#sk-container-id-54 div.sk-estimator {font-family: monospace;background-color: #f0f8ff;border: 1px dotted black;border-radius: 0.25em;box-sizing: border-box;margin-bottom: 0.5em;}#sk-container-id-54 div.sk-estimator:hover {background-color: #d4ebff;}#sk-container-id-54 div.sk-parallel-item::after {content: \"\";width: 100%;border-bottom: 1px solid gray;flex-grow: 1;}#sk-container-id-54 div.sk-label:hover label.sk-toggleable__label {background-color: #d4ebff;}#sk-container-id-54 div.sk-serial::before {content: \"\";position: absolute;border-left: 1px solid gray;box-sizing: border-box;top: 0;bottom: 0;left: 50%;z-index: 0;}#sk-container-id-54 div.sk-serial {display: flex;flex-direction: column;align-items: center;background-color: white;padding-right: 0.2em;padding-left: 0.2em;position: relative;}#sk-container-id-54 div.sk-item {position: relative;z-index: 1;}#sk-container-id-54 div.sk-parallel {display: flex;align-items: stretch;justify-content: center;background-color: white;position: relative;}#sk-container-id-54 div.sk-item::before, #sk-container-id-54 div.sk-parallel-item::before {content: \"\";position: absolute;border-left: 1px solid gray;box-sizing: border-box;top: 0;bottom: 0;left: 50%;z-index: -1;}#sk-container-id-54 div.sk-parallel-item {display: flex;flex-direction: column;z-index: 1;position: relative;background-color: white;}#sk-container-id-54 div.sk-parallel-item:first-child::after {align-self: flex-end;width: 50%;}#sk-container-id-54 div.sk-parallel-item:last-child::after {align-self: flex-start;width: 50%;}#sk-container-id-54 div.sk-parallel-item:only-child::after {width: 0;}#sk-container-id-54 div.sk-dashed-wrapped {border: 1px dashed gray;margin: 0 0.4em 0.5em 0.4em;box-sizing: border-box;padding-bottom: 0.4em;background-color: white;}#sk-container-id-54 div.sk-label label {font-family: monospace;font-weight: bold;display: inline-block;line-height: 1.2em;}#sk-container-id-54 div.sk-label-container {text-align: center;}#sk-container-id-54 div.sk-container {/* jupyter's `normalize.less` sets `[hidden] { display: none; }` but bootstrap.min.css set `[hidden] { display: none !important; }` so we also need the `!important` here to be able to override the default hidden behavior on the sphinx rendered scikit-learn.org. See: https://github.com/scikit-learn/scikit-learn/issues/21755 */display: inline-block !important;position: relative;}#sk-container-id-54 div.sk-text-repr-fallback {display: none;}</style><div id=\"sk-container-id-54\" class=\"sk-top-container\"><div class=\"sk-text-repr-fallback\"><pre>DecisionTreeRegressor(max_depth=5, min_samples_split=50)</pre><b>In a Jupyter environment, please rerun this cell to show the HTML representation or trust the notebook. <br />On GitHub, the HTML representation is unable to render, please try loading this page with nbviewer.org.</b></div><div class=\"sk-container\" hidden><div class=\"sk-item\"><div class=\"sk-estimator sk-toggleable\"><input class=\"sk-toggleable__control sk-hidden--visually\" id=\"sk-estimator-id-104\" type=\"checkbox\" checked><label for=\"sk-estimator-id-104\" class=\"sk-toggleable__label sk-toggleable__label-arrow\">DecisionTreeRegressor</label><div class=\"sk-toggleable__content\"><pre>DecisionTreeRegressor(max_depth=5, min_samples_split=50)</pre></div></div></div></div></div>"
            ]
          },
          "metadata": {},
          "execution_count": 243
        }
      ]
    },
    {
      "cell_type": "code",
      "source": [
        "# Random Forest Classifier Model\n",
        "\n",
        "best_hp_rf_classifier = RandomForestClassifier(**clf_rf_classifier.best_params_)\n",
        "best_hp_rf_classifier.fit(X_red_train, Y_red_train)"
      ],
      "metadata": {
        "colab": {
          "base_uri": "https://localhost:8080/",
          "height": 74
        },
        "id": "X4Wrgqza_R1a",
        "outputId": "26137e90-ec63-4d08-b589-b4ed1f61e9e2"
      },
      "execution_count": 244,
      "outputs": [
        {
          "output_type": "execute_result",
          "data": {
            "text/plain": [
              "RandomForestClassifier(max_depth=16, min_samples_split=10)"
            ],
            "text/html": [
              "<style>#sk-container-id-55 {color: black;background-color: white;}#sk-container-id-55 pre{padding: 0;}#sk-container-id-55 div.sk-toggleable {background-color: white;}#sk-container-id-55 label.sk-toggleable__label {cursor: pointer;display: block;width: 100%;margin-bottom: 0;padding: 0.3em;box-sizing: border-box;text-align: center;}#sk-container-id-55 label.sk-toggleable__label-arrow:before {content: \"▸\";float: left;margin-right: 0.25em;color: #696969;}#sk-container-id-55 label.sk-toggleable__label-arrow:hover:before {color: black;}#sk-container-id-55 div.sk-estimator:hover label.sk-toggleable__label-arrow:before {color: black;}#sk-container-id-55 div.sk-toggleable__content {max-height: 0;max-width: 0;overflow: hidden;text-align: left;background-color: #f0f8ff;}#sk-container-id-55 div.sk-toggleable__content pre {margin: 0.2em;color: black;border-radius: 0.25em;background-color: #f0f8ff;}#sk-container-id-55 input.sk-toggleable__control:checked~div.sk-toggleable__content {max-height: 200px;max-width: 100%;overflow: auto;}#sk-container-id-55 input.sk-toggleable__control:checked~label.sk-toggleable__label-arrow:before {content: \"▾\";}#sk-container-id-55 div.sk-estimator input.sk-toggleable__control:checked~label.sk-toggleable__label {background-color: #d4ebff;}#sk-container-id-55 div.sk-label input.sk-toggleable__control:checked~label.sk-toggleable__label {background-color: #d4ebff;}#sk-container-id-55 input.sk-hidden--visually {border: 0;clip: rect(1px 1px 1px 1px);clip: rect(1px, 1px, 1px, 1px);height: 1px;margin: -1px;overflow: hidden;padding: 0;position: absolute;width: 1px;}#sk-container-id-55 div.sk-estimator {font-family: monospace;background-color: #f0f8ff;border: 1px dotted black;border-radius: 0.25em;box-sizing: border-box;margin-bottom: 0.5em;}#sk-container-id-55 div.sk-estimator:hover {background-color: #d4ebff;}#sk-container-id-55 div.sk-parallel-item::after {content: \"\";width: 100%;border-bottom: 1px solid gray;flex-grow: 1;}#sk-container-id-55 div.sk-label:hover label.sk-toggleable__label {background-color: #d4ebff;}#sk-container-id-55 div.sk-serial::before {content: \"\";position: absolute;border-left: 1px solid gray;box-sizing: border-box;top: 0;bottom: 0;left: 50%;z-index: 0;}#sk-container-id-55 div.sk-serial {display: flex;flex-direction: column;align-items: center;background-color: white;padding-right: 0.2em;padding-left: 0.2em;position: relative;}#sk-container-id-55 div.sk-item {position: relative;z-index: 1;}#sk-container-id-55 div.sk-parallel {display: flex;align-items: stretch;justify-content: center;background-color: white;position: relative;}#sk-container-id-55 div.sk-item::before, #sk-container-id-55 div.sk-parallel-item::before {content: \"\";position: absolute;border-left: 1px solid gray;box-sizing: border-box;top: 0;bottom: 0;left: 50%;z-index: -1;}#sk-container-id-55 div.sk-parallel-item {display: flex;flex-direction: column;z-index: 1;position: relative;background-color: white;}#sk-container-id-55 div.sk-parallel-item:first-child::after {align-self: flex-end;width: 50%;}#sk-container-id-55 div.sk-parallel-item:last-child::after {align-self: flex-start;width: 50%;}#sk-container-id-55 div.sk-parallel-item:only-child::after {width: 0;}#sk-container-id-55 div.sk-dashed-wrapped {border: 1px dashed gray;margin: 0 0.4em 0.5em 0.4em;box-sizing: border-box;padding-bottom: 0.4em;background-color: white;}#sk-container-id-55 div.sk-label label {font-family: monospace;font-weight: bold;display: inline-block;line-height: 1.2em;}#sk-container-id-55 div.sk-label-container {text-align: center;}#sk-container-id-55 div.sk-container {/* jupyter's `normalize.less` sets `[hidden] { display: none; }` but bootstrap.min.css set `[hidden] { display: none !important; }` so we also need the `!important` here to be able to override the default hidden behavior on the sphinx rendered scikit-learn.org. See: https://github.com/scikit-learn/scikit-learn/issues/21755 */display: inline-block !important;position: relative;}#sk-container-id-55 div.sk-text-repr-fallback {display: none;}</style><div id=\"sk-container-id-55\" class=\"sk-top-container\"><div class=\"sk-text-repr-fallback\"><pre>RandomForestClassifier(max_depth=16, min_samples_split=10)</pre><b>In a Jupyter environment, please rerun this cell to show the HTML representation or trust the notebook. <br />On GitHub, the HTML representation is unable to render, please try loading this page with nbviewer.org.</b></div><div class=\"sk-container\" hidden><div class=\"sk-item\"><div class=\"sk-estimator sk-toggleable\"><input class=\"sk-toggleable__control sk-hidden--visually\" id=\"sk-estimator-id-105\" type=\"checkbox\" checked><label for=\"sk-estimator-id-105\" class=\"sk-toggleable__label sk-toggleable__label-arrow\">RandomForestClassifier</label><div class=\"sk-toggleable__content\"><pre>RandomForestClassifier(max_depth=16, min_samples_split=10)</pre></div></div></div></div></div>"
            ]
          },
          "metadata": {},
          "execution_count": 244
        }
      ]
    },
    {
      "cell_type": "code",
      "source": [
        "# Decison Tree Classifier Model\n",
        "\n",
        "best_hp_dt_classifier = DecisionTreeClassifier(**clf_dt_classifier.best_params_)\n",
        "best_hp_dt_classifier.fit(X_red_train, Y_red_train)"
      ],
      "metadata": {
        "colab": {
          "base_uri": "https://localhost:8080/",
          "height": 74
        },
        "id": "NVwm0XgI_Uaa",
        "outputId": "84281338-2dc8-4b24-f0da-443e1fe6cea5"
      },
      "execution_count": 245,
      "outputs": [
        {
          "output_type": "execute_result",
          "data": {
            "text/plain": [
              "DecisionTreeClassifier(max_depth=16, min_samples_split=10)"
            ],
            "text/html": [
              "<style>#sk-container-id-56 {color: black;background-color: white;}#sk-container-id-56 pre{padding: 0;}#sk-container-id-56 div.sk-toggleable {background-color: white;}#sk-container-id-56 label.sk-toggleable__label {cursor: pointer;display: block;width: 100%;margin-bottom: 0;padding: 0.3em;box-sizing: border-box;text-align: center;}#sk-container-id-56 label.sk-toggleable__label-arrow:before {content: \"▸\";float: left;margin-right: 0.25em;color: #696969;}#sk-container-id-56 label.sk-toggleable__label-arrow:hover:before {color: black;}#sk-container-id-56 div.sk-estimator:hover label.sk-toggleable__label-arrow:before {color: black;}#sk-container-id-56 div.sk-toggleable__content {max-height: 0;max-width: 0;overflow: hidden;text-align: left;background-color: #f0f8ff;}#sk-container-id-56 div.sk-toggleable__content pre {margin: 0.2em;color: black;border-radius: 0.25em;background-color: #f0f8ff;}#sk-container-id-56 input.sk-toggleable__control:checked~div.sk-toggleable__content {max-height: 200px;max-width: 100%;overflow: auto;}#sk-container-id-56 input.sk-toggleable__control:checked~label.sk-toggleable__label-arrow:before {content: \"▾\";}#sk-container-id-56 div.sk-estimator input.sk-toggleable__control:checked~label.sk-toggleable__label {background-color: #d4ebff;}#sk-container-id-56 div.sk-label input.sk-toggleable__control:checked~label.sk-toggleable__label {background-color: #d4ebff;}#sk-container-id-56 input.sk-hidden--visually {border: 0;clip: rect(1px 1px 1px 1px);clip: rect(1px, 1px, 1px, 1px);height: 1px;margin: -1px;overflow: hidden;padding: 0;position: absolute;width: 1px;}#sk-container-id-56 div.sk-estimator {font-family: monospace;background-color: #f0f8ff;border: 1px dotted black;border-radius: 0.25em;box-sizing: border-box;margin-bottom: 0.5em;}#sk-container-id-56 div.sk-estimator:hover {background-color: #d4ebff;}#sk-container-id-56 div.sk-parallel-item::after {content: \"\";width: 100%;border-bottom: 1px solid gray;flex-grow: 1;}#sk-container-id-56 div.sk-label:hover label.sk-toggleable__label {background-color: #d4ebff;}#sk-container-id-56 div.sk-serial::before {content: \"\";position: absolute;border-left: 1px solid gray;box-sizing: border-box;top: 0;bottom: 0;left: 50%;z-index: 0;}#sk-container-id-56 div.sk-serial {display: flex;flex-direction: column;align-items: center;background-color: white;padding-right: 0.2em;padding-left: 0.2em;position: relative;}#sk-container-id-56 div.sk-item {position: relative;z-index: 1;}#sk-container-id-56 div.sk-parallel {display: flex;align-items: stretch;justify-content: center;background-color: white;position: relative;}#sk-container-id-56 div.sk-item::before, #sk-container-id-56 div.sk-parallel-item::before {content: \"\";position: absolute;border-left: 1px solid gray;box-sizing: border-box;top: 0;bottom: 0;left: 50%;z-index: -1;}#sk-container-id-56 div.sk-parallel-item {display: flex;flex-direction: column;z-index: 1;position: relative;background-color: white;}#sk-container-id-56 div.sk-parallel-item:first-child::after {align-self: flex-end;width: 50%;}#sk-container-id-56 div.sk-parallel-item:last-child::after {align-self: flex-start;width: 50%;}#sk-container-id-56 div.sk-parallel-item:only-child::after {width: 0;}#sk-container-id-56 div.sk-dashed-wrapped {border: 1px dashed gray;margin: 0 0.4em 0.5em 0.4em;box-sizing: border-box;padding-bottom: 0.4em;background-color: white;}#sk-container-id-56 div.sk-label label {font-family: monospace;font-weight: bold;display: inline-block;line-height: 1.2em;}#sk-container-id-56 div.sk-label-container {text-align: center;}#sk-container-id-56 div.sk-container {/* jupyter's `normalize.less` sets `[hidden] { display: none; }` but bootstrap.min.css set `[hidden] { display: none !important; }` so we also need the `!important` here to be able to override the default hidden behavior on the sphinx rendered scikit-learn.org. See: https://github.com/scikit-learn/scikit-learn/issues/21755 */display: inline-block !important;position: relative;}#sk-container-id-56 div.sk-text-repr-fallback {display: none;}</style><div id=\"sk-container-id-56\" class=\"sk-top-container\"><div class=\"sk-text-repr-fallback\"><pre>DecisionTreeClassifier(max_depth=16, min_samples_split=10)</pre><b>In a Jupyter environment, please rerun this cell to show the HTML representation or trust the notebook. <br />On GitHub, the HTML representation is unable to render, please try loading this page with nbviewer.org.</b></div><div class=\"sk-container\" hidden><div class=\"sk-item\"><div class=\"sk-estimator sk-toggleable\"><input class=\"sk-toggleable__control sk-hidden--visually\" id=\"sk-estimator-id-106\" type=\"checkbox\" checked><label for=\"sk-estimator-id-106\" class=\"sk-toggleable__label sk-toggleable__label-arrow\">DecisionTreeClassifier</label><div class=\"sk-toggleable__content\"><pre>DecisionTreeClassifier(max_depth=16, min_samples_split=10)</pre></div></div></div></div></div>"
            ]
          },
          "metadata": {},
          "execution_count": 245
        }
      ]
    },
    {
      "cell_type": "markdown",
      "source": [
        "### SOAL 6d\n",
        "[2.5]\n",
        "\n",
        "Lakukan 4 buah prediksi (karena terdapat 4 model) dengan X_test dari masing-masing dataset dan **munculkan** hasil evaluasi terhadap label y_test dari masing-masing dataset.\n",
        "\n",
        "**Note**: Terdapat 2 function metrics, yakni `regression_metrics` dan `classification_metrics`.\n"
      ],
      "metadata": {
        "id": "WxFhMf8AYqBj"
      }
    },
    {
      "cell_type": "code",
      "source": [
        "predicted = best_hp_rf_regression.predict(X_admission_test)\n",
        "regression_metrics(predicted, Y_admission_test)"
      ],
      "metadata": {
        "id": "NGL7-HtANxEV",
        "colab": {
          "base_uri": "https://localhost:8080/"
        },
        "outputId": "8560398c-307b-4cc4-f47f-53b81c759d52"
      },
      "execution_count": 246,
      "outputs": [
        {
          "output_type": "stream",
          "name": "stdout",
          "text": [
            "MAE: 0.05035571428571429\n",
            "MSE: 0.004374832214285717\n",
            "RMSE: 0.06614251442367244\n",
            "R_squared: 0.6519731690448396\n"
          ]
        }
      ]
    },
    {
      "cell_type": "code",
      "source": [
        "predicted = best_hp_dt_regression.predict(X_admission_test)\n",
        "regression_metrics(predicted, Y_admission_test)"
      ],
      "metadata": {
        "colab": {
          "base_uri": "https://localhost:8080/"
        },
        "id": "dbX_pD6n_0Ku",
        "outputId": "37ff456c-6608-40d4-e55f-72aac4a04b81"
      },
      "execution_count": 247,
      "outputs": [
        {
          "output_type": "stream",
          "name": "stdout",
          "text": [
            "MAE: 0.05892515006002402\n",
            "MSE: 0.0056308630141225485\n",
            "RMSE: 0.0750390765809558\n",
            "R_squared: 0.5520533555667679\n"
          ]
        }
      ]
    },
    {
      "cell_type": "code",
      "source": [
        "predicted = best_hp_rf_classifier.predict(X_red_test)\n",
        "classification_metrics(predicted, Y_red_test)"
      ],
      "metadata": {
        "colab": {
          "base_uri": "https://localhost:8080/"
        },
        "id": "cfy_KycP_4l_",
        "outputId": "c7b05889-739d-4416-dd31-516aeeb726d0"
      },
      "execution_count": 248,
      "outputs": [
        {
          "output_type": "stream",
          "name": "stdout",
          "text": [
            "Accuracy: 0.8372093023255814\n",
            "F1 Score: 0.8202881715601625\n",
            "Recall Score: 0.8241457002242667\n",
            "Precision Score: 0.8209934405109246\n"
          ]
        }
      ]
    },
    {
      "cell_type": "code",
      "source": [
        "predicted = best_hp_dt_classifier.predict(X_red_test)\n",
        "classification_metrics(predicted, Y_red_test)"
      ],
      "metadata": {
        "colab": {
          "base_uri": "https://localhost:8080/"
        },
        "id": "IJnN4Vb__-wR",
        "outputId": "c430e832-837f-4c06-f165-4c35200559b7"
      },
      "execution_count": 249,
      "outputs": [
        {
          "output_type": "stream",
          "name": "stdout",
          "text": [
            "Accuracy: 0.7286821705426356\n",
            "F1 Score: 0.7103503428138711\n",
            "Recall Score: 0.7138633273363947\n",
            "Precision Score: 0.7092851030853788\n"
          ]
        }
      ]
    },
    {
      "cell_type": "markdown",
      "source": [
        "## SOAL 7 [5]\n",
        "1. [2] Jelaskan konsep bootstrapping dalam konteks Random Forests. Bagaimana hal ini berkontribusi pada keragaman dari berbagai decision trees yang terbentuk?\n",
        "\n",
        "Bootstrapping dalam konteks random forest melakukan beberapa step seperti berikut:\n",
        "- Bootstrapping Dataset: Untuk setiap decision tree yang akan dibuat dalam Random Forest, dataset pelatihan asli diambil secara acak dengan penggantian. Ini berarti bahwa dalam setiap dataset pelatihan untuk decision tree tersebut, beberapa contoh data akan muncul lebih dari sekali, sementara yang lain mungkin tidak muncul sama sekali.\n",
        "\n",
        "Setelah bootstrapping selesai, biasanya random forest akan melakukan step seperti berikut:\n",
        "- Pembentukan Decision Trees: Setiap decision tree dalam Random Forest kemudian dibentuk dengan menggunakan dataset pelatihan bootstrapped yang unik.\n",
        "\n",
        "- Aggregasi Hasil: Setelah semua decision trees telah dibuat, hasil prediksi dari setiap tree digabungkan untuk menghasilkan prediksi akhir. Dalam masalah regresi, ini bisa berarti mengambil rata-rata prediksi dari semua decision trees, sedangkan dalam masalah klasifikasi, ini bisa berarti mengambil mayoritas dari prediksi mereka.\n",
        "\n",
        "Bootstrapping berkontribusi pada keragaman berbagai decision tree pada random forest:\n",
        "\n",
        "- Variasi dalam dataset: Dengan menggunakan bootstrapping, setiap decision tree dilatih pada dataset yang sedikit berbeda. Sebagian besar contoh data akan ada dalam setiap dataset, tetapi ada juga elemen acak dalam setiap salinan. Ini menciptakan variasi dalam decision tree yang dihasilkan.\n",
        "\n",
        "- Pengurangan overfitting: Karena setiap decision tree melihat dataset yang berbeda, masing-masing cenderung mengambil pola yang berbeda dari data pelatihan. Ini membantu mengurangi overfitting, di mana decision tree mungkin terlalu cocok dengan data pelatihan khusus, tetapi tidak umum. Dengan demikian, bootstrapping membantu memperbaiki generalisasi model.\n",
        "\n",
        "2. [1] Bagaimana prediksi dari seluruh Decision Tree Regressor digabungkan dalam Random Forest Regressor?\n",
        "\n",
        "Answer: Biasanya random forest akan menggunakan rata-rata prediksi dari semua decision tree sehingga menemukan prediksi yang cocok menampilkan prediksi kita.\n",
        "\n",
        "3. [2] Jelaskanlah bagaimana Random Forest dapat digunakan untuk masalah klasifikasi multi-kelas, seperti pada kasus prediksi kelas Red Wine pada Lab 4 ini.\n",
        "\n",
        "- Bootstrapping: Random Forest menggunakan bootstrapping, yang merupakan teknik pengambilan sampel dengan penggantian, untuk menciptakan variasi dalam dataset training yang digunakan oleh setiap decision tree.\n",
        "- Pembentukan Decision Trees: Setiap decision tree dalam Random Forest dibentuk menggunakan dataset training yang diberikan.\n",
        "Prediksi Klasifikasi: Setelah semua decision trees dalam Random Forest telah dibuat, hasil prediksi dari setiap tree digabungkan untuk menghasilkan prediksi akhir untuk masalah klasifikasi multi-kelas. Ada beberapa metode untuk melakukan ini, tetapi yang paling umum adalah:\n",
        " > Majority Voting: Untuk setiap sampel data, setiap decision tree memberikan prediksi kelas. Prediksi akhir dihitung dengan mengambil mayoritas dari prediksi ini. Kelas dengan jumlah prediksi terbanyak menjadi kelas yang dipilih sebagai prediksi akhir.\n",
        "- Evaluasi Model: Setelah mendapatkan prediksi akhir, kita mengukur kinerja model menggunakan method classification_metrics yang memberikan nilai dari  akurasi, presisi, recall, F1-score."
      ],
      "metadata": {
        "id": "xQUbE0GUZIH5"
      }
    },
    {
      "cell_type": "markdown",
      "source": [
        "## SOAL 8 [5]\n",
        "\n",
        "1. [2.5] Random Forest memasukkan unsur *randomness* melalui bootstrapping dan *feature selection*. Bagaimanakah hal ini dapat memengaruhi reproduksibilitas hasil, dan apa yang dapat dilakukan untuk memastikan *output* yang konsisten?\n",
        "\n",
        "  ##### Melalui sisi Bootstrapping\n",
        "  - Bootstrapping adalah proses di mana setiap decision tree dalam Random Forest dibangun dari sampel data yang diambil secara acak dari training dataset dengan penggantian. Tentu saja, tanpa melakukan suatu cara maka hasil prediksi ini akan berbeda karena pemilihan random dataset yang berbeda-beda setiap kali dijalankan. Oleh karena itu, cara untuk memastikan reproduksibilitas dengan bootstrapping adalah dengan mengatur random state yang sama sebelum melatih model. Melalui random state ini kita dapat memastikan bahwa hasil prediksi yang diperoleh akan konsisten.  \n",
        "\n",
        "  ##### Melalui Feature Selection\n",
        "  - Setiap kali decision tree dalam Random Forest memilih fitur untuk membagi node, hanya sebagian kecil fitur yang diambil dalam pertimbangan. Ini juga memperkenalkan unsur randomness dalam pembentukan setiap pohon. Oleh karena itu, tentu saja apabila kita tidak melakukan spesifikasi fitur-fitur yang diambil maka hal ini akan mempengaruhi reproduksibilitas hasil. Oleh karena itu, kita dapat memastikan bahwa parameter yang mengatur bagaimana fitur dipilih (misalnya, jumlah maksimum fitur yang akan dipertimbangkan dalam setiap pemisahan node) tetap sama.\n",
        "\n",
        "2. [2.5] Apakah *scaling* atau *feature normalization* diperlukan untuk Random Forest? Mengapa atau mengapa tidak?\n",
        "\n",
        "- Random Forest adalah salah satu algoritma machine learning yang cenderung tidak memerlukan scaling atau feature normalization. Hal ini karena Random Forest bekerja dengan membagi data ke dalam decision tree dan menggunakan beberapa decision tree (ensemble) untuk membuat prediksi. Tidak hanya itu, setiap decision tree dibuat berdasarkan subset acak dari fitur-fitur, perbedaan dalam skala atau normalisasi fitur-fitur biasanya tidak memengaruhi hasil secara signifikan.\n",
        "\n",
        "- Lebih dari itu, karena dalam random forest tidak ada perhitungan jarak seperti algoritma lain seperti KNN, maka perbedaan yang harusnya dilakukan scaling ini tidak terlalu relevan.   \n",
        "\n"
      ],
      "metadata": {
        "id": "M9Kf55-Zbsnb"
      }
    },
    {
      "cell_type": "markdown",
      "source": [
        "# Kaggle Bonus Code"
      ],
      "metadata": {
        "id": "nRxmL_QF882e"
      }
    },
    {
      "cell_type": "code",
      "source": [
        "admission_test = pd.read_csv('admission_test.csv')\n",
        "\n",
        "df_test = admission_test[['Id']].copy()\n",
        "X_test_admission_kaggle = admission_test.drop(columns=['Id', 'Serial No.'])\n",
        "\n",
        "prediction = best_hp_rf_regression.predict(X_test_admission_kaggle)\n",
        "\n",
        "df_test['Chance Of Admit'] = prediction\n",
        "\n",
        "df_test.to_csv('admission_kaggle.csv', index=False)"
      ],
      "metadata": {
        "id": "2EkjPR9B8_UN"
      },
      "execution_count": 250,
      "outputs": []
    },
    {
      "cell_type": "code",
      "source": [
        "red_wine_test = pd.read_csv('Red_Wine_Quality_Test.csv')\n",
        "\n",
        "df_test = red_wine_test[['Id']].copy()\n",
        "X_test_red_kaggle = red_wine_test.drop(columns=['Id'])\n",
        "\n",
        "prediction = best_hp_rf_classifier.predict(X_test_red_kaggle)\n",
        "\n",
        "df_test['quality'] = prediction\n",
        "\n",
        "df_test.to_csv('wine_test.csv', index=False)"
      ],
      "metadata": {
        "id": "aQTe8BYE9EUF"
      },
      "execution_count": 251,
      "outputs": []
    }
  ],
  "metadata": {
    "colab": {
      "provenance": []
    },
    "kernelspec": {
      "display_name": "Python 3",
      "name": "python3"
    },
    "language_info": {
      "name": "python"
    }
  },
  "nbformat": 4,
  "nbformat_minor": 0
}