{
 "cells": [
  {
   "cell_type": "code",
   "execution_count": 1,
   "id": "27e46c08",
   "metadata": {},
   "outputs": [
    {
     "name": "stdout",
     "output_type": "stream",
     "text": [
      "['Yosua Christian Hia ', 'Ratu aura shafira', 'Mutiara Annissa', 'Ravaella Anggun Octavia Sinambela', 'Aisha Najma Fachrany', 'Amalia Khairunnisa Darwis']\n"
     ]
    }
   ],
   "source": [
    "from numpy import nan\n",
    "import pandas as pd\n",
    "\n",
    "df = pd.read_csv(\"kelompok.csv\")\n",
    "\n",
    "nan_emails = df[df['Email'].isna()]\n",
    "\n",
    "\n",
    "# Get the corresponding 'Nama Lengkap' values\n",
    "nama_lengkap_values = nan_emails['Nama Lengkap'].tolist()\n",
    "\n",
    "print(nama_lengkap_values)"
   ]
  },
  {
   "cell_type": "code",
   "execution_count": null,
   "id": "d120477b",
   "metadata": {},
   "outputs": [],
   "source": []
  }
 ],
 "metadata": {
  "kernelspec": {
   "display_name": "Python 3 (ipykernel)",
   "language": "python",
   "name": "python3"
  },
  "language_info": {
   "codemirror_mode": {
    "name": "ipython",
    "version": 3
   },
   "file_extension": ".py",
   "mimetype": "text/x-python",
   "name": "python",
   "nbconvert_exporter": "python",
   "pygments_lexer": "ipython3",
   "version": "3.10.6"
  }
 },
 "nbformat": 4,
 "nbformat_minor": 5
}
