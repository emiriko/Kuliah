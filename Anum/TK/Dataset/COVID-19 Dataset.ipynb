{
 "cells": [
  {
   "cell_type": "code",
   "execution_count": 5,
   "id": "861dc319",
   "metadata": {},
   "outputs": [
    {
     "data": {
      "text/plain": [
       "'[1.3862942611198905; -999999994.7218853; -999999994.1449281; -999999993.4720421; -999999992.8291116; -999999992.5740464; -999999991.8052183; -999999991.7042019; -999999992.0026731; -999999990.9677104; -999999991.1640623; -999999990.6086723; -999999991.1741463; -999999991.623219; -999999991.5383195; -999999991.4145876; -999999989.7631522; -999999989.5688297; -999999991.0385057; -999999992.9594636; -999999993.314139; -999999994.4987417; -999999994.4202702; -999999989.7891381; -999999989.4743512; -999999992.4331715; -999999995.3271712; -999999994.0811062; -999999992.6135292; -999999991.2730322; -999999991.9105176; -999999992.9664935; -999999991.4926552; -999999991.7961487]'"
      ]
     },
     "execution_count": 5,
     "metadata": {},
     "output_type": "execute_result"
    }
   ],
   "source": [
    "import pandas as pd\n",
    "import numpy as np\n",
    "import random as rd \n",
    "\n",
    "df = pd.read_csv(\"covid-data.csv\")\n",
    "\n",
    "\n",
    "start_date = '2020-03-01'\n",
    "end_date = '2022-12-31'\n",
    "\n",
    "new_df = df[(df['location'] == \"Indonesia\") & (df['date'] >= start_date) & (df['date'] <= end_date)]\n",
    "\n",
    "end_df = new_df[((pd.to_datetime(new_df['date']).dt.day == 3))]\n",
    "\n",
    "result = end_df.loc[:, ['date', 'new_cases']]\n",
    "\n",
    "result['ln_new_cases'] = np.log(result['new_cases'])\n",
    "\n",
    "result['difference_date'] = pd.to_datetime(result['date']) - pd.to_datetime(start_date)\n",
    "\n",
    "result['days_diff'] = result['difference_date'] / pd.Timedelta(days=1)\n",
    "\n",
    "counter = 0\n",
    "matrix_new_cases = \"\"\n",
    "for index in result['ln_new_cases']:\n",
    "    if(counter == 0):\n",
    "        matrix_new_cases += f\"[{index-10e-8};\" \n",
    "    elif(counter == 33):\n",
    "        matrix_new_cases += f\" {index-10e8}]\"\n",
    "    else:\n",
    "        matrix_new_cases += f\" {index-10e8};\"\n",
    "    counter += 1\n",
    "\n",
    "counter2 = 0\n",
    "matrix_date = \"\"\n",
    "for index in result['days_diff']:\n",
    "    if(counter2 == 0):\n",
    "        matrix_date += f\"[{index*index} {index} 1;\" \n",
    "    elif(counter2 == 33):\n",
    "        matrix_date += f\" {index*index} {index} 1]\"\n",
    "    else:\n",
    "        matrix_date += f\" {index*index} {index} 1;\"\n",
    "    counter2 += 1\n",
    "    \n",
    "polyfit_date = \"\"\n",
    "counter3 = 0\n",
    "for index in result['days_diff']:\n",
    "    if(counter3 == 0):\n",
    "        polyfit_date += f\"[{index};\" \n",
    "    elif(counter3 == 33):\n",
    "        polyfit_date += f\" {index}]\"\n",
    "    else:\n",
    "        polyfit_date += f\" {index};\"\n",
    "    counter3 += 1\n",
    "    \n",
    "matrix_new_cases"
   ]
  },
  {
   "cell_type": "code",
   "execution_count": null,
   "id": "209bc565",
   "metadata": {},
   "outputs": [],
   "source": []
  },
  {
   "cell_type": "code",
   "execution_count": null,
   "id": "e47fd9df",
   "metadata": {},
   "outputs": [],
   "source": []
  },
  {
   "cell_type": "code",
   "execution_count": null,
   "id": "fcf123a2",
   "metadata": {},
   "outputs": [],
   "source": []
  }
 ],
 "metadata": {
  "kernelspec": {
   "display_name": "Python 3 (ipykernel)",
   "language": "python",
   "name": "python3"
  },
  "language_info": {
   "codemirror_mode": {
    "name": "ipython",
    "version": 3
   },
   "file_extension": ".py",
   "mimetype": "text/x-python",
   "name": "python",
   "nbconvert_exporter": "python",
   "pygments_lexer": "ipython3",
   "version": "3.10.6"
  }
 },
 "nbformat": 4,
 "nbformat_minor": 5
}
