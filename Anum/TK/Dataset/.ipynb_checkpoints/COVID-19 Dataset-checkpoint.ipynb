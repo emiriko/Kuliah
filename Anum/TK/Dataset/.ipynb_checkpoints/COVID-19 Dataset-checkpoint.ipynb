{
 "cells": [
  {
   "cell_type": "code",
   "execution_count": 59,
   "id": "861dc319",
   "metadata": {},
   "outputs": [
    {
     "data": {
      "text/plain": [
       "'[1.3862943611198906; 5.278114659230517; 5.855071922202427; 6.52795791762255; 7.170888478512505; 7.425953657077541; 8.19478163844336; 8.295798110636145; 7.997326822998097; 9.032289682032873; 8.835937789319836; 9.391327705757; 8.82585367025321; 8.376781037699493; 8.46168048148598; 8.585412430393381; 10.236847809109337; 10.431170293368542; 8.9614943233096; 7.040536390215956; 6.68586094706836; 5.501258210544727; 5.579729825986222; 10.210861952083599; 10.525648805362787; 7.566828479208331; 4.672828834461906; 5.918893854273146; 7.3864708488298945; 8.726967774991493; 8.089482474360754; 7.033506484287697; 8.507344855361422; 8.203851372183879]'"
      ]
     },
     "execution_count": 59,
     "metadata": {},
     "output_type": "execute_result"
    }
   ],
   "source": [
    "import pandas as pd\n",
    "import numpy as np\n",
    "import random as rd \n",
    "\n",
    "df = pd.read_csv(\"covid-data.csv\")\n",
    "\n",
    "\n",
    "start_date = '2020-03-01'\n",
    "end_date = '2022-12-31'\n",
    "\n",
    "new_df = df[(df['location'] == \"Indonesia\") & (df['date'] >= start_date) & (df['date'] <= end_date)]\n",
    "\n",
    "end_df = new_df[((pd.to_datetime(new_df['date']).dt.day == 3))]\n",
    "\n",
    "result = end_df.loc[:, ['date', 'new_cases']]\n",
    "\n",
    "result['ln_new_cases'] = np.log(result['new_cases'])\n",
    "\n",
    "result['difference_date'] = pd.to_datetime(result['date']) - pd.to_datetime(start_date)\n",
    "\n",
    "result['days_diff'] = result['difference_date'] / pd.Timedelta(days=1)\n",
    "\n",
    "counter = 0\n",
    "matrix_new_cases = \"\"\n",
    "for index in result['ln_new_cases']:\n",
    "    if(counter == 0):\n",
    "        matrix_new_cases += f\"[{index};\" \n",
    "    elif(counter == 33):\n",
    "        matrix_new_cases += f\" {index}]\"\n",
    "    else:\n",
    "        matrix_new_cases += f\" {index};\"\n",
    "    counter += 1\n",
    "\n",
    "counter2 = 0\n",
    "matrix_date = \"\"\n",
    "for index in result['days_diff']:\n",
    "    if(counter2 == 0):\n",
    "        matrix_date += f\"[{index*index} {index} 1;\" \n",
    "    elif(counter2 == 33):\n",
    "        matrix_date += f\" {index*index} {index} 1]\"\n",
    "    else:\n",
    "        matrix_date += f\" {index*index} {index} 1;\"\n",
    "    counter2 += 1\n",
    "    \n",
    "polyfit_date = \"\"\n",
    "counter3 = 0\n",
    "for index in result['days_diff']:\n",
    "    if(counter3 == 0):\n",
    "        polyfit_date += f\"[{index};\" \n",
    "    elif(counter3 == 33):\n",
    "        polyfit_date += f\" {index}]\"\n",
    "    else:\n",
    "        polyfit_date += f\" {index};\"\n",
    "    counter3 += 1\n",
    "    \n",
    "matrix_new_cases"
   ]
  },
  {
   "cell_type": "code",
   "execution_count": null,
   "id": "209bc565",
   "metadata": {},
   "outputs": [],
   "source": []
  },
  {
   "cell_type": "code",
   "execution_count": null,
   "id": "e47fd9df",
   "metadata": {},
   "outputs": [],
   "source": []
  },
  {
   "cell_type": "code",
   "execution_count": null,
   "id": "fcf123a2",
   "metadata": {},
   "outputs": [],
   "source": []
  }
 ],
 "metadata": {
  "kernelspec": {
   "display_name": "Python 3 (ipykernel)",
   "language": "python",
   "name": "python3"
  },
  "language_info": {
   "codemirror_mode": {
    "name": "ipython",
    "version": 3
   },
   "file_extension": ".py",
   "mimetype": "text/x-python",
   "name": "python",
   "nbconvert_exporter": "python",
   "pygments_lexer": "ipython3",
   "version": "3.10.6"
  }
 },
 "nbformat": 4,
 "nbformat_minor": 5
}
